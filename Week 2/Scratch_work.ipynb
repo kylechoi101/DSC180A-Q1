{
 "cells": [
  {
   "cell_type": "code",
   "execution_count": 1,
   "id": "f4fbb846-5a30-4ba2-b726-debfae92ef72",
   "metadata": {},
   "outputs": [],
   "source": [
    "import pandas as pd"
   ]
  },
  {
   "cell_type": "code",
   "execution_count": 2,
   "id": "d6619419-5799-47ac-9632-e9f33177c66f",
   "metadata": {},
   "outputs": [],
   "source": [
    "inflow = pd.read_parquet('/uss/hdsi-prismdata/q1-ucsd-inflows.pqt')\n",
    "outflow = pd.read_parquet('/uss/hdsi-prismdata/q1-ucsd-outflows.pqt')"
   ]
  },
  {
   "cell_type": "code",
   "execution_count": 3,
   "id": "9400a7bc-2701-4e5b-91c6-9b9be5a5e299",
   "metadata": {},
   "outputs": [],
   "source": [
    "in_sample = inflow.head()\n",
    "out_sample = outflow.head()"
   ]
  },
  {
   "cell_type": "code",
   "execution_count": 4,
   "id": "13bee123-7034-465f-8228-198b7bfa17f6",
   "metadata": {
    "scrolled": true
   },
   "outputs": [
    {
     "data": {
      "text/html": [
       "<div>\n",
       "<style scoped>\n",
       "    .dataframe tbody tr th:only-of-type {\n",
       "        vertical-align: middle;\n",
       "    }\n",
       "\n",
       "    .dataframe tbody tr th {\n",
       "        vertical-align: top;\n",
       "    }\n",
       "\n",
       "    .dataframe thead th {\n",
       "        text-align: right;\n",
       "    }\n",
       "</style>\n",
       "<table border=\"1\" class=\"dataframe\">\n",
       "  <thead>\n",
       "    <tr style=\"text-align: right;\">\n",
       "      <th></th>\n",
       "      <th>prism_consumer_id</th>\n",
       "      <th>prism_account_id</th>\n",
       "      <th>memo</th>\n",
       "      <th>amount</th>\n",
       "      <th>posted_date</th>\n",
       "      <th>category</th>\n",
       "    </tr>\n",
       "  </thead>\n",
       "  <tbody>\n",
       "    <tr>\n",
       "      <th>0</th>\n",
       "      <td>0</td>\n",
       "      <td>acc_0</td>\n",
       "      <td>PAYCHECK</td>\n",
       "      <td>2477.02</td>\n",
       "      <td>2022-03-18</td>\n",
       "      <td>PAYCHECK</td>\n",
       "    </tr>\n",
       "    <tr>\n",
       "      <th>1</th>\n",
       "      <td>0</td>\n",
       "      <td>acc_0</td>\n",
       "      <td>EXTERNAL_TRANSFER</td>\n",
       "      <td>100.00</td>\n",
       "      <td>2022-10-25</td>\n",
       "      <td>EXTERNAL_TRANSFER</td>\n",
       "    </tr>\n",
       "    <tr>\n",
       "      <th>2</th>\n",
       "      <td>0</td>\n",
       "      <td>acc_0</td>\n",
       "      <td>MISCELLANEOUS</td>\n",
       "      <td>6.29</td>\n",
       "      <td>2022-08-26</td>\n",
       "      <td>MISCELLANEOUS</td>\n",
       "    </tr>\n",
       "    <tr>\n",
       "      <th>3</th>\n",
       "      <td>0</td>\n",
       "      <td>acc_0</td>\n",
       "      <td>EXTERNAL_TRANSFER</td>\n",
       "      <td>277.00</td>\n",
       "      <td>2022-06-03</td>\n",
       "      <td>EXTERNAL_TRANSFER</td>\n",
       "    </tr>\n",
       "    <tr>\n",
       "      <th>4</th>\n",
       "      <td>0</td>\n",
       "      <td>acc_0</td>\n",
       "      <td>EXTERNAL_TRANSFER</td>\n",
       "      <td>100.00</td>\n",
       "      <td>2022-07-29</td>\n",
       "      <td>EXTERNAL_TRANSFER</td>\n",
       "    </tr>\n",
       "  </tbody>\n",
       "</table>\n",
       "</div>"
      ],
      "text/plain": [
       "   prism_consumer_id prism_account_id               memo   amount posted_date  \\\n",
       "0                  0            acc_0           PAYCHECK  2477.02  2022-03-18   \n",
       "1                  0            acc_0  EXTERNAL_TRANSFER   100.00  2022-10-25   \n",
       "2                  0            acc_0      MISCELLANEOUS     6.29  2022-08-26   \n",
       "3                  0            acc_0  EXTERNAL_TRANSFER   277.00  2022-06-03   \n",
       "4                  0            acc_0  EXTERNAL_TRANSFER   100.00  2022-07-29   \n",
       "\n",
       "            category  \n",
       "0           PAYCHECK  \n",
       "1  EXTERNAL_TRANSFER  \n",
       "2      MISCELLANEOUS  \n",
       "3  EXTERNAL_TRANSFER  \n",
       "4  EXTERNAL_TRANSFER  "
      ]
     },
     "execution_count": 4,
     "metadata": {},
     "output_type": "execute_result"
    }
   ],
   "source": [
    "in_sample"
   ]
  },
  {
   "cell_type": "code",
   "execution_count": 5,
   "id": "f20aa40f-1d4a-4d3c-94f5-f1de34c7b355",
   "metadata": {},
   "outputs": [
    {
     "data": {
      "text/html": [
       "<div>\n",
       "<style scoped>\n",
       "    .dataframe tbody tr th:only-of-type {\n",
       "        vertical-align: middle;\n",
       "    }\n",
       "\n",
       "    .dataframe tbody tr th {\n",
       "        vertical-align: top;\n",
       "    }\n",
       "\n",
       "    .dataframe thead th {\n",
       "        text-align: right;\n",
       "    }\n",
       "</style>\n",
       "<table border=\"1\" class=\"dataframe\">\n",
       "  <thead>\n",
       "    <tr style=\"text-align: right;\">\n",
       "      <th></th>\n",
       "      <th>prism_consumer_id</th>\n",
       "      <th>prism_account_id</th>\n",
       "      <th>memo</th>\n",
       "      <th>amount</th>\n",
       "      <th>posted_date</th>\n",
       "      <th>category</th>\n",
       "    </tr>\n",
       "  </thead>\n",
       "  <tbody>\n",
       "    <tr>\n",
       "      <th>0</th>\n",
       "      <td>0</td>\n",
       "      <td>acc_0</td>\n",
       "      <td>LOAN</td>\n",
       "      <td>900.60</td>\n",
       "      <td>2022-07-05</td>\n",
       "      <td>LOAN</td>\n",
       "    </tr>\n",
       "    <tr>\n",
       "      <th>1</th>\n",
       "      <td>0</td>\n",
       "      <td>acc_0</td>\n",
       "      <td>ATM_CASH</td>\n",
       "      <td>80.00</td>\n",
       "      <td>2022-03-25</td>\n",
       "      <td>ATM_CASH</td>\n",
       "    </tr>\n",
       "    <tr>\n",
       "      <th>2</th>\n",
       "      <td>0</td>\n",
       "      <td>acc_0</td>\n",
       "      <td>TST* Casa Del Rio - Exp Fairlawn OH 09/24</td>\n",
       "      <td>18.42</td>\n",
       "      <td>2022-09-26</td>\n",
       "      <td>FOOD_AND_BEVERAGES</td>\n",
       "    </tr>\n",
       "    <tr>\n",
       "      <th>3</th>\n",
       "      <td>0</td>\n",
       "      <td>acc_0</td>\n",
       "      <td>LOAN</td>\n",
       "      <td>634.00</td>\n",
       "      <td>2023-01-10</td>\n",
       "      <td>LOAN</td>\n",
       "    </tr>\n",
       "    <tr>\n",
       "      <th>4</th>\n",
       "      <td>0</td>\n",
       "      <td>acc_0</td>\n",
       "      <td>Buffalo Wild Wings</td>\n",
       "      <td>26.47</td>\n",
       "      <td>2022-09-12</td>\n",
       "      <td>FOOD_AND_BEVERAGES</td>\n",
       "    </tr>\n",
       "  </tbody>\n",
       "</table>\n",
       "</div>"
      ],
      "text/plain": [
       "   prism_consumer_id prism_account_id  \\\n",
       "0                  0            acc_0   \n",
       "1                  0            acc_0   \n",
       "2                  0            acc_0   \n",
       "3                  0            acc_0   \n",
       "4                  0            acc_0   \n",
       "\n",
       "                                        memo  amount posted_date  \\\n",
       "0                                       LOAN  900.60  2022-07-05   \n",
       "1                                   ATM_CASH   80.00  2022-03-25   \n",
       "2  TST* Casa Del Rio - Exp Fairlawn OH 09/24   18.42  2022-09-26   \n",
       "3                                       LOAN  634.00  2023-01-10   \n",
       "4                         Buffalo Wild Wings   26.47  2022-09-12   \n",
       "\n",
       "             category  \n",
       "0                LOAN  \n",
       "1            ATM_CASH  \n",
       "2  FOOD_AND_BEVERAGES  \n",
       "3                LOAN  \n",
       "4  FOOD_AND_BEVERAGES  "
      ]
     },
     "execution_count": 5,
     "metadata": {},
     "output_type": "execute_result"
    }
   ],
   "source": [
    "out_sample"
   ]
  },
  {
   "cell_type": "code",
   "execution_count": 6,
   "id": "804c3f79-253f-4673-b3b1-7ab2478aacfd",
   "metadata": {},
   "outputs": [
    {
     "data": {
      "text/plain": [
       "(513115, 6)"
      ]
     },
     "execution_count": 6,
     "metadata": {},
     "output_type": "execute_result"
    }
   ],
   "source": [
    "inflow.shape"
   ]
  },
  {
   "cell_type": "code",
   "execution_count": 7,
   "id": "66c69838-4d50-4b35-8698-77b1c67427fc",
   "metadata": {},
   "outputs": [
    {
     "data": {
      "text/plain": [
       "category\n",
       "EXTERNAL_TRANSFER        156533\n",
       "SELF_TRANSFER            110437\n",
       "DEPOSIT                   61345\n",
       "MISCELLANEOUS             55648\n",
       "PAYCHECK                  33138\n",
       "PAYCHECK_PLACEHOLDER      26087\n",
       "REFUND                    23220\n",
       "INVESTMENT_INCOME         17325\n",
       "SMALL_DOLLAR_ADVANCE      13621\n",
       "OTHER_BENEFITS             7708\n",
       "TAX                        3405\n",
       "LOAN                       2513\n",
       "UNEMPLOYMENT_BENEFITS      1961\n",
       "INSURANCE                   174\n",
       "Name: count, dtype: int64"
      ]
     },
     "execution_count": 7,
     "metadata": {},
     "output_type": "execute_result"
    }
   ],
   "source": [
    "inflow['category'].value_counts()"
   ]
  },
  {
   "cell_type": "code",
   "execution_count": 8,
   "id": "9e757bb7-96ea-46c5-b8d4-d490f6c49205",
   "metadata": {},
   "outputs": [
    {
     "data": {
      "text/plain": [
       "category\n",
       "GENERAL_MERCHANDISE    524063\n",
       "FOOD_AND_BEVERAGES     481994\n",
       "EXTERNAL_TRANSFER      320998\n",
       "GROCERIES              219331\n",
       "AUTOMOTIVE             208579\n",
       "ATM_CASH               117651\n",
       "UNCATEGORIZED          117409\n",
       "LOAN                    90945\n",
       "ENTERTAINMENT           80885\n",
       "ESSENTIAL_SERVICES      77137\n",
       "CREDIT_CARD_PAYMENT     75506\n",
       "SELF_TRANSFER           73281\n",
       "TRAVEL                  59647\n",
       "HEALTHCARE_MEDICAL      40842\n",
       "ACCOUNT_FEES            37511\n",
       "INSURANCE               30244\n",
       "PETS                     9266\n",
       "HOME_IMPROVEMENT         8600\n",
       "GIFTS_DONATIONS          4719\n",
       "EDUCATION                4499\n",
       "OVERDRAFT                3386\n",
       "TAX                      3186\n",
       "RENT                     3147\n",
       "BNPL                     1543\n",
       "MORTGAGE                 1119\n",
       "PAYCHECK                 1040\n",
       "CHILD_DEPENDENTS          936\n",
       "BILLS_UTILITIES            23\n",
       "AUTO_LOAN                   1\n",
       "Name: count, dtype: int64"
      ]
     },
     "execution_count": 8,
     "metadata": {},
     "output_type": "execute_result"
    }
   ],
   "source": [
    "outflow['category'].value_counts()"
   ]
  },
  {
   "cell_type": "code",
   "execution_count": 9,
   "id": "4b7d5dfb-ad71-45a2-8860-6cd02fb1fc86",
   "metadata": {},
   "outputs": [
    {
     "data": {
      "text/plain": [
       "memo\n",
       "EXTERNAL_TRANSFER                                                                    320998\n",
       "AUTOMOTIVE                                                                           208579\n",
       "ATM_CASH                                                                             117651\n",
       "UNCATEGORIZED                                                                        117409\n",
       "LOAN                                                                                  90945\n",
       "                                                                                      ...  \n",
       "Par Gators Dockside -                                                                     1\n",
       "Chilis Mandarin                                                                           1\n",
       "Chilis Bay Meadows                                                                        1\n",
       "Southside Liquor                                                                          1\n",
       "POS WITHDRAWALWAL-MART #XXXX XXXX E MCKELLIPS RD MESA AZ  Card 15 #XXXX  MCC XXXX         1\n",
       "Name: count, Length: 528786, dtype: int64"
      ]
     },
     "execution_count": 9,
     "metadata": {},
     "output_type": "execute_result"
    }
   ],
   "source": [
    "outflow['memo'].value_counts()"
   ]
  },
  {
   "cell_type": "code",
   "execution_count": 10,
   "id": "9d208d5b-3822-4377-87f3-91183b167c44",
   "metadata": {},
   "outputs": [
    {
     "data": {
      "text/plain": [
       "memo\n",
       "Amazon            31725\n",
       "7-Eleven          11675\n",
       "Circle K          10148\n",
       "Dollar General     7872\n",
       "Apple              7394\n",
       "Home Depot         7213\n",
       "Costco             4760\n",
       "Google             4567\n",
       "APPLE.COM/BILL     3270\n",
       "Amazon Prime       3159\n",
       "Name: count, dtype: int64"
      ]
     },
     "execution_count": 10,
     "metadata": {},
     "output_type": "execute_result"
    }
   ],
   "source": [
    "outflow[outflow['category']=='GENERAL_MERCHANDISE']['memo'].value_counts()[:10]"
   ]
  },
  {
   "cell_type": "code",
   "execution_count": 11,
   "id": "cfb574bf-5161-46d7-8a7d-56b9e138a6ba",
   "metadata": {},
   "outputs": [
    {
     "data": {
      "text/html": [
       "<div>\n",
       "<style scoped>\n",
       "    .dataframe tbody tr th:only-of-type {\n",
       "        vertical-align: middle;\n",
       "    }\n",
       "\n",
       "    .dataframe tbody tr th {\n",
       "        vertical-align: top;\n",
       "    }\n",
       "\n",
       "    .dataframe thead th {\n",
       "        text-align: right;\n",
       "    }\n",
       "</style>\n",
       "<table border=\"1\" class=\"dataframe\">\n",
       "  <thead>\n",
       "    <tr style=\"text-align: right;\">\n",
       "      <th></th>\n",
       "      <th></th>\n",
       "      <th>prism_consumer_id</th>\n",
       "      <th>prism_account_id</th>\n",
       "      <th>amount</th>\n",
       "      <th>posted_date</th>\n",
       "    </tr>\n",
       "    <tr>\n",
       "      <th>category</th>\n",
       "      <th>memo</th>\n",
       "      <th></th>\n",
       "      <th></th>\n",
       "      <th></th>\n",
       "      <th></th>\n",
       "    </tr>\n",
       "  </thead>\n",
       "  <tbody>\n",
       "    <tr>\n",
       "      <th>ACCOUNT_FEES</th>\n",
       "      <th>ACCOUNT_FEES</th>\n",
       "      <td>37511</td>\n",
       "      <td>37511</td>\n",
       "      <td>37511</td>\n",
       "      <td>37511</td>\n",
       "    </tr>\n",
       "    <tr>\n",
       "      <th>GENERAL_MERCHANDISE</th>\n",
       "      <th>Amazon</th>\n",
       "      <td>31725</td>\n",
       "      <td>31725</td>\n",
       "      <td>31725</td>\n",
       "      <td>31725</td>\n",
       "    </tr>\n",
       "    <tr>\n",
       "      <th>GROCERIES</th>\n",
       "      <th>Walmart</th>\n",
       "      <td>31619</td>\n",
       "      <td>31619</td>\n",
       "      <td>31619</td>\n",
       "      <td>31619</td>\n",
       "    </tr>\n",
       "    <tr>\n",
       "      <th>INSURANCE</th>\n",
       "      <th>INSURANCE</th>\n",
       "      <td>30244</td>\n",
       "      <td>30244</td>\n",
       "      <td>30244</td>\n",
       "      <td>30244</td>\n",
       "    </tr>\n",
       "    <tr>\n",
       "      <th rowspan=\"2\" valign=\"top\">FOOD_AND_BEVERAGES</th>\n",
       "      <th>McDonald's</th>\n",
       "      <td>22670</td>\n",
       "      <td>22670</td>\n",
       "      <td>22670</td>\n",
       "      <td>22670</td>\n",
       "    </tr>\n",
       "    <tr>\n",
       "      <th>Starbucks</th>\n",
       "      <td>12777</td>\n",
       "      <td>12777</td>\n",
       "      <td>12777</td>\n",
       "      <td>12777</td>\n",
       "    </tr>\n",
       "    <tr>\n",
       "      <th rowspan=\"2\" valign=\"top\">GENERAL_MERCHANDISE</th>\n",
       "      <th>7-Eleven</th>\n",
       "      <td>11675</td>\n",
       "      <td>11675</td>\n",
       "      <td>11675</td>\n",
       "      <td>11675</td>\n",
       "    </tr>\n",
       "    <tr>\n",
       "      <th>Circle K</th>\n",
       "      <td>10148</td>\n",
       "      <td>10148</td>\n",
       "      <td>10148</td>\n",
       "      <td>10148</td>\n",
       "    </tr>\n",
       "    <tr>\n",
       "      <th>HOME_IMPROVEMENT</th>\n",
       "      <th>HOME_IMPROVEMENT</th>\n",
       "      <td>8600</td>\n",
       "      <td>8600</td>\n",
       "      <td>8600</td>\n",
       "      <td>8600</td>\n",
       "    </tr>\n",
       "    <tr>\n",
       "      <th>GROCERIES</th>\n",
       "      <th>Kroger</th>\n",
       "      <td>8423</td>\n",
       "      <td>8423</td>\n",
       "      <td>8423</td>\n",
       "      <td>8423</td>\n",
       "    </tr>\n",
       "  </tbody>\n",
       "</table>\n",
       "</div>"
      ],
      "text/plain": [
       "                                      prism_consumer_id  prism_account_id  \\\n",
       "category            memo                                                    \n",
       "ACCOUNT_FEES        ACCOUNT_FEES                  37511             37511   \n",
       "GENERAL_MERCHANDISE Amazon                        31725             31725   \n",
       "GROCERIES           Walmart                       31619             31619   \n",
       "INSURANCE           INSURANCE                     30244             30244   \n",
       "FOOD_AND_BEVERAGES  McDonald's                    22670             22670   \n",
       "                    Starbucks                     12777             12777   \n",
       "GENERAL_MERCHANDISE 7-Eleven                      11675             11675   \n",
       "                    Circle K                      10148             10148   \n",
       "HOME_IMPROVEMENT    HOME_IMPROVEMENT               8600              8600   \n",
       "GROCERIES           Kroger                         8423              8423   \n",
       "\n",
       "                                      amount  posted_date  \n",
       "category            memo                                   \n",
       "ACCOUNT_FEES        ACCOUNT_FEES       37511        37511  \n",
       "GENERAL_MERCHANDISE Amazon             31725        31725  \n",
       "GROCERIES           Walmart            31619        31619  \n",
       "INSURANCE           INSURANCE          30244        30244  \n",
       "FOOD_AND_BEVERAGES  McDonald's         22670        22670  \n",
       "                    Starbucks          12777        12777  \n",
       "GENERAL_MERCHANDISE 7-Eleven           11675        11675  \n",
       "                    Circle K           10148        10148  \n",
       "HOME_IMPROVEMENT    HOME_IMPROVEMENT    8600         8600  \n",
       "GROCERIES           Kroger              8423         8423  "
      ]
     },
     "execution_count": 11,
     "metadata": {},
     "output_type": "execute_result"
    }
   ],
   "source": [
    "outflow.groupby(['category', 'memo']).count().sort_values(by='prism_account_id', ascending=False)[10:20]"
   ]
  },
  {
   "cell_type": "code",
   "execution_count": 12,
   "id": "9d92ee1e-9dda-4466-b7a0-9432d8859b51",
   "metadata": {},
   "outputs": [],
   "source": [
    "df = outflow.groupby(['category', 'memo']).count().sort_values(by='prism_account_id', ascending=False).reset_index().set_index('category')"
   ]
  },
  {
   "cell_type": "code",
   "execution_count": 13,
   "id": "9fb12b65-4a30-4b84-9182-807b8d836b97",
   "metadata": {},
   "outputs": [
    {
     "data": {
      "text/html": [
       "<div>\n",
       "<style scoped>\n",
       "    .dataframe tbody tr th:only-of-type {\n",
       "        vertical-align: middle;\n",
       "    }\n",
       "\n",
       "    .dataframe tbody tr th {\n",
       "        vertical-align: top;\n",
       "    }\n",
       "\n",
       "    .dataframe thead th {\n",
       "        text-align: right;\n",
       "    }\n",
       "</style>\n",
       "<table border=\"1\" class=\"dataframe\">\n",
       "  <thead>\n",
       "    <tr style=\"text-align: right;\">\n",
       "      <th></th>\n",
       "      <th>memo</th>\n",
       "      <th>prism_consumer_id</th>\n",
       "    </tr>\n",
       "    <tr>\n",
       "      <th>category</th>\n",
       "      <th></th>\n",
       "      <th></th>\n",
       "    </tr>\n",
       "  </thead>\n",
       "  <tbody>\n",
       "    <tr>\n",
       "      <th>GROCERIES</th>\n",
       "      <td>Walmart</td>\n",
       "      <td>31619</td>\n",
       "    </tr>\n",
       "    <tr>\n",
       "      <th>GROCERIES</th>\n",
       "      <td>Kroger</td>\n",
       "      <td>8423</td>\n",
       "    </tr>\n",
       "    <tr>\n",
       "      <th>GROCERIES</th>\n",
       "      <td>Target</td>\n",
       "      <td>8343</td>\n",
       "    </tr>\n",
       "    <tr>\n",
       "      <th>GROCERIES</th>\n",
       "      <td>Publix</td>\n",
       "      <td>7033</td>\n",
       "    </tr>\n",
       "    <tr>\n",
       "      <th>GROCERIES</th>\n",
       "      <td>Safeway</td>\n",
       "      <td>6071</td>\n",
       "    </tr>\n",
       "    <tr>\n",
       "      <th>...</th>\n",
       "      <td>...</td>\n",
       "      <td>...</td>\n",
       "    </tr>\n",
       "    <tr>\n",
       "      <th>GROCERIES</th>\n",
       "      <td># WAL-MART #XXXX XXXXX US HWY 19 NORTH CLEARWA...</td>\n",
       "      <td>1</td>\n",
       "    </tr>\n",
       "    <tr>\n",
       "      <th>GROCERIES</th>\n",
       "      <td># WAL-MART #XXXX XXXXX US HWY 19 N TARPON SPRI...</td>\n",
       "      <td>1</td>\n",
       "    </tr>\n",
       "    <tr>\n",
       "      <th>GROCERIES</th>\n",
       "      <td># WAL-MART #XXXX XXXX WATERS AVE WEST TAMPA FL</td>\n",
       "      <td>1</td>\n",
       "    </tr>\n",
       "    <tr>\n",
       "      <th>GROCERIES</th>\n",
       "      <td># NNT HABANA SUPERMAR XXXX W. HILLSBOROUGH AV ...</td>\n",
       "      <td>1</td>\n",
       "    </tr>\n",
       "    <tr>\n",
       "      <th>GROCERIES</th>\n",
       "      <td># MAYO FOOD STORE TAMPA FL</td>\n",
       "      <td>1</td>\n",
       "    </tr>\n",
       "  </tbody>\n",
       "</table>\n",
       "<p>71174 rows × 2 columns</p>\n",
       "</div>"
      ],
      "text/plain": [
       "                                                        memo  \\\n",
       "category                                                       \n",
       "GROCERIES                                            Walmart   \n",
       "GROCERIES                                             Kroger   \n",
       "GROCERIES                                             Target   \n",
       "GROCERIES                                             Publix   \n",
       "GROCERIES                                            Safeway   \n",
       "...                                                      ...   \n",
       "GROCERIES  # WAL-MART #XXXX XXXXX US HWY 19 NORTH CLEARWA...   \n",
       "GROCERIES  # WAL-MART #XXXX XXXXX US HWY 19 N TARPON SPRI...   \n",
       "GROCERIES     # WAL-MART #XXXX XXXX WATERS AVE WEST TAMPA FL   \n",
       "GROCERIES  # NNT HABANA SUPERMAR XXXX W. HILLSBOROUGH AV ...   \n",
       "GROCERIES                         # MAYO FOOD STORE TAMPA FL   \n",
       "\n",
       "           prism_consumer_id  \n",
       "category                      \n",
       "GROCERIES              31619  \n",
       "GROCERIES               8423  \n",
       "GROCERIES               8343  \n",
       "GROCERIES               7033  \n",
       "GROCERIES               6071  \n",
       "...                      ...  \n",
       "GROCERIES                  1  \n",
       "GROCERIES                  1  \n",
       "GROCERIES                  1  \n",
       "GROCERIES                  1  \n",
       "GROCERIES                  1  \n",
       "\n",
       "[71174 rows x 2 columns]"
      ]
     },
     "execution_count": 13,
     "metadata": {},
     "output_type": "execute_result"
    }
   ],
   "source": [
    "#for_loop\n",
    "df.loc['GROCERIES',['memo','prism_consumer_id']]"
   ]
  },
  {
   "cell_type": "markdown",
   "id": "2055428f-7300-4375-84b4-4d6730be05d4",
   "metadata": {},
   "source": [
    "## Start of train test split scratch work"
   ]
  },
  {
   "cell_type": "code",
   "execution_count": 14,
   "id": "0d181063-4302-4aab-b2b9-6b70cc4de170",
   "metadata": {},
   "outputs": [
    {
     "data": {
      "text/plain": [
       "prism_consumer_id\n",
       "5892    5470\n",
       "4215    5041\n",
       "5838    4822\n",
       "5388    4781\n",
       "4756    4460\n",
       "        ... \n",
       "1647       3\n",
       "5062       2\n",
       "4835       2\n",
       "5943       1\n",
       "5457       1\n",
       "Name: count, Length: 2968, dtype: int64"
      ]
     },
     "execution_count": 14,
     "metadata": {},
     "output_type": "execute_result"
    }
   ],
   "source": [
    "outflow['prism_consumer_id'].value_counts()"
   ]
  },
  {
   "cell_type": "code",
   "execution_count": 15,
   "id": "de57e384-56f8-48b4-9ac2-66d59a5c83b4",
   "metadata": {},
   "outputs": [
    {
     "data": {
      "text/plain": [
       "2077.6"
      ]
     },
     "execution_count": 15,
     "metadata": {},
     "output_type": "execute_result"
    }
   ],
   "source": [
    "0.7*2968"
   ]
  },
  {
   "cell_type": "code",
   "execution_count": 16,
   "id": "cf21772c-aa6c-4b10-9ab6-cc20cf46a9ce",
   "metadata": {},
   "outputs": [
    {
     "name": "stderr",
     "output_type": "stream",
     "text": [
      "/tmp/ipykernel_1301/1889637490.py:1: DeprecationWarning: DataFrameGroupBy.apply operated on the grouping columns. This behavior is deprecated, and in a future version of pandas the grouping columns will be excluded from the operation. Either pass `include_groups=False` to exclude the groupings or explicitly select the grouping columns after groupby to silence this warning.\n",
      "  outflow.groupby(\"prism_consumer_id\").apply(lambda x: x)\n"
     ]
    },
    {
     "data": {
      "text/html": [
       "<div>\n",
       "<style scoped>\n",
       "    .dataframe tbody tr th:only-of-type {\n",
       "        vertical-align: middle;\n",
       "    }\n",
       "\n",
       "    .dataframe tbody tr th {\n",
       "        vertical-align: top;\n",
       "    }\n",
       "\n",
       "    .dataframe thead th {\n",
       "        text-align: right;\n",
       "    }\n",
       "</style>\n",
       "<table border=\"1\" class=\"dataframe\">\n",
       "  <thead>\n",
       "    <tr style=\"text-align: right;\">\n",
       "      <th></th>\n",
       "      <th></th>\n",
       "      <th>prism_consumer_id</th>\n",
       "      <th>prism_account_id</th>\n",
       "      <th>memo</th>\n",
       "      <th>amount</th>\n",
       "      <th>posted_date</th>\n",
       "      <th>category</th>\n",
       "    </tr>\n",
       "    <tr>\n",
       "      <th>prism_consumer_id</th>\n",
       "      <th></th>\n",
       "      <th></th>\n",
       "      <th></th>\n",
       "      <th></th>\n",
       "      <th></th>\n",
       "      <th></th>\n",
       "      <th></th>\n",
       "    </tr>\n",
       "  </thead>\n",
       "  <tbody>\n",
       "    <tr>\n",
       "      <th rowspan=\"5\" valign=\"top\">0</th>\n",
       "      <th>0</th>\n",
       "      <td>0</td>\n",
       "      <td>acc_0</td>\n",
       "      <td>LOAN</td>\n",
       "      <td>900.60</td>\n",
       "      <td>2022-07-05</td>\n",
       "      <td>LOAN</td>\n",
       "    </tr>\n",
       "    <tr>\n",
       "      <th>1</th>\n",
       "      <td>0</td>\n",
       "      <td>acc_0</td>\n",
       "      <td>ATM_CASH</td>\n",
       "      <td>80.00</td>\n",
       "      <td>2022-03-25</td>\n",
       "      <td>ATM_CASH</td>\n",
       "    </tr>\n",
       "    <tr>\n",
       "      <th>2</th>\n",
       "      <td>0</td>\n",
       "      <td>acc_0</td>\n",
       "      <td>TST* Casa Del Rio - Exp Fairlawn OH 09/24</td>\n",
       "      <td>18.42</td>\n",
       "      <td>2022-09-26</td>\n",
       "      <td>FOOD_AND_BEVERAGES</td>\n",
       "    </tr>\n",
       "    <tr>\n",
       "      <th>3</th>\n",
       "      <td>0</td>\n",
       "      <td>acc_0</td>\n",
       "      <td>LOAN</td>\n",
       "      <td>634.00</td>\n",
       "      <td>2023-01-10</td>\n",
       "      <td>LOAN</td>\n",
       "    </tr>\n",
       "    <tr>\n",
       "      <th>4</th>\n",
       "      <td>0</td>\n",
       "      <td>acc_0</td>\n",
       "      <td>Buffalo Wild Wings</td>\n",
       "      <td>26.47</td>\n",
       "      <td>2022-09-12</td>\n",
       "      <td>FOOD_AND_BEVERAGES</td>\n",
       "    </tr>\n",
       "    <tr>\n",
       "      <th>...</th>\n",
       "      <th>...</th>\n",
       "      <td>...</td>\n",
       "      <td>...</td>\n",
       "      <td>...</td>\n",
       "      <td>...</td>\n",
       "      <td>...</td>\n",
       "      <td>...</td>\n",
       "    </tr>\n",
       "    <tr>\n",
       "      <th rowspan=\"4\" valign=\"top\">5941</th>\n",
       "      <th>2597484</th>\n",
       "      <td>5941</td>\n",
       "      <td>acc_9524</td>\n",
       "      <td>ATM_CASH</td>\n",
       "      <td>2.06</td>\n",
       "      <td>2023-01-25</td>\n",
       "      <td>ATM_CASH</td>\n",
       "    </tr>\n",
       "    <tr>\n",
       "      <th>2597485</th>\n",
       "      <td>5941</td>\n",
       "      <td>acc_9524</td>\n",
       "      <td>ATM_CASH</td>\n",
       "      <td>262.88</td>\n",
       "      <td>2023-01-25</td>\n",
       "      <td>ATM_CASH</td>\n",
       "    </tr>\n",
       "    <tr>\n",
       "      <th>2597486</th>\n",
       "      <td>5941</td>\n",
       "      <td>acc_9524</td>\n",
       "      <td>ATM_CASH</td>\n",
       "      <td>10.00</td>\n",
       "      <td>2023-01-25</td>\n",
       "      <td>ATM_CASH</td>\n",
       "    </tr>\n",
       "    <tr>\n",
       "      <th>2597487</th>\n",
       "      <td>5941</td>\n",
       "      <td>acc_9524</td>\n",
       "      <td>UNCATEGORIZED</td>\n",
       "      <td>35.13</td>\n",
       "      <td>2023-01-25</td>\n",
       "      <td>UNCATEGORIZED</td>\n",
       "    </tr>\n",
       "    <tr>\n",
       "      <th>5943</th>\n",
       "      <th>2467072</th>\n",
       "      <td>5943</td>\n",
       "      <td>acc_9526</td>\n",
       "      <td>CIRCLE K # XXXXX, MACON, GA</td>\n",
       "      <td>0.98</td>\n",
       "      <td>2022-10-06</td>\n",
       "      <td>GENERAL_MERCHANDISE</td>\n",
       "    </tr>\n",
       "  </tbody>\n",
       "</table>\n",
       "<p>2597488 rows × 6 columns</p>\n",
       "</div>"
      ],
      "text/plain": [
       "                           prism_consumer_id prism_account_id  \\\n",
       "prism_consumer_id                                               \n",
       "0                 0                        0            acc_0   \n",
       "                  1                        0            acc_0   \n",
       "                  2                        0            acc_0   \n",
       "                  3                        0            acc_0   \n",
       "                  4                        0            acc_0   \n",
       "...                                      ...              ...   \n",
       "5941              2597484               5941         acc_9524   \n",
       "                  2597485               5941         acc_9524   \n",
       "                  2597486               5941         acc_9524   \n",
       "                  2597487               5941         acc_9524   \n",
       "5943              2467072               5943         acc_9526   \n",
       "\n",
       "                                                                memo  amount  \\\n",
       "prism_consumer_id                                                              \n",
       "0                 0                                             LOAN  900.60   \n",
       "                  1                                         ATM_CASH   80.00   \n",
       "                  2        TST* Casa Del Rio - Exp Fairlawn OH 09/24   18.42   \n",
       "                  3                                             LOAN  634.00   \n",
       "                  4                               Buffalo Wild Wings   26.47   \n",
       "...                                                              ...     ...   \n",
       "5941              2597484                                   ATM_CASH    2.06   \n",
       "                  2597485                                   ATM_CASH  262.88   \n",
       "                  2597486                                   ATM_CASH   10.00   \n",
       "                  2597487                              UNCATEGORIZED   35.13   \n",
       "5943              2467072                CIRCLE K # XXXXX, MACON, GA    0.98   \n",
       "\n",
       "                          posted_date             category  \n",
       "prism_consumer_id                                           \n",
       "0                 0        2022-07-05                 LOAN  \n",
       "                  1        2022-03-25             ATM_CASH  \n",
       "                  2        2022-09-26   FOOD_AND_BEVERAGES  \n",
       "                  3        2023-01-10                 LOAN  \n",
       "                  4        2022-09-12   FOOD_AND_BEVERAGES  \n",
       "...                               ...                  ...  \n",
       "5941              2597484  2023-01-25             ATM_CASH  \n",
       "                  2597485  2023-01-25             ATM_CASH  \n",
       "                  2597486  2023-01-25             ATM_CASH  \n",
       "                  2597487  2023-01-25        UNCATEGORIZED  \n",
       "5943              2467072  2022-10-06  GENERAL_MERCHANDISE  \n",
       "\n",
       "[2597488 rows x 6 columns]"
      ]
     },
     "execution_count": 16,
     "metadata": {},
     "output_type": "execute_result"
    }
   ],
   "source": [
    "outflow.groupby(\"prism_consumer_id\").apply(lambda x: x)"
   ]
  },
  {
   "cell_type": "code",
   "execution_count": 17,
   "id": "92a0b054-2a7d-4ce4-9fc9-04f0ff61fe7c",
   "metadata": {},
   "outputs": [],
   "source": [
    "a=outflow[\"prism_consumer_id\"].unique()"
   ]
  },
  {
   "cell_type": "code",
   "execution_count": 18,
   "id": "b65a5d6e-f0bd-4946-9d2a-60ccd5f6a040",
   "metadata": {},
   "outputs": [],
   "source": [
    "b=inflow[\"prism_consumer_id\"].unique()"
   ]
  },
  {
   "cell_type": "code",
   "execution_count": 19,
   "id": "ce9fa3c0-c86e-4249-9d56-a7c5fbce9e93",
   "metadata": {},
   "outputs": [],
   "source": [
    "# all(a==b)"
   ]
  },
  {
   "cell_type": "code",
   "execution_count": 20,
   "id": "ce661912-8ac8-4a57-b27e-2cd849dc34a1",
   "metadata": {},
   "outputs": [],
   "source": [
    "from sklearn.model_selection import train_test_split\n",
    "ids = outflow['prism_consumer_id'].unique()\n",
    "df_A = outflow\n",
    "df_B = inflow\n",
    "train_ids, test_ids = train_test_split(ids, test_size=0.25)\n",
    "train_A = df_A[df_A['prism_consumer_id'].isin(train_ids)]\n",
    "test_A  = df_A[df_A['prism_consumer_id'].isin(test_ids)]\n",
    "train_B = df_B[df_B['prism_consumer_id'].isin(train_ids)]\n",
    "test_B  = df_B[df_B['prism_consumer_id'].isin(test_ids)]"
   ]
  },
  {
   "cell_type": "code",
   "execution_count": 21,
   "id": "7dba2684-7052-4d5a-8c6e-b68a63d4f4eb",
   "metadata": {},
   "outputs": [
    {
     "data": {
      "text/plain": [
       "2226"
      ]
     },
     "execution_count": 21,
     "metadata": {},
     "output_type": "execute_result"
    }
   ],
   "source": [
    "len(train_A['prism_consumer_id'].unique())"
   ]
  },
  {
   "cell_type": "code",
   "execution_count": 22,
   "id": "11cd7e1f-3622-429d-ab7d-eb107ff038ac",
   "metadata": {},
   "outputs": [
    {
     "data": {
      "text/plain": [
       "2225"
      ]
     },
     "execution_count": 22,
     "metadata": {},
     "output_type": "execute_result"
    }
   ],
   "source": [
    "len(train_B['prism_consumer_id'].unique())"
   ]
  },
  {
   "cell_type": "code",
   "execution_count": 23,
   "id": "0c1178bd-c22a-4dd3-958e-e04d93d1e7b3",
   "metadata": {},
   "outputs": [
    {
     "data": {
      "text/plain": [
       "2226"
      ]
     },
     "execution_count": 23,
     "metadata": {},
     "output_type": "execute_result"
    }
   ],
   "source": [
    "len(train_ids)"
   ]
  },
  {
   "cell_type": "code",
   "execution_count": 25,
   "id": "532182ab-4540-4fcb-9326-f2ad306b87b6",
   "metadata": {},
   "outputs": [
    {
     "name": "stdout",
     "output_type": "stream",
     "text": [
      "5943\n"
     ]
    }
   ],
   "source": [
    "for i in train_A['prism_consumer_id'].unique():\n",
    "    if i not in train_B['prism_consumer_id'].unique():\n",
    "        print(i)"
   ]
  },
  {
   "cell_type": "code",
   "execution_count": 27,
   "id": "d29aa3f7-ab1b-482b-90ab-9ab21c28835c",
   "metadata": {},
   "outputs": [
    {
     "data": {
      "text/html": [
       "<div>\n",
       "<style scoped>\n",
       "    .dataframe tbody tr th:only-of-type {\n",
       "        vertical-align: middle;\n",
       "    }\n",
       "\n",
       "    .dataframe tbody tr th {\n",
       "        vertical-align: top;\n",
       "    }\n",
       "\n",
       "    .dataframe thead th {\n",
       "        text-align: right;\n",
       "    }\n",
       "</style>\n",
       "<table border=\"1\" class=\"dataframe\">\n",
       "  <thead>\n",
       "    <tr style=\"text-align: right;\">\n",
       "      <th></th>\n",
       "      <th>prism_consumer_id</th>\n",
       "      <th>prism_account_id</th>\n",
       "      <th>memo</th>\n",
       "      <th>amount</th>\n",
       "      <th>posted_date</th>\n",
       "      <th>category</th>\n",
       "    </tr>\n",
       "  </thead>\n",
       "  <tbody>\n",
       "  </tbody>\n",
       "</table>\n",
       "</div>"
      ],
      "text/plain": [
       "Empty DataFrame\n",
       "Columns: [prism_consumer_id, prism_account_id, memo, amount, posted_date, category]\n",
       "Index: []"
      ]
     },
     "execution_count": 27,
     "metadata": {},
     "output_type": "execute_result"
    }
   ],
   "source": [
    "inflow[inflow['prism_consumer_id']==5943]"
   ]
  },
  {
   "cell_type": "code",
   "execution_count": 28,
   "id": "7b01aadf-72c9-4bee-8fcb-7b7b7817eb8a",
   "metadata": {
    "scrolled": true
   },
   "outputs": [
    {
     "data": {
      "text/html": [
       "<div>\n",
       "<style scoped>\n",
       "    .dataframe tbody tr th:only-of-type {\n",
       "        vertical-align: middle;\n",
       "    }\n",
       "\n",
       "    .dataframe tbody tr th {\n",
       "        vertical-align: top;\n",
       "    }\n",
       "\n",
       "    .dataframe thead th {\n",
       "        text-align: right;\n",
       "    }\n",
       "</style>\n",
       "<table border=\"1\" class=\"dataframe\">\n",
       "  <thead>\n",
       "    <tr style=\"text-align: right;\">\n",
       "      <th></th>\n",
       "      <th>prism_consumer_id</th>\n",
       "      <th>prism_account_id</th>\n",
       "      <th>memo</th>\n",
       "      <th>amount</th>\n",
       "      <th>posted_date</th>\n",
       "      <th>category</th>\n",
       "    </tr>\n",
       "  </thead>\n",
       "  <tbody>\n",
       "    <tr>\n",
       "      <th>2467072</th>\n",
       "      <td>5943</td>\n",
       "      <td>acc_9526</td>\n",
       "      <td>CIRCLE K # XXXXX, MACON, GA</td>\n",
       "      <td>0.98</td>\n",
       "      <td>2022-10-06</td>\n",
       "      <td>GENERAL_MERCHANDISE</td>\n",
       "    </tr>\n",
       "  </tbody>\n",
       "</table>\n",
       "</div>"
      ],
      "text/plain": [
       "         prism_consumer_id prism_account_id                         memo  \\\n",
       "2467072               5943         acc_9526  CIRCLE K # XXXXX, MACON, GA   \n",
       "\n",
       "         amount posted_date             category  \n",
       "2467072    0.98  2022-10-06  GENERAL_MERCHANDISE  "
      ]
     },
     "execution_count": 28,
     "metadata": {},
     "output_type": "execute_result"
    }
   ],
   "source": [
    "outflow[outflow['prism_consumer_id']==5943]"
   ]
  },
  {
   "cell_type": "code",
   "execution_count": 8,
   "id": "0ad009f3-ea00-4fc8-b979-a4a87242f893",
   "metadata": {},
   "outputs": [],
   "source": [
    "a= outflow[\"prism_consumer_id\"].unique()"
   ]
  },
  {
   "cell_type": "code",
   "execution_count": 9,
   "id": "76fc93aa-7273-4c7a-bfc7-bdfde2e1b971",
   "metadata": {},
   "outputs": [],
   "source": [
    "b =inflow[\"prism_consumer_id\"].unique()"
   ]
  },
  {
   "cell_type": "code",
   "execution_count": 10,
   "id": "7253cbbf-706b-4658-a309-2fd17eb4c92a",
   "metadata": {},
   "outputs": [
    {
     "ename": "ValueError",
     "evalue": "operands could not be broadcast together with shapes (2968,) (2974,) ",
     "output_type": "error",
     "traceback": [
      "\u001b[0;31m---------------------------------------------------------------------------\u001b[0m",
      "\u001b[0;31mValueError\u001b[0m                                Traceback (most recent call last)",
      "Cell \u001b[0;32mIn[10], line 1\u001b[0m\n\u001b[0;32m----> 1\u001b[0m \u001b[38;5;28mall\u001b[39m(\u001b[43ma\u001b[49m\u001b[38;5;241;43m==\u001b[39;49m\u001b[43mb\u001b[49m)\n",
      "\u001b[0;31mValueError\u001b[0m: operands could not be broadcast together with shapes (2968,) (2974,) "
     ]
    }
   ],
   "source": [
    "all(a==b)"
   ]
  },
  {
   "cell_type": "code",
   "execution_count": null,
   "id": "3902c9c4-7161-4399-82fd-ef5a0a845eb1",
   "metadata": {},
   "outputs": [],
   "source": []
  }
 ],
 "metadata": {
  "kernelspec": {
   "display_name": "Python 3 (clean)",
   "language": "python",
   "name": "python3_clean"
  },
  "language_info": {
   "codemirror_mode": {
    "name": "ipython",
    "version": 3
   },
   "file_extension": ".py",
   "mimetype": "text/x-python",
   "name": "python",
   "nbconvert_exporter": "python",
   "pygments_lexer": "ipython3",
   "version": "3.11.9"
  }
 },
 "nbformat": 4,
 "nbformat_minor": 5
}
