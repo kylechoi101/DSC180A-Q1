{
 "cells": [
  {
   "cell_type": "code",
   "execution_count": null,
   "id": "73ccf42c-6618-4971-be87-b7385dd6026d",
   "metadata": {},
   "outputs": [],
   "source": [
    "import pandas as pd\n",
    "from sklearn.model_selection import train_test_split\n",
    "from scipy.stats import ttest_ind"
   ]
  },
  {
   "cell_type": "code",
   "execution_count": 2,
   "id": "5f38ba5a-4e6a-4c8e-892c-a1b3c30ccbd2",
   "metadata": {},
   "outputs": [],
   "source": [
    "inflow = pd.read_parquet('/uss/hdsi-prismdata/q1-ucsd-inflows.pqt')\n",
    "outflow = pd.read_parquet('/uss/hdsi-prismdata/q1-ucsd-outflows.pqt')"
   ]
  },
  {
   "cell_type": "code",
   "execution_count": 3,
   "id": "4107f8ab-f4f5-43ba-9b2e-856bcaf2bf45",
   "metadata": {},
   "outputs": [
    {
     "data": {
      "text/html": [
       "<div>\n",
       "<style scoped>\n",
       "    .dataframe tbody tr th:only-of-type {\n",
       "        vertical-align: middle;\n",
       "    }\n",
       "\n",
       "    .dataframe tbody tr th {\n",
       "        vertical-align: top;\n",
       "    }\n",
       "\n",
       "    .dataframe thead th {\n",
       "        text-align: right;\n",
       "    }\n",
       "</style>\n",
       "<table border=\"1\" class=\"dataframe\">\n",
       "  <thead>\n",
       "    <tr style=\"text-align: right;\">\n",
       "      <th></th>\n",
       "      <th>prism_consumer_id</th>\n",
       "      <th>prism_account_id</th>\n",
       "      <th>memo</th>\n",
       "      <th>amount</th>\n",
       "      <th>posted_date</th>\n",
       "      <th>category</th>\n",
       "    </tr>\n",
       "  </thead>\n",
       "  <tbody>\n",
       "    <tr>\n",
       "      <th>0</th>\n",
       "      <td>0</td>\n",
       "      <td>acc_0</td>\n",
       "      <td>PAYCHECK</td>\n",
       "      <td>2477.02</td>\n",
       "      <td>2022-03-18</td>\n",
       "      <td>PAYCHECK</td>\n",
       "    </tr>\n",
       "    <tr>\n",
       "      <th>1</th>\n",
       "      <td>0</td>\n",
       "      <td>acc_0</td>\n",
       "      <td>EXTERNAL_TRANSFER</td>\n",
       "      <td>100.00</td>\n",
       "      <td>2022-10-25</td>\n",
       "      <td>EXTERNAL_TRANSFER</td>\n",
       "    </tr>\n",
       "    <tr>\n",
       "      <th>2</th>\n",
       "      <td>0</td>\n",
       "      <td>acc_0</td>\n",
       "      <td>MISCELLANEOUS</td>\n",
       "      <td>6.29</td>\n",
       "      <td>2022-08-26</td>\n",
       "      <td>MISCELLANEOUS</td>\n",
       "    </tr>\n",
       "    <tr>\n",
       "      <th>3</th>\n",
       "      <td>0</td>\n",
       "      <td>acc_0</td>\n",
       "      <td>EXTERNAL_TRANSFER</td>\n",
       "      <td>277.00</td>\n",
       "      <td>2022-06-03</td>\n",
       "      <td>EXTERNAL_TRANSFER</td>\n",
       "    </tr>\n",
       "    <tr>\n",
       "      <th>4</th>\n",
       "      <td>0</td>\n",
       "      <td>acc_0</td>\n",
       "      <td>EXTERNAL_TRANSFER</td>\n",
       "      <td>100.00</td>\n",
       "      <td>2022-07-29</td>\n",
       "      <td>EXTERNAL_TRANSFER</td>\n",
       "    </tr>\n",
       "  </tbody>\n",
       "</table>\n",
       "</div>"
      ],
      "text/plain": [
       "   prism_consumer_id prism_account_id               memo   amount posted_date  \\\n",
       "0                  0            acc_0           PAYCHECK  2477.02  2022-03-18   \n",
       "1                  0            acc_0  EXTERNAL_TRANSFER   100.00  2022-10-25   \n",
       "2                  0            acc_0      MISCELLANEOUS     6.29  2022-08-26   \n",
       "3                  0            acc_0  EXTERNAL_TRANSFER   277.00  2022-06-03   \n",
       "4                  0            acc_0  EXTERNAL_TRANSFER   100.00  2022-07-29   \n",
       "\n",
       "            category  \n",
       "0           PAYCHECK  \n",
       "1  EXTERNAL_TRANSFER  \n",
       "2      MISCELLANEOUS  \n",
       "3  EXTERNAL_TRANSFER  \n",
       "4  EXTERNAL_TRANSFER  "
      ]
     },
     "execution_count": 3,
     "metadata": {},
     "output_type": "execute_result"
    }
   ],
   "source": [
    "inflow.head(5)"
   ]
  },
  {
   "cell_type": "code",
   "execution_count": 4,
   "id": "1534bf45-4a19-45b6-9892-4ebe88ee929a",
   "metadata": {},
   "outputs": [
    {
     "data": {
      "text/html": [
       "<div>\n",
       "<style scoped>\n",
       "    .dataframe tbody tr th:only-of-type {\n",
       "        vertical-align: middle;\n",
       "    }\n",
       "\n",
       "    .dataframe tbody tr th {\n",
       "        vertical-align: top;\n",
       "    }\n",
       "\n",
       "    .dataframe thead th {\n",
       "        text-align: right;\n",
       "    }\n",
       "</style>\n",
       "<table border=\"1\" class=\"dataframe\">\n",
       "  <thead>\n",
       "    <tr style=\"text-align: right;\">\n",
       "      <th></th>\n",
       "      <th>prism_consumer_id</th>\n",
       "      <th>prism_account_id</th>\n",
       "      <th>memo</th>\n",
       "      <th>amount</th>\n",
       "      <th>posted_date</th>\n",
       "      <th>category</th>\n",
       "    </tr>\n",
       "  </thead>\n",
       "  <tbody>\n",
       "    <tr>\n",
       "      <th>0</th>\n",
       "      <td>0</td>\n",
       "      <td>acc_0</td>\n",
       "      <td>LOAN</td>\n",
       "      <td>900.60</td>\n",
       "      <td>2022-07-05</td>\n",
       "      <td>LOAN</td>\n",
       "    </tr>\n",
       "    <tr>\n",
       "      <th>1</th>\n",
       "      <td>0</td>\n",
       "      <td>acc_0</td>\n",
       "      <td>ATM_CASH</td>\n",
       "      <td>80.00</td>\n",
       "      <td>2022-03-25</td>\n",
       "      <td>ATM_CASH</td>\n",
       "    </tr>\n",
       "    <tr>\n",
       "      <th>2</th>\n",
       "      <td>0</td>\n",
       "      <td>acc_0</td>\n",
       "      <td>TST* Casa Del Rio - Exp Fairlawn OH 09/24</td>\n",
       "      <td>18.42</td>\n",
       "      <td>2022-09-26</td>\n",
       "      <td>FOOD_AND_BEVERAGES</td>\n",
       "    </tr>\n",
       "    <tr>\n",
       "      <th>3</th>\n",
       "      <td>0</td>\n",
       "      <td>acc_0</td>\n",
       "      <td>LOAN</td>\n",
       "      <td>634.00</td>\n",
       "      <td>2023-01-10</td>\n",
       "      <td>LOAN</td>\n",
       "    </tr>\n",
       "    <tr>\n",
       "      <th>4</th>\n",
       "      <td>0</td>\n",
       "      <td>acc_0</td>\n",
       "      <td>Buffalo Wild Wings</td>\n",
       "      <td>26.47</td>\n",
       "      <td>2022-09-12</td>\n",
       "      <td>FOOD_AND_BEVERAGES</td>\n",
       "    </tr>\n",
       "  </tbody>\n",
       "</table>\n",
       "</div>"
      ],
      "text/plain": [
       "   prism_consumer_id prism_account_id  \\\n",
       "0                  0            acc_0   \n",
       "1                  0            acc_0   \n",
       "2                  0            acc_0   \n",
       "3                  0            acc_0   \n",
       "4                  0            acc_0   \n",
       "\n",
       "                                        memo  amount posted_date  \\\n",
       "0                                       LOAN  900.60  2022-07-05   \n",
       "1                                   ATM_CASH   80.00  2022-03-25   \n",
       "2  TST* Casa Del Rio - Exp Fairlawn OH 09/24   18.42  2022-09-26   \n",
       "3                                       LOAN  634.00  2023-01-10   \n",
       "4                         Buffalo Wild Wings   26.47  2022-09-12   \n",
       "\n",
       "             category  \n",
       "0                LOAN  \n",
       "1            ATM_CASH  \n",
       "2  FOOD_AND_BEVERAGES  \n",
       "3                LOAN  \n",
       "4  FOOD_AND_BEVERAGES  "
      ]
     },
     "execution_count": 4,
     "metadata": {},
     "output_type": "execute_result"
    }
   ],
   "source": [
    "outflow.head(5)"
   ]
  },
  {
   "cell_type": "code",
   "execution_count": 5,
   "id": "fbe20b6d-5f2c-46fb-9090-e0c0d4ab3896",
   "metadata": {},
   "outputs": [
    {
     "data": {
      "text/plain": [
       "{2748, 4192, 4386, 4481, 4813, 4839, 5582}"
      ]
     },
     "execution_count": 5,
     "metadata": {},
     "output_type": "execute_result"
    }
   ],
   "source": [
    "outflow_ids = set(outflow[\"prism_consumer_id\"].unique())\n",
    "inflow_ids = set(inflow[\"prism_consumer_id\"].unique())\n",
    "\n",
    "# Consumers in inflow but not in outflow\n",
    "in_not_out = inflow_ids - outflow_ids\n",
    "in_not_out"
   ]
  },
  {
   "cell_type": "code",
   "execution_count": 6,
   "id": "4c48eb60-ebbf-4c6b-9993-f42b41e488e4",
   "metadata": {},
   "outputs": [
    {
     "data": {
      "text/plain": [
       "{5943}"
      ]
     },
     "execution_count": 6,
     "metadata": {},
     "output_type": "execute_result"
    }
   ],
   "source": [
    "# Consumers in outflow but not in inflow\n",
    "out_not_in = outflow_ids - inflow_ids\n",
    "out_not_in"
   ]
  },
  {
   "cell_type": "code",
   "execution_count": 7,
   "id": "995de1cf-1340-4072-8480-33665d21b88e",
   "metadata": {},
   "outputs": [],
   "source": [
    "#consumers in both inflow and outflow\n",
    "consumers_both = sorted(set(inflow[\"prism_consumer_id\"]).intersection(outflow[\"prism_consumer_id\"]))\n",
    "\n",
    "#80-20 train test split\n",
    "train_ids, test_ids = train_test_split(consumers_both, test_size=0.2, random_state=42)\n",
    "\n",
    "inflow_train = inflow[inflow[\"prism_consumer_id\"].isin(train_ids)]\n",
    "inflow_test  = inflow[inflow[\"prism_consumer_id\"].isin(test_ids)]\n",
    "\n",
    "outflow_train = outflow[outflow[\"prism_consumer_id\"].isin(train_ids)]\n",
    "outflow_test  = outflow[outflow[\"prism_consumer_id\"].isin(test_ids)]"
   ]
  },
  {
   "cell_type": "code",
   "execution_count": 8,
   "id": "6dc95ff3-191e-4963-a581-1ea8456e12c7",
   "metadata": {},
   "outputs": [
    {
     "data": {
      "text/plain": [
       "2373"
      ]
     },
     "execution_count": 8,
     "metadata": {},
     "output_type": "execute_result"
    }
   ],
   "source": [
    "len(inflow_train['prism_consumer_id'].unique())"
   ]
  },
  {
   "cell_type": "code",
   "execution_count": 9,
   "id": "d201cd7a-5044-4915-b68c-d6567c6e8e46",
   "metadata": {},
   "outputs": [
    {
     "data": {
      "text/plain": [
       "594"
      ]
     },
     "execution_count": 9,
     "metadata": {},
     "output_type": "execute_result"
    }
   ],
   "source": [
    "len(inflow_test['prism_consumer_id'].unique())"
   ]
  },
  {
   "cell_type": "code",
   "execution_count": 10,
   "id": "a59a212d-d705-491e-bb13-48341e5d0c37",
   "metadata": {},
   "outputs": [
    {
     "data": {
      "text/plain": [
       "2373"
      ]
     },
     "execution_count": 10,
     "metadata": {},
     "output_type": "execute_result"
    }
   ],
   "source": [
    "len(outflow_train['prism_consumer_id'].unique())"
   ]
  },
  {
   "cell_type": "code",
   "execution_count": 11,
   "id": "63be03c7-9bc4-483f-87eb-f3ed388684ed",
   "metadata": {},
   "outputs": [
    {
     "data": {
      "text/plain": [
       "594"
      ]
     },
     "execution_count": 11,
     "metadata": {},
     "output_type": "execute_result"
    }
   ],
   "source": [
    "len(outflow_test['prism_consumer_id'].unique())"
   ]
  },
  {
   "cell_type": "code",
   "execution_count": 12,
   "id": "4489e89b-3e27-4341-a9c4-d58641d65f36",
   "metadata": {},
   "outputs": [
    {
     "name": "stdout",
     "output_type": "stream",
     "text": [
      "Inflow amount t-test p-value: 4.636829117538466e-15\n",
      "Outflow amount t-test p-value: 1.4156782129930558e-21\n"
     ]
    }
   ],
   "source": [
    "# t-test to check biasness\n",
    "ttest_inflow = ttest_ind(inflow_train[\"amount\"], inflow_test[\"amount\"], equal_var=False)\n",
    "ttest_outflow = ttest_ind(outflow_train[\"amount\"], outflow_test[\"amount\"], equal_var=False)\n",
    "\n",
    "print(\"Inflow amount t-test p-value:\", ttest_inflow.pvalue)\n",
    "print(\"Outflow amount t-test p-value:\", ttest_outflow.pvalue)"
   ]
  },
  {
   "cell_type": "code",
   "execution_count": 13,
   "id": "a9b37af1-43bc-4a5b-8058-5e99257fa5df",
   "metadata": {},
   "outputs": [
    {
     "name": "stdout",
     "output_type": "stream",
     "text": [
      "Inflow_train: 100.0\n",
      "Inflow_test: 100.0\n",
      "Outflow_train: 24.23\n",
      "Outflow_test: 24.4\n"
     ]
    }
   ],
   "source": [
    "# Check medians instead since ammounts are severely skewed (mean in t-test not appropriate above)\n",
    "print(f'Inflow_train: {inflow_train[\"amount\"].median()}\\nInflow_test: {inflow_test[\"amount\"].median()}\\nOutflow_train: {outflow_train[\"amount\"].median()}\\nOutflow_test: {outflow_test[\"amount\"].median()}')"
   ]
  }
 ],
 "metadata": {
  "kernelspec": {
   "display_name": "Python 3 (ipykernel)",
   "language": "python",
   "name": "python3"
  },
  "language_info": {
   "codemirror_mode": {
    "name": "ipython",
    "version": 3
   },
   "file_extension": ".py",
   "mimetype": "text/x-python",
   "name": "python",
   "nbconvert_exporter": "python",
   "pygments_lexer": "ipython3",
   "version": "3.11.9"
  }
 },
 "nbformat": 4,
 "nbformat_minor": 5
}
