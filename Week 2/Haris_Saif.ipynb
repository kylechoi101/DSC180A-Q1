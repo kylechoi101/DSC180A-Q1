{
 "cells": [
  {
   "cell_type": "code",
   "execution_count": 44,
   "id": "2f966acf",
   "metadata": {
    "vscode": {
     "languageId": "plaintext"
    }
   },
   "outputs": [],
   "source": [
    "from sklearn.feature_extraction.text import CountVectorizer\n",
    "import pandas as pd\n",
    "import re"
   ]
  },
  {
   "cell_type": "code",
   "execution_count": 37,
   "id": "db0cf68c-cfff-483d-8a42-43df6c109ca5",
   "metadata": {},
   "outputs": [],
   "source": [
    "inflow = pd.read_parquet('/uss/hdsi-prismdata/q1-ucsd-inflows.pqt')\n",
    "outflow = pd.read_parquet('/uss/hdsi-prismdata/q1-ucsd-outflows.pqt')"
   ]
  },
  {
   "cell_type": "code",
   "execution_count": 95,
   "id": "337a4f35-961a-45b7-868d-cf75f605eec8",
   "metadata": {},
   "outputs": [
    {
     "data": {
      "text/plain": [
       "0                 TST* Casa Del Rio - Exp Fairlawn OH 09/24\n",
       "1                                        Buffalo Wild Wings\n",
       "2                                           Oculus CA 04/16\n",
       "3                               LOS GIRASOLES STOW OH 03/08\n",
       "4                                 BUZZIS LAUNDRY 1 OH 03/28\n",
       "                                ...                        \n",
       "528761    DEBIT CARD WITHDRAWAL PURCHASEAudible*Z295DXXX...\n",
       "528762    DEBIT CARD WITHDRAWAL PURCHASEJACK IN THE BOX ...\n",
       "528763    DEBIT CARD WITHDRAWAL PURCHASEAmazon Prime*TI4...\n",
       "528764    POS WITHDRAWALAZ LOT QUIKTRIP XXXX XXXX E INDI...\n",
       "528765    POS WITHDRAWALWAL-MART #XXXX XXXX E MCKELLIPS ...\n",
       "Length: 528766, dtype: object"
      ]
     },
     "execution_count": 95,
     "metadata": {},
     "output_type": "execute_result"
    }
   ],
   "source": [
    "memos = pd.Series(outflow[outflow['category'] != outflow['memo']]['memo'].unique())\n",
    "memos"
   ]
  },
  {
   "cell_type": "code",
   "execution_count": 78,
   "id": "c6b0e84c-bd16-4382-a385-8b266510badf",
   "metadata": {},
   "outputs": [],
   "source": [
    "# for memo in memos:\n",
    "#     print(memo)"
   ]
  },
  {
   "cell_type": "code",
   "execution_count": 79,
   "id": "c23a48f6-0010-4837-ad3a-d55b4df1e959",
   "metadata": {},
   "outputs": [],
   "source": [
    "# pattern = r\"X{2,}\"\n",
    "# matches = [s for s in memos if re.search(pattern, s)]\n",
    "# matches"
   ]
  },
  {
   "cell_type": "code",
   "execution_count": 161,
   "id": "06bb94d0-b78f-405d-8a68-bb06df67d980",
   "metadata": {},
   "outputs": [
    {
     "name": "stdout",
     "output_type": "stream",
     "text": [
      "0                 TST* Casa Del Rio - Exp Fairlawn OH 09/24\n",
      "1                                        Buffalo Wild Wings\n",
      "2                                           Oculus CA 04/16\n",
      "3                               LOS GIRASOLES STOW OH 03/08\n",
      "4                                 BUZZIS LAUNDRY 1 OH 03/28\n",
      "                                ...                        \n",
      "528761    DEBIT CARD WITHDRAWAL PURCHASEAudible*Z295DXXX...\n",
      "528762    DEBIT CARD WITHDRAWAL PURCHASEJACK IN THE BOX ...\n",
      "528763    DEBIT CARD WITHDRAWAL PURCHASEAmazon Prime*TI4...\n",
      "528764    POS WITHDRAWALAZ LOT QUIKTRIP XXXX XXXX E INDI...\n",
      "528765    POS WITHDRAWALWAL-MART #XXXX XXXX E MCKELLIPS ...\n",
      "Length: 528766, dtype: object\n",
      "0                     tst casa del rio exp fairlawn oh 0924\n",
      "1                                        buffalo wild wings\n",
      "2                                            oculus ca 0416\n",
      "3                                los girasoles stow oh 0308\n",
      "4                                  buzzis laundry 1 oh 0328\n",
      "                                ...                        \n",
      "528761    debit card withdrawal purchaseaudiblez295dxxxx...\n",
      "528762    debit card withdrawal purchasejack in the box ...\n",
      "528763    debit card withdrawal purchaseamazon primeti40...\n",
      "528764    pos withdrawalaz lot quiktrip xxxx xxxx e indi...\n",
      "528765    pos withdrawalwalmart xxxx xxxx e mckellips rd...\n",
      "Length: 528766, dtype: object\n"
     ]
    }
   ],
   "source": [
    "memos_clean = memos.str.lower()\n",
    "memos_clean = memos_clean.apply(lambda x: re.sub(r'[^a-z0-9\\s]', '', x)) # Remove special characters\n",
    "memos_clean = memos_clean.apply(lambda x: re.sub(r'\\s+', ' ', x).strip()) # Remove whitespace\n",
    "print(memos)\n",
    "print(memos_clean)"
   ]
  },
  {
   "cell_type": "code",
   "execution_count": 162,
   "id": "70f7223f-b71e-4329-aa01-9923931ab7c2",
   "metadata": {},
   "outputs": [],
   "source": [
    "vectorizer = CountVectorizer(ngram_range=(5, 5), min_df=10)\n",
    "X = vectorizer.fit_transform(memos_clean)\n",
    "\n",
    "term_counts = X.sum(axis=0)\n",
    "frequencies = [(term, term_counts[0, idx]) for term, idx in vectorizer.vocabulary_.items()]\n",
    "\n",
    "sorted_frequencies = sorted(frequencies, key=lambda x: x[1], reverse=True)"
   ]
  },
  {
   "cell_type": "code",
   "execution_count": 163,
   "id": "08cd42ed-3d9c-4af6-bc5f-6f33e3981241",
   "metadata": {
    "scrolled": true
   },
   "outputs": [
    {
     "name": "stdout",
     "output_type": "stream",
     "text": [
      "\"xxxxxxxxxx ca sxxxxxxxxxxxxxxx card xxxx\": 12881\n",
      "\"pos debit visa check card\": 11250\n",
      "\"debit visa check card xxxx\": 11250\n",
      "\"amzncombill wa sxxxxxxxxxxxxxxx card xxxx\": 11150\n",
      "\"wwwdoordash ca sxxxxxxxxxxxxxxx card xxxx\": 2239\n",
      "\"pos purchase merchant purchase terminal\": 2008\n",
      "\"purchase merchant purchase terminal xxxxxxxx\": 2007\n",
      "\"point of sale debit l340\": 1639\n",
      "\"on xxxxxx from card xxxxxxxxxxxxxxxx\": 1609\n",
      "\"xxxxxxxxxx fl sxxxxxxxxxxxxxxx card xxxx\": 1550\n"
     ]
    }
   ],
   "source": [
    "for term, freq in sorted_frequencies[:10]:\n",
    "    print(f'\"{term}\": {freq}')"
   ]
  },
  {
   "cell_type": "code",
   "execution_count": 164,
   "id": "acdcbb01-afc8-48dc-b3b2-499ba070b53a",
   "metadata": {},
   "outputs": [
    {
     "data": {
      "text/plain": [
       "4190      purchase authorized on 0830 cash appbenjamin x...\n",
       "4789      purchase authorized on 1220 cash appnakia w xx...\n",
       "4793      purchase authorized on 0329 cash appkaylen xxx...\n",
       "4794      purchase authorized on 0419 cash appktr xxxxxx...\n",
       "4800      purchase authorized on 0226 cash appkaylen xxx...\n",
       "                                ...                        \n",
       "525149    purchase authorized on 1024 cash appelizabeth ...\n",
       "525207    purchase authorized on 1108 cash appelizabeth ...\n",
       "525275    purchase authorized on 1201 cash appelizabeth ...\n",
       "525342    purchase authorized on 1220 cash appabby eriq ...\n",
       "525387    purchase authorized on 0104 cash appelizabeth ...\n",
       "Length: 12881, dtype: object"
      ]
     },
     "execution_count": 164,
     "metadata": {},
     "output_type": "execute_result"
    }
   ],
   "source": [
    "memos_clean[memos_clean.str.contains('xxxxxxxxxx ca sxxxxxxxxxxxxxxx card xxxx')]"
   ]
  },
  {
   "cell_type": "code",
   "execution_count": 160,
   "id": "9c40a591-2ed8-41bf-8a50-54562f22ded5",
   "metadata": {},
   "outputs": [
    {
     "data": {
      "text/plain": [
       "7828      pos debit visa check card xxxx amazoncom1x3bt3...\n",
       "7830      pos debit visa check card xxxx instacart159 ht...\n",
       "7834      pos debit visa check card xxxx amazoncom1r2gz0...\n",
       "7839      pos debit visa check card xxxx amazoncom6b0ir4...\n",
       "7841      pos debit visa check card xxxx amazoncompg26a1...\n",
       "                                ...                        \n",
       "526419    pos debit visa check card xxxx mcdonalds fxxxx...\n",
       "526420    pos debit visa check card xxxx fastfix jewelry...\n",
       "526421    pos debit visa check card xxxx lowes xxxx fair...\n",
       "526422    pos debit visa check card xxxx target t xxxx h...\n",
       "526423    pos debit visa check card xxxx sams club vacav...\n",
       "Length: 11667, dtype: object"
      ]
     },
     "execution_count": 160,
     "metadata": {},
     "output_type": "execute_result"
    }
   ],
   "source": [
    "memos_clean[memos_clean.str.lower().str.contains('visa check card')]"
   ]
  },
  {
   "cell_type": "code",
   "execution_count": 62,
   "id": "205ffe70-5128-4b36-9225-e738f8f9431e",
   "metadata": {},
   "outputs": [],
   "source": [
    "# for memo in pd.Series(memos).str.split():\n",
    "#     if '/' in memo[0]:\n",
    "#         print(memo)"
   ]
  }
 ],
 "metadata": {
  "kernelspec": {
   "display_name": "Python 3 (ipykernel)",
   "language": "python",
   "name": "python3"
  },
  "language_info": {
   "codemirror_mode": {
    "name": "ipython",
    "version": 3
   },
   "file_extension": ".py",
   "mimetype": "text/x-python",
   "name": "python",
   "nbconvert_exporter": "python",
   "pygments_lexer": "ipython3",
   "version": "3.11.9"
  }
 },
 "nbformat": 4,
 "nbformat_minor": 5
}
