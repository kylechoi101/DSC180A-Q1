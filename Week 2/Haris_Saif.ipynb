{
 "cells": [
  {
   "cell_type": "markdown",
   "metadata": {},
   "source": [
    "# Phase 1: Initial Data Cleaning"
   ]
  },
  {
   "cell_type": "markdown",
   "metadata": {},
   "source": [
    "## 1. Load the Dataset\n"
   ]
  },
  {
   "cell_type": "code",
   "execution_count": 328,
   "metadata": {},
   "outputs": [],
   "source": [
    "from sklearn.feature_extraction.text import CountVectorizer\n",
    "import pandas as pd\n",
    "import time\n",
    "import sys\n",
    "import re"
   ]
  },
  {
   "cell_type": "code",
   "execution_count": 333,
   "metadata": {
    "scrolled": true
   },
   "outputs": [
    {
     "data": {
      "text/plain": [
       "528766"
      ]
     },
     "execution_count": 333,
     "metadata": {},
     "output_type": "execute_result"
    }
   ],
   "source": [
    "df = pd.read_csv(\"memos.csv\")\n",
    "row_count = df.size\n",
    "row_count"
   ]
  },
  {
   "cell_type": "code",
   "execution_count": 383,
   "metadata": {},
   "outputs": [
    {
     "data": {
      "text/plain": [
       "0                                                                                  Arizona Snowbowl Snow Report\n",
       "1                                                                                            BACK 40 URBAN FRES\n",
       "2                                     CHECKCARD XXXX FEDEX OFFICXXXXXXXXXXX RICHMOND VA XXXXXXXXXXXXXXXXXXXXXXX\n",
       "3                CHECKCARD XXXX SCENTSY,INC. XXX-XXX-XXXX ID XXXXXXXXXXXXXXXXXXXXXXX CKCD XXXX XXXXXXXXXXXXXXXX\n",
       "4                                          CIRCLE K XXXXX 07/26 #XXXXXXXXX PURCHASE CIRCLE K XXXXX 65 TUCSON AZ\n",
       "5                                            COSTCO WHSE #0 08/16 #XXXXXXXXX PURCHASE COSTCO WHSE #06 AUSTIN TX\n",
       "6                                                            CRASHBOAT 08 AGUADILLA AGUADILLA PR          04/26\n",
       "7                                                                     CULVERS OF VALPARAISO VALPARAISO IN 06/08\n",
       "8                                                     DBT CRD XXXX XXXXXXXX DOUBLETREE HOTELS AURORA CO C# XXXX\n",
       "9                                                                            DD DOORDASH WENDYS XXX-XXX-XXXX CA\n",
       "10    DEBIT CARD DEBIT / auth #XXXXXX 07-20-XXXX FLOYDS KNOBS WAT XXXX Paoli Pike FLOYDS Eff. Date: XXXXXXXXXXX\n",
       "11                                                                         DOLLAR TR 965 LOUCKS R YORK PA 10/29\n",
       "12                                    DOLLAR-GENERAL 08/31 #XXXXXXXXX PURCHASE DG XXXXXXXXX JOHN SPARTANBURG SC\n",
       "13                                                                                    LADF LOS ANGELES CA 07/07\n",
       "14                                                                                            La 5 Th Ave Tacos\n",
       "15                                                                                               Mp Island Cafe\n",
       "16                                                                              NNT PASTEL PIZZA XXXXXX KATY TX\n",
       "17                                                                                        NO 1 ZEN FOOT SPA INC\n",
       "18                                                                                               Noire Nail Spa\n",
       "19                                                       OUTBACK XXXX 12-10 RALEIGH NC XXXX DEBIT CARD PURCHASE\n",
       "20                                                                                            One Stop Food And\n",
       "21                                              POS Debit - Visa Check Card XXXX - EWC ALLIANCE XXXX FORT WORTH\n",
       "22                                             POS Debit - Visa Check Card XXXX - JEWLR US, INC. XXX-XXX-XXXX D\n",
       "23                                                                  POS MDQTO7 AMAZON.COM*1W0 SEATTLE WA ##XXXX\n",
       "24                                                                  POS PMT KRYSTAL ALTF18 GAINESVILLE GA #XXXX\n",
       "25                                       POS PUR- XXXXXX *****XXXX 09/23 / 05:03 CASH APP*KRISSTA XXXXXXXXXX CA\n",
       "26                                                                             POS PURCH : STAPLES       00 594\n",
       "27                 PURCHASE AUTHORIZED ON 01/11 WM SUPERC Wal-Mart Sup STOCKTON CA PXXXXXXXXXXXXXXXXX CARD XXXX\n",
       "28               PURCHASE AUTHORIZED ON 03/17 Wal-Mart Super Center KISSIMMEE (E) FL PXXXXXXXXXXXXXXX CARD XXXX\n",
       "29                       PURCHASE AUTHORIZED ON 04/27 CSJ SMART METERS XXXXXXXXXX CA SXXXXXXXXXXXXXXX CARD XXXX\n",
       "30                  PURCHASE AUTHORIZED ON 05/12 AMAZON.COM*1L3SB9Y AMZN.COM/BILL WA SXXXXXXXXXXXXXXX CARD XXXX\n",
       "31                    PURCHASE AUTHORIZED ON 06/10 KROGER #0 XXXX INDEPEN PLANO TX PXXXXXXXXXXXXXXXXX CARD XXXX\n",
       "32                           PURCHASE AUTHORIZED ON 07/27 CHIPOTLE XXXX FLAGSTAFF AZ SXXXXXXXXXXXXXXX CARD XXXX\n",
       "33                           PURCHASE AUTHORIZED ON 08/08 ANDAXXXXXXXX TEMECULA CA PXXXXXXXXXXXXXXXXX CARD XXXX\n",
       "34                                PURCHASE AUTHORIZED ON 08/25 PUBLIX #711 CANTON GA SXXXXXXXXXXXXXXX CARD XXXX\n",
       "35                          PURCHASE AUTHORIZED ON 10/30 DOLLAR GENERAL #14 TAMPA FL SXXXXXXXXXXXXXXX CARD XXXX\n",
       "36                                PURCHASE AUTHORIZED ON 11/19 WATER - COFFEE DEL GA SXXXXXXXXXXXXXXX CARD XXXX\n",
       "37                             PURCHASE AUTHORIZED ON 11/22 PUBLIX #XXXX DUNWOODY GA SXXXXXXXXXXXXXXX CARD XXXX\n",
       "38                       PURCHASE AUTHORIZED ON 12/03 COSTCO WHSE #XXXX UNION GAP WA PXXXXXXXXXXXXXXX CARD XXXX\n",
       "39                                   Point Of Sale Withdrawal PAPA / JOHNS #469 24 MURFREESBORO TNUS Card #XXXX\n",
       "40                                                           RAYS FOOD PLACE #81 DRAIN OR         XXXXXX  05/06\n",
       "41                               RECURRING PAYMENT AUTHORIZED ON 06/25 YouTube TV CA SXXXXXXXXXXXXXXX CARD XXXX\n",
       "42                                                                                                   ROSA NAILS\n",
       "43                                                           SAFEWAY #XXXX SAN LEANDRO CA                 06/27\n",
       "44                                                                             SAMSCLUB #XXXX AVONDALE AZ 09/17\n",
       "45                                        THE HOME DEPOT 03/31 #XXXXXXXXX PURCHASE THE HOME DEPOT #1 BUFFALO NY\n",
       "46                                                                                    TST* KINLAW'S WELCOME GRI\n",
       "47                                                                                        Tvm Dorsey Apache Asu\n",
       "48                                                                                            US 131 SMOKE SHOP\n",
       "49                                       XXXXXX CHK PURCH SIG Amazon Prime*1A3 Amzn.com/bill WA XXXXXXXX XXXXXX\n",
       "Name: memo, dtype: object"
      ]
     },
     "execution_count": 383,
     "metadata": {},
     "output_type": "execute_result"
    }
   ],
   "source": [
    "sample = df['memo'].sample(50).sort_values().reset_index(drop=True)\n",
    "sample"
   ]
  },
  {
   "cell_type": "markdown",
   "metadata": {},
   "source": [
    "## 2. Define Regular Expressions"
   ]
  },
  {
   "cell_type": "code",
   "execution_count": 367,
   "metadata": {},
   "outputs": [],
   "source": [
    "# State abbreviations\n",
    "STATE_LIST = [\n",
    "    \"AL\", \"AK\", \"AZ\", \"AR\", \"CA\", \"CO\", \"CT\", \"DC\", \"DE\", \"FL\", \"GA\", \"HI\", \"IA\", \n",
    "    \"ID\", \"IL\", \"IN(?!\\\\s+N\\\\s+OUT\\\\s+BURGER)\", \"KS\", \"KY\", \"LA\", \"MA\", \"MD\", \"ME\", \"MI\", \"MN\", \"MO\", \n",
    "    \"MS\", \"MT\", \"NC\", \"ND\", \"NE\", \"NH\", \"NJ\", \"NM\", \"NV\", \"NY\", \"OH\", \"OK\", \n",
    "    \"OR\", \"PA\", \"RI\", \"SC\", \"SD\", \"TN\", \"TX\", \"UT\", \"VA\", \"VT\", \"WA\", \"WI\", \n",
    "    \"WV\", \"WY\"\n",
    "]\n",
    "STATE_REGEX = r\"\\b(\" + \"|\".join(STATE_LIST) + r\")\\b\"\n",
    "\n",
    "# In order of execution\n",
    "CLEANING_RULES = [\n",
    "    # === 0) Normalize spaces first ===\n",
    "    (r\"\\u00A0\", \" \"),  # Non-breaking space\n",
    "    (r\"\\s{2,}\", \" \"),  # Multiple spaces\n",
    "\n",
    "    # === 0.5) Remove leading dates left over from boilerplate ===\n",
    "    (r\"^\\d{1,2}\\s+\", \" \"),\n",
    "\n",
    "    # === 1) “Authorized / Recurring” headers ===\n",
    "    (r\"\\b(?:RECURRING\\s+)?PAYMENT\\s+AUTHORIZED\\s+ON(?:\\s+\\d{2})?\\b\", \" \"),\n",
    "    (r\"\\bPURCHASE\\s+AUTHORIZED\\s+ON(?:\\s+\\d{2})?\\b\", \" \"),\n",
    "    (r\"\\bAUTHORIZED\\s+ON\\s+\\d{2}(?:\\s+\\d{2})?\\b\", \" \"),\n",
    "\n",
    "    # === 2) Card & mask boilerplate ===\n",
    "    (r\"\\b(?:VISA|MASTERCARD|AMEX|DISCOVER)\\s+CHECK\\s+CARD\\b\", \" \"),\n",
    "    (r\"\\bCHECK\\s*CARD\\b(?:\\s*X+)?\", \" \"),\n",
    "    (r\"\\bCARD(?:\\s+ENDING\\s+IN)?\\s*X{4}\\b\", \" \"),\n",
    "    (r\"\\b(?:DEBIT|CREDIT)\\s+CARD\\s+(?:PURCHASE|DEBIT|AUTH(?:ORIZATION)?)\\b\", \" \"),\n",
    "    (r\"\\bPOS\\s+(?:PURCHASE|WITHDRAWAL|DEBIT)\\b\", \" \"),\n",
    "    (r\"\\b(?:DDA\\s+)?PIN\\s+POS\\s+PUR\\b\", \" \"),\n",
    "    (r\"\\bCDX{4,}\\b\", \" \"),\n",
    "    (r\"\\b(?:X{2,}|X{2,}\\b)\", \" \"),\n",
    "    (r\"\\b[SP]X{6,}\\b\", \" \"),\n",
    "    (r\"\\bDEBIT\\s+CARD\\b\", \" \"),\n",
    "    (r\"\\bDEBIT\\s+PURCHASE\\b\", \" \"),\n",
    "    (r\"\\bPOS\\s+SIGNATURE\\b\", \" \"),\n",
    "    (r\"\\b(?:VISA|MASTERCARD|AMEX|DISCOVER|CARD|DATE|MCC)\\b\", \" \"),\n",
    "\n",
    "    # === 3) State + mask tails ===\n",
    "    (r\"\\b[A-Z]{2}\\s+[SP]?X{6,}\\s+CARD\\s+X{4}\\b\", \" \"),\n",
    "    (r\"\\b[A-Z]{2}\\s+[SP]?X{6,}\\b\", \" \"),\n",
    "\n",
    "    # === 4) Dates/times ===\n",
    "    (r\"\\b#?\\d{2}[/-]\\d{2}(?:[/-]\\d{2,4})?\\b\", \" \"),\n",
    "    (r\"\\b\\d{1,2}\\s+\\d{2}\\s+\\d{2}\\s*(?:AM|PM)\\b\", \" \"),\n",
    "    (r\"\\b\\d{1,2}:\\d{2}(?::\\d{2})?\\s*[AP]?\\b\", \" \"),\n",
    "\n",
    "    # === 5) Merchant-terminal boilerplate ===\n",
    "    (r\"\\bMERCHANT\\s+PURCHASE\\s+TERMINAL\\b(?:\\s+\\w+)?\", \" \"),\n",
    "    (r\"\\bPOINT\\s+OF\\s+SALE\\s+(?:WITHDRAWAL|DEBIT)\\b\", \" \"),\n",
    "    (r\"\\bPAYMENT\\s+CARD\\s+TARGET\\s+DEBIT\\s+CRD(?:\\s+ACH(?:\\s+TRAN)?)?\\b\", \" \"),\n",
    "    (r\"\\b(?:CRD|ACH)\\s+TRAN(?:\\s+PPD(?:\\s+ID)?)?\\b.*\", \" \"),\n",
    "    (r\"\\bCO\\s+ID\\s+\\w+\\s+(?:WEB|PPD)\\b.*\", \" \"),\n",
    "\n",
    "    # === 6) Misc tails ===\n",
    "    (r\"\\b(?:INST|PAYPAL)\\s+XFER\\b.*\", \" \"),\n",
    "    (r\"\\b(?:XFER|WEB)\\s+ID\\b.*\", \" \"),\n",
    "    (r\"\\b(?:ELECTRONIC|EXTERNAL)\\s+WITHDRAWAL\\b.*\", \" \"),\n",
    "    (r\"\\bWITHDRAWAL\\s+DEBIT\\s+CARD\\b(?:\\s+DEBIT)?\", \" \"),\n",
    "    (r\"\\bO(?:F)?\\s+SALE\\s+DEBIT\\s+L\\d{3}\\b.*\", \" \"),\n",
    "    (r\"\\b(?:ITEM|OVERDRAFT)\\s+FEE\\s+FOR\\s+ACTIVITY\\b.*\", \" \"),\n",
    "    (r\"\\b(?:GENESIS[-\\s]*FS\\s+CARD\\s+PAYMENT|SEARS\\s+BILL\\s+PAYMENT)\\b\", \" \"),\n",
    "    (r\"\\b(?:US|WA)\\s+CARD\\s+PURCHASE\\b\", \" \"),\n",
    "    (r\"\\b(?:USA|US)\\b$\", \" \"),\n",
    "\n",
    "    # === 7) Phone numbers ===\n",
    "    (r\"\\b(?:\\d{3}-\\d{3}-\\d{4}|XXX-XXX-XXXX)\\b\", \" \"),\n",
    "    (r\"\\b\\d{3}-\\d{4}\\b\", \" \"),\n",
    "    (r\"\\b(?:\\d{3}\\s*){1,2}\\d{3}\\s*\\d{3,4}\\b\", \" \"), # 800 123 4567\n",
    "\n",
    "    # === 8) URLs/domains ===\n",
    "    # Specific junk billing info is still good to remove\n",
    "    (r\"\\b(?:AMZN\\.COM\\/BILL|AMZNAMZN\\.COM\\s*BILL|AMAZON\\.COM\\/BILL|APPLE\\.COM\\/BILL|G\\.CO\\/HELPPAY#|SUPPORT\\.GOOGLE?)\\b\", \" \"),\n",
    "\n",
    "    # === 9) State abbreviations ===\n",
    "    (STATE_REGEX, \" \"),\n",
    "\n",
    "    # === 10) Final Tidy (Punctuation) ===\n",
    "    # Preserving * and # for Phase 2\n",
    "    (r\"[|%_=;\\\\/]+\", \" \"),\n",
    "    (r\"[-]{2,}\", \" \"),\n",
    "]"
   ]
  },
  {
   "cell_type": "markdown",
   "metadata": {},
   "source": [
    "## 3. Define Cleaning Function"
   ]
  },
  {
   "cell_type": "code",
   "execution_count": 309,
   "metadata": {},
   "outputs": [],
   "source": [
    "def clean_memo(memo):\n",
    "    memos.cleaned = s.astype(str).fillna('').str.upper()\n",
    "\n",
    "    # Normalize spaces\n",
    "    memos.cleaned = memos.cleaned.str.replace(r\"\\u00A0\", \" \", regex=True)\n",
    "    memos.cleaned = memos.cleaned.str.replace(r\"\\s{2,}\", \" \", regex=True)\n",
    "    memos.cleaned = memos.cleaned.str.strip()\n",
    "    \n",
    "    # Apply Regex sequentially\n",
    "    for pattern, repl in CLEANING_RULES:\n",
    "        memos.cleaned = memos.cleaned.str.replace(pattern, repl, regex=True)\n",
    "\n",
    "    # Fix spaces\n",
    "    memos.cleaned = memos.cleaned.str.replace(r\"\\s{2,}\", \" \", regex=True)\n",
    "    memos.cleaned = memos.cleaned.str.replace(r\"^[\\s-]+|[\\s-]+$\", \"\", regex=True)\n",
    "\n",
    "    return memos.cleaned"
   ]
  },
  {
   "cell_type": "markdown",
   "metadata": {},
   "source": [
    "## 4. Clean Data (First Pass)"
   ]
  },
  {
   "cell_type": "code",
   "execution_count": 372,
   "metadata": {},
   "outputs": [
    {
     "name": "stdout",
     "output_type": "stream",
     "text": [
      "Cleaning values in \"memo\"...\n",
      "Cleaning complete.\n",
      "Time taken: 16.809 seconds.\n",
      "Results saved to: memos_cleaned.csv\n",
      "\n"
     ]
    }
   ],
   "source": [
    "print('Cleaning values in \"memo\"...')\n",
    "start_time = time.time()\n",
    "\n",
    "df['memo_cleaned'] = clean_memo_series(df['memo'])\n",
    "end_time = time.time()\n",
    "\n",
    "print('Cleaning complete.')\n",
    "print(f\"Time taken: {end_time - start_time:.3f} seconds.\")\n",
    "\n",
    "# Save to CSV\n",
    "df[['memo', 'memo_cleaned']].to_csv('memos_cleaned.csv', index=False)\n",
    "print(Results saved to: memos_cleaned.csv)"
   ]
  },
  {
   "cell_type": "code",
   "execution_count": 421,
   "metadata": {},
   "outputs": [
    {
     "data": {
      "text/html": [
       "<div>\n",
       "<style scoped>\n",
       "    .dataframe tbody tr th:only-of-type {\n",
       "        vertical-align: middle;\n",
       "    }\n",
       "\n",
       "    .dataframe tbody tr th {\n",
       "        vertical-align: top;\n",
       "    }\n",
       "\n",
       "    .dataframe thead th {\n",
       "        text-align: right;\n",
       "    }\n",
       "</style>\n",
       "<table border=\"1\" class=\"dataframe\">\n",
       "  <thead>\n",
       "    <tr style=\"text-align: right;\">\n",
       "      <th></th>\n",
       "      <th>memo</th>\n",
       "      <th>memo_cleaned</th>\n",
       "      <th>removed_chars</th>\n",
       "    </tr>\n",
       "  </thead>\n",
       "  <tbody>\n",
       "    <tr>\n",
       "      <th>0</th>\n",
       "      <td>#49 SAHARA VEGAS-XXXXXX XXXX E SAHARA AVE #A LAS VEGAS NV Card 20 #XXXX</td>\n",
       "      <td>#49 SAHARA VEGAS- E SAHARA AVE #A LAS VEGAS 20 #</td>\n",
       "      <td>23</td>\n",
       "    </tr>\n",
       "    <tr>\n",
       "      <th>1</th>\n",
       "      <td>CHECKCARD XXXX SPORTSLINE XXXXXXXXXX CA XXXXXXXXXXXXXXXXXXXXXXX</td>\n",
       "      <td>SPORTSLINE</td>\n",
       "      <td>53</td>\n",
       "    </tr>\n",
       "    <tr>\n",
       "      <th>2</th>\n",
       "      <td>POS Debit BOARD AND BREW - LA / HA</td>\n",
       "      <td>BOARD AND BREW - HA</td>\n",
       "      <td>15</td>\n",
       "    </tr>\n",
       "    <tr>\n",
       "      <th>3</th>\n",
       "      <td>PURCHASE AUTHORIZED ON 04/05 APPLE VACATIONS TS XXXXXXXXXX PA SXXXXXXXXXXXXXXX CARD XXXX</td>\n",
       "      <td>05 APPLE VACATIONS TS</td>\n",
       "      <td>67</td>\n",
       "    </tr>\n",
       "    <tr>\n",
       "      <th>4</th>\n",
       "      <td>PURCHASE AUTHORIZED ON 08/27 BURGER KING #XXXXX RICHMOND VA SXXXXXXXXXXXXXXX CARD XXXX</td>\n",
       "      <td>27 BURGER KING # RICHMOND</td>\n",
       "      <td>61</td>\n",
       "    </tr>\n",
       "    <tr>\n",
       "      <th>5</th>\n",
       "      <td>PURCHASE AUTHORIZED ON 11/18 NAYAX VENDING 14 HUNT VALLEY MD SXXXXXXXXXXXXXXX CARD XXXX</td>\n",
       "      <td>18 NAYAX VENDING 14 HUNT VALLEY</td>\n",
       "      <td>56</td>\n",
       "    </tr>\n",
       "    <tr>\n",
       "      <th>6</th>\n",
       "      <td>PURCHASE AUTHORIZED ON 12/24 CASH APP*MEGAN COT XXXXXXXXXX CA SXXXXXXXXXXXXXXX CARD XXXX</td>\n",
       "      <td>24 CASH APP*MEGAN COT</td>\n",
       "      <td>67</td>\n",
       "    </tr>\n",
       "    <tr>\n",
       "      <th>7</th>\n",
       "      <td>THE HOME DEPOT #XXXX IRVING TX       XXXXXX  09/14</td>\n",
       "      <td>THE HOME DEPOT # IRVING</td>\n",
       "      <td>27</td>\n",
       "    </tr>\n",
       "    <tr>\n",
       "      <th>8</th>\n",
       "      <td>WWW.MYHWH.COM/BETHEA</td>\n",
       "      <td>WWW.MYHWH.COM BETHEA</td>\n",
       "      <td>0</td>\n",
       "    </tr>\n",
       "    <tr>\n",
       "      <th>9</th>\n",
       "      <td>debit card APPLE.COM/BILL ONE APPLE PARK WAY 866-712- Date 05/23/22 9 XXXXXXXXX 0 XXXX MCC XXXX</td>\n",
       "      <td>ONE APPLE PARK WAY 866-712- 9 0</td>\n",
       "      <td>64</td>\n",
       "    </tr>\n",
       "  </tbody>\n",
       "</table>\n",
       "</div>"
      ],
      "text/plain": [
       "                                                                                              memo  \\\n",
       "0                          #49 SAHARA VEGAS-XXXXXX XXXX E SAHARA AVE #A LAS VEGAS NV Card 20 #XXXX   \n",
       "1                                  CHECKCARD XXXX SPORTSLINE XXXXXXXXXX CA XXXXXXXXXXXXXXXXXXXXXXX   \n",
       "2                                                               POS Debit BOARD AND BREW - LA / HA   \n",
       "3         PURCHASE AUTHORIZED ON 04/05 APPLE VACATIONS TS XXXXXXXXXX PA SXXXXXXXXXXXXXXX CARD XXXX   \n",
       "4           PURCHASE AUTHORIZED ON 08/27 BURGER KING #XXXXX RICHMOND VA SXXXXXXXXXXXXXXX CARD XXXX   \n",
       "5          PURCHASE AUTHORIZED ON 11/18 NAYAX VENDING 14 HUNT VALLEY MD SXXXXXXXXXXXXXXX CARD XXXX   \n",
       "6         PURCHASE AUTHORIZED ON 12/24 CASH APP*MEGAN COT XXXXXXXXXX CA SXXXXXXXXXXXXXXX CARD XXXX   \n",
       "7                                               THE HOME DEPOT #XXXX IRVING TX       XXXXXX  09/14   \n",
       "8                                                                             WWW.MYHWH.COM/BETHEA   \n",
       "9  debit card APPLE.COM/BILL ONE APPLE PARK WAY 866-712- Date 05/23/22 9 XXXXXXXXX 0 XXXX MCC XXXX   \n",
       "\n",
       "                                       memo_cleaned  removed_chars  \n",
       "0  #49 SAHARA VEGAS- E SAHARA AVE #A LAS VEGAS 20 #             23  \n",
       "1                                        SPORTSLINE             53  \n",
       "2                               BOARD AND BREW - HA             15  \n",
       "3                             05 APPLE VACATIONS TS             67  \n",
       "4                         27 BURGER KING # RICHMOND             61  \n",
       "5                   18 NAYAX VENDING 14 HUNT VALLEY             56  \n",
       "6                             24 CASH APP*MEGAN COT             67  \n",
       "7                           THE HOME DEPOT # IRVING             27  \n",
       "8                              WWW.MYHWH.COM BETHEA              0  \n",
       "9                   ONE APPLE PARK WAY 866-712- 9 0             64  "
      ]
     },
     "execution_count": 421,
     "metadata": {},
     "output_type": "execute_result"
    }
   ],
   "source": [
    "# Display updates\n",
    "sample_df = df.sample(10)\n",
    "memo_size = sample_df['memo'].str.len()\n",
    "cleaned_memo_size = sample_df['memo_cleaned'].str.len()\n",
    "sample_df['removed_chars'] = memo_size - cleaned_memo_size\n",
    "sample_df.sort_values(by='memo').reset_index(drop=True)"
   ]
  },
  {
   "cell_type": "markdown",
   "metadata": {},
   "source": [
    "# Phase 2: "
   ]
  },
  {
   "cell_type": "code",
   "execution_count": null,
   "metadata": {},
   "outputs": [],
   "source": []
  }
 ],
 "metadata": {
  "kernelspec": {
   "display_name": "Python 3 (ipykernel)",
   "language": "python",
   "name": "python3"
  },
  "language_info": {
   "codemirror_mode": {
    "name": "ipython",
    "version": 3
   },
   "file_extension": ".py",
   "mimetype": "text/x-python",
   "name": "python",
   "nbconvert_exporter": "python",
   "pygments_lexer": "ipython3",
   "version": "3.11.9"
  }
 },
 "nbformat": 4,
 "nbformat_minor": 4
}
