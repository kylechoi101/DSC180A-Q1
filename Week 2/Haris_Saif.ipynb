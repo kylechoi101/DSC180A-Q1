{
 "cells": [
  {
   "cell_type": "code",
   "execution_count": 22,
   "id": "2f966acf",
   "metadata": {
    "vscode": {
     "languageId": "plaintext"
    }
   },
   "outputs": [],
   "source": [
    "from sklearn.feature_extraction.text import CountVectorizer\n",
    "import pandas as pd\n",
    "import numpy as np\n",
    "import re"
   ]
  },
  {
   "cell_type": "code",
   "execution_count": 3,
   "id": "db0cf68c-cfff-483d-8a42-43df6c109ca5",
   "metadata": {},
   "outputs": [],
   "source": [
    "inflow = pd.read_parquet('/uss/hdsi-prismdata/q1-ucsd-inflows.pqt')\n",
    "outflow = pd.read_parquet('/uss/hdsi-prismdata/q1-ucsd-outflows.pqt')"
   ]
  },
  {
   "cell_type": "code",
   "execution_count": 26,
   "id": "337a4f35-961a-45b7-868d-cf75f605eec8",
   "metadata": {},
   "outputs": [
    {
     "data": {
      "text/plain": [
       "295465    # (800) 544-XXXX 139 EAST FOURTH STREET CINCIN...\n",
       "83894                                                 # 101\n",
       "83885                                                 # 102\n",
       "83878                                                 # 103\n",
       "83883                                                 # 104\n",
       "                                ...                        \n",
       "13483                                                zpizza\n",
       "311758                 zulily CC zulilyEPAY ***********XXXX\n",
       "31255     zulily CC zulilyEPAY XXXXXX XXXXXXXXX XXXXXXXX...\n",
       "31245     zulily CC zulilyEPAY XXXXXX XXXXXXXXXX XXXXXXX...\n",
       "116902      zulilyEPAY zulily CC XXXXXXXXX INTERNET PAYMENT\n",
       "Length: 528766, dtype: object"
      ]
     },
     "execution_count": 26,
     "metadata": {},
     "output_type": "execute_result"
    }
   ],
   "source": [
    "memos = pd.Series(outflow[outflow['category'] != outflow['memo']]['memo'].unique()).sort_values()\n",
    "memos"
   ]
  },
  {
   "cell_type": "code",
   "execution_count": 27,
   "id": "b565da17-c5c9-4710-974c-23a80f0bdef5",
   "metadata": {},
   "outputs": [],
   "source": [
    "np.savetxt('../memos.txt', memos.values, fmt='%s')"
   ]
  },
  {
   "cell_type": "code",
   "execution_count": 5,
   "id": "c23a48f6-0010-4837-ad3a-d55b4df1e959",
   "metadata": {},
   "outputs": [],
   "source": [
    "# pattern = r\"X{2,}\"\n",
    "# matches = [s for s in memos if re.search(pattern, s)]\n",
    "# matches"
   ]
  },
  {
   "cell_type": "code",
   "execution_count": 6,
   "id": "06bb94d0-b78f-405d-8a68-bb06df67d980",
   "metadata": {},
   "outputs": [
    {
     "name": "stdout",
     "output_type": "stream",
     "text": [
      "0                 TST* Casa Del Rio - Exp Fairlawn OH 09/24\n",
      "1                                        Buffalo Wild Wings\n",
      "2                                           Oculus CA 04/16\n",
      "3                               LOS GIRASOLES STOW OH 03/08\n",
      "4                                 BUZZIS LAUNDRY 1 OH 03/28\n",
      "                                ...                        \n",
      "528761    DEBIT CARD WITHDRAWAL PURCHASEAudible*Z295DXXX...\n",
      "528762    DEBIT CARD WITHDRAWAL PURCHASEJACK IN THE BOX ...\n",
      "528763    DEBIT CARD WITHDRAWAL PURCHASEAmazon Prime*TI4...\n",
      "528764    POS WITHDRAWALAZ LOT QUIKTRIP XXXX XXXX E INDI...\n",
      "528765    POS WITHDRAWALWAL-MART #XXXX XXXX E MCKELLIPS ...\n",
      "Length: 528766, dtype: object\n",
      "0                     tst casa del rio exp fairlawn oh 0924\n",
      "1                                        buffalo wild wings\n",
      "2                                            oculus ca 0416\n",
      "3                                los girasoles stow oh 0308\n",
      "4                                  buzzis laundry 1 oh 0328\n",
      "                                ...                        \n",
      "528761    debit card withdrawal purchaseaudiblez295dxxxx...\n",
      "528762    debit card withdrawal purchasejack in the box ...\n",
      "528763    debit card withdrawal purchaseamazon primeti40...\n",
      "528764    pos withdrawalaz lot quiktrip xxxx xxxx e indi...\n",
      "528765    pos withdrawalwalmart xxxx xxxx e mckellips rd...\n",
      "Length: 528766, dtype: object\n"
     ]
    }
   ],
   "source": [
    "memos_clean = memos.str.lower()\n",
    "memos_clean = memos_clean.apply(lambda x: re.sub(r'[^a-z0-9\\s]', '', x)) # Remove special characters\n",
    "memos_clean = memos_clean.apply(lambda x: re.sub(r'\\s+', ' ', x).strip()) # Remove whitespace\n",
    "print(memos)\n",
    "print(memos_clean)"
   ]
  },
  {
   "cell_type": "code",
   "execution_count": 7,
   "id": "70f7223f-b71e-4329-aa01-9923931ab7c2",
   "metadata": {},
   "outputs": [
    {
     "ename": "AttributeError",
     "evalue": "'list' object has no attribute 'size'",
     "output_type": "error",
     "traceback": [
      "\u001b[0;31m---------------------------------------------------------------------------\u001b[0m",
      "\u001b[0;31mAttributeError\u001b[0m                            Traceback (most recent call last)",
      "Cell \u001b[0;32mIn[7], line 8\u001b[0m\n\u001b[1;32m      5\u001b[0m frequencies \u001b[38;5;241m=\u001b[39m [(term, term_counts[\u001b[38;5;241m0\u001b[39m, idx]) \u001b[38;5;28;01mfor\u001b[39;00m term, idx \u001b[38;5;129;01min\u001b[39;00m vectorizer\u001b[38;5;241m.\u001b[39mvocabulary_\u001b[38;5;241m.\u001b[39mitems()]\n\u001b[1;32m      7\u001b[0m sorted_frequencies \u001b[38;5;241m=\u001b[39m \u001b[38;5;28msorted\u001b[39m(frequencies, key\u001b[38;5;241m=\u001b[39m\u001b[38;5;28;01mlambda\u001b[39;00m x: x[\u001b[38;5;241m1\u001b[39m], reverse\u001b[38;5;241m=\u001b[39m\u001b[38;5;28;01mTrue\u001b[39;00m)\n\u001b[0;32m----> 8\u001b[0m \u001b[43msorted_frequencies\u001b[49m\u001b[38;5;241;43m.\u001b[39;49m\u001b[43msize\u001b[49m\n",
      "\u001b[0;31mAttributeError\u001b[0m: 'list' object has no attribute 'size'"
     ]
    }
   ],
   "source": [
    "vectorizer = CountVectorizer(ngram_range=(5, 5), min_df=10)\n",
    "X = vectorizer.fit_transform(memos_clean)\n",
    "\n",
    "term_counts = X.sum(axis=0)\n",
    "frequencies = [(term, term_counts[0, idx]) for term, idx in vectorizer.vocabulary_.items()]\n",
    "\n",
    "sorted_frequencies = sorted(frequencies, key=lambda x: x[1], reverse=True)\n"
   ]
  },
  {
   "cell_type": "code",
   "execution_count": 8,
   "id": "59b5512c-39c5-44ae-a60d-90be0d88bf7a",
   "metadata": {},
   "outputs": [
    {
     "data": {
      "text/plain": [
       "18873"
      ]
     },
     "execution_count": 8,
     "metadata": {},
     "output_type": "execute_result"
    }
   ],
   "source": [
    "len(sorted_frequencies)"
   ]
  },
  {
   "cell_type": "code",
   "execution_count": null,
   "id": "08cd42ed-3d9c-4af6-bc5f-6f33e3981241",
   "metadata": {
    "scrolled": true
   },
   "outputs": [],
   "source": [
    "for term, freq in sorted_frequencies[:10]:\n",
    "    print(f'\"{term}\": {freq}')"
   ]
  },
  {
   "cell_type": "code",
   "execution_count": null,
   "id": "acdcbb01-afc8-48dc-b3b2-499ba070b53a",
   "metadata": {},
   "outputs": [],
   "source": [
    "memos_clean[memos_clean.str.contains('xxxxxxxxxx ca sxxxxxxxxxxxxxxx card xxxx')]"
   ]
  },
  {
   "cell_type": "code",
   "execution_count": 160,
   "id": "9c40a591-2ed8-41bf-8a50-54562f22ded5",
   "metadata": {},
   "outputs": [
    {
     "data": {
      "text/plain": [
       "7828      pos debit visa check card xxxx amazoncom1x3bt3...\n",
       "7830      pos debit visa check card xxxx instacart159 ht...\n",
       "7834      pos debit visa check card xxxx amazoncom1r2gz0...\n",
       "7839      pos debit visa check card xxxx amazoncom6b0ir4...\n",
       "7841      pos debit visa check card xxxx amazoncompg26a1...\n",
       "                                ...                        \n",
       "526419    pos debit visa check card xxxx mcdonalds fxxxx...\n",
       "526420    pos debit visa check card xxxx fastfix jewelry...\n",
       "526421    pos debit visa check card xxxx lowes xxxx fair...\n",
       "526422    pos debit visa check card xxxx target t xxxx h...\n",
       "526423    pos debit visa check card xxxx sams club vacav...\n",
       "Length: 11667, dtype: object"
      ]
     },
     "execution_count": 160,
     "metadata": {},
     "output_type": "execute_result"
    }
   ],
   "source": [
    "memos_clean[memos_clean.str.lower().str.contains('visa check card')]"
   ]
  },
  {
   "cell_type": "code",
   "execution_count": 62,
   "id": "205ffe70-5128-4b36-9225-e738f8f9431e",
   "metadata": {},
   "outputs": [],
   "source": [
    "# for memo in pd.Series(memos).str.split():\n",
    "#     if '/' in memo[0]:\n",
    "#       n  print(memo)"
   ]
  },
  {
   "cell_type": "code",
   "execution_count": 13,
   "id": "06036b17-4504-46c9-8967-127ddecfebd0",
   "metadata": {},
   "outputs": [],
   "source": [
    "sample = memos.sample(10_000)"
   ]
  },
  {
   "cell_type": "code",
   "execution_count": null,
   "id": "4b9812fa-100a-4062-8400-b767970e8bad",
   "metadata": {},
   "outputs": [],
   "source": []
  }
 ],
 "metadata": {
  "kernelspec": {
   "display_name": "Python 3 (ipykernel)",
   "language": "python",
   "name": "python3"
  },
  "language_info": {
   "codemirror_mode": {
    "name": "ipython",
    "version": 3
   },
   "file_extension": ".py",
   "mimetype": "text/x-python",
   "name": "python",
   "nbconvert_exporter": "python",
   "pygments_lexer": "ipython3",
   "version": "3.11.9"
  }
 },
 "nbformat": 4,
 "nbformat_minor": 5
}
