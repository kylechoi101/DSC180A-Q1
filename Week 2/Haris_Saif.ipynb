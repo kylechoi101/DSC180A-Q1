{
 "cells": [
  {
   "cell_type": "code",
   "execution_count": 44,
   "id": "2f966acf",
   "metadata": {
    "vscode": {
     "languageId": "plaintext"
    }
   },
   "outputs": [],
   "source": [
    "from sklearn.feature_extraction.text import CountVectorizer\n",
    "import pandas as pd\n",
    "import re"
   ]
  },
  {
   "cell_type": "code",
   "execution_count": 37,
   "id": "db0cf68c-cfff-483d-8a42-43df6c109ca5",
   "metadata": {},
   "outputs": [],
   "source": [
    "inflow = pd.read_parquet('/uss/hdsi-prismdata/q1-ucsd-inflows.pqt')\n",
    "outflow = pd.read_parquet('/uss/hdsi-prismdata/q1-ucsd-outflows.pqt')"
   ]
  },
  {
   "cell_type": "code",
   "execution_count": 95,
   "id": "337a4f35-961a-45b7-868d-cf75f605eec8",
   "metadata": {},
   "outputs": [
    {
     "data": {
      "text/plain": [
       "0                 TST* Casa Del Rio - Exp Fairlawn OH 09/24\n",
       "1                                        Buffalo Wild Wings\n",
       "2                                           Oculus CA 04/16\n",
       "3                               LOS GIRASOLES STOW OH 03/08\n",
       "4                                 BUZZIS LAUNDRY 1 OH 03/28\n",
       "                                ...                        \n",
       "528761    DEBIT CARD WITHDRAWAL PURCHASEAudible*Z295DXXX...\n",
       "528762    DEBIT CARD WITHDRAWAL PURCHASEJACK IN THE BOX ...\n",
       "528763    DEBIT CARD WITHDRAWAL PURCHASEAmazon Prime*TI4...\n",
       "528764    POS WITHDRAWALAZ LOT QUIKTRIP XXXX XXXX E INDI...\n",
       "528765    POS WITHDRAWALWAL-MART #XXXX XXXX E MCKELLIPS ...\n",
       "Length: 528766, dtype: object"
      ]
     },
     "execution_count": 95,
     "metadata": {},
     "output_type": "execute_result"
    }
   ],
   "source": [
    "memos = pd.Series(outflow[outflow['category'] != outflow['memo']]['memo'].unique())\n",
    "memos"
   ]
  },
  {
   "cell_type": "code",
   "execution_count": 78,
   "id": "c6b0e84c-bd16-4382-a385-8b266510badf",
   "metadata": {},
   "outputs": [],
   "source": [
    "# for memo in memos:\n",
    "#     print(memo)"
   ]
  },
  {
   "cell_type": "code",
   "execution_count": 79,
   "id": "c23a48f6-0010-4837-ad3a-d55b4df1e959",
   "metadata": {},
   "outputs": [],
   "source": [
    "# pattern = r\"X{2,}\"\n",
    "# matches = [s for s in memos if re.search(pattern, s)]\n",
    "# matches"
   ]
  },
  {
   "cell_type": "code",
   "execution_count": null,
   "id": "06bb94d0-b78f-405d-8a68-bb06df67d980",
   "metadata": {},
   "outputs": [],
   "source": [
    "memos_clean = memos.str.lower()\n",
    "memos_clean = memos_clean.apply(lambda x: re.sub(r'[^a-z0-9\\s]', '', x)) # Remove special characters\n",
    "memos_clean = memos_clean.apply(lambda x: re.sub(r'\\s+', ' ', x).strip()) # Remove whitespace\n",
    "print(memos)\n",
    "print(memos_clean)"
   ]
  },
  {
   "cell_type": "code",
   "execution_count": null,
   "id": "70f7223f-b71e-4329-aa01-9923931ab7c2",
   "metadata": {},
   "outputs": [],
   "source": [
    "vectorizer = CountVectorizer(ngram_range=(5, 5), min_df=10)\n",
    "X = vectorizer.fit_transform(memos_clean)\n",
    "\n",
    "term_counts = X.sum(axis=0)\n",
    "frequencies = [(term, term_counts[0, idx]) for term, idx in vectorizer.vocabulary_.items()]\n",
    "\n",
    "sorted_frequencies = sorted(frequencies, key=lambda x: x[1], reverse=True)"
   ]
  },
  {
   "cell_type": "code",
   "execution_count": null,
   "id": "08cd42ed-3d9c-4af6-bc5f-6f33e3981241",
   "metadata": {
    "scrolled": true
   },
   "outputs": [],
   "source": [
    "for term, freq in sorted_frequencies[:10]:\n",
    "    print(f'\"{term}\": {freq}')"
   ]
  },
  {
   "cell_type": "code",
   "execution_count": 152,
   "id": "acdcbb01-afc8-48dc-b3b2-499ba070b53a",
   "metadata": {},
   "outputs": [
    {
     "data": {
      "text/plain": [
       "4190      purchase authorized on 08/30 cash app*benjamin...\n",
       "4789      purchase authorized on 12/20 cash app*nakia w ...\n",
       "4793      purchase authorized on 03/29 cash app*kaylen x...\n",
       "4794      purchase authorized on 04/19 cash app*ktr xxxx...\n",
       "4800      purchase authorized on 02/26 cash app*kaylen x...\n",
       "                                ...                        \n",
       "525149    purchase authorized on 10/24 cash app*elizabet...\n",
       "525207    purchase authorized on 11/08 cash app*elizabet...\n",
       "525275    purchase authorized on 12/01 cash app*elizabet...\n",
       "525342    purchase authorized on 12/20 cash app*abby eri...\n",
       "525387    purchase authorized on 01/04 cash app*elizabet...\n",
       "Length: 5885, dtype: object"
      ]
     },
     "execution_count": 152,
     "metadata": {},
     "output_type": "execute_result"
    }
   ],
   "source": [
    "memos_clean[memos_clean.str.contains('xxxxxxxxxx ca sxxxxxxxxxxxxxxx card xxxx')]"
   ]
  },
  {
   "cell_type": "code",
   "execution_count": 149,
   "id": "9c40a591-2ed8-41bf-8a50-54562f22ded5",
   "metadata": {},
   "outputs": [
    {
     "data": {
      "text/plain": [
       "7828      pos debit - visa check card xxxx - amazon.com*...\n",
       "7830      pos debit - visa check card xxxx - instacart*1...\n",
       "7834      pos debit - visa check card xxxx - amazon.com*...\n",
       "7839      pos debit - visa check card xxxx - amazon.com*...\n",
       "7841      pos debit - visa check card xxxx - amazon.com*...\n",
       "                                ...                        \n",
       "526419    pos debit - visa check card xxxx - mcdonald's ...\n",
       "526420    pos debit - visa check card xxxx - fast-fix je...\n",
       "526421    pos debit - visa check card xxxx - lowe's #xxx...\n",
       "526422    pos debit - visa check card xxxx - target t- x...\n",
       "526423    pos debit - visa check card xxxx - sam's club ...\n",
       "Length: 11667, dtype: object"
      ]
     },
     "execution_count": 149,
     "metadata": {},
     "output_type": "execute_result"
    }
   ],
   "source": [
    "memos_clean[memos_clean.str.lower().str.contains('visa check card')]"
   ]
  },
  {
   "cell_type": "code",
   "execution_count": 62,
   "id": "205ffe70-5128-4b36-9225-e738f8f9431e",
   "metadata": {},
   "outputs": [],
   "source": [
    "# for memo in pd.Series(memos).str.split():\n",
    "#     if '/' in memo[0]:\n",
    "#         print(memo)"
   ]
  }
 ],
 "metadata": {
  "kernelspec": {
   "display_name": "Python 3 (ipykernel)",
   "language": "python",
   "name": "python3"
  },
  "language_info": {
   "codemirror_mode": {
    "name": "ipython",
    "version": 3
   },
   "file_extension": ".py",
   "mimetype": "text/x-python",
   "name": "python",
   "nbconvert_exporter": "python",
   "pygments_lexer": "ipython3",
   "version": "3.11.9"
  }
 },
 "nbformat": 4,
 "nbformat_minor": 5
}
