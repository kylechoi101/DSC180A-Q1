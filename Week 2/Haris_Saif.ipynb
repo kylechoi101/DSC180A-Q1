{
 "cells": [
  {
   "cell_type": "markdown",
   "metadata": {},
   "source": [
    "# Phase 1: Preprocessing with Regular Expressions"
   ]
  },
  {
   "cell_type": "code",
   "execution_count": 1,
   "metadata": {},
   "outputs": [
    {
     "name": "stdout",
     "output_type": "stream",
     "text": [
      "Already up to date.\n"
     ]
    },
    {
     "data": {
      "text/plain": [
       "CompletedProcess(args=['git', 'pull'], returncode=0)"
      ]
     },
     "execution_count": 1,
     "metadata": {},
     "output_type": "execute_result"
    }
   ],
   "source": [
    "import subprocess\n",
    "subprocess.run(['git', 'pull'])"
   ]
  },
  {
   "cell_type": "code",
   "execution_count": 2,
   "metadata": {},
   "outputs": [
    {
     "name": "stdout",
     "output_type": "stream",
     "text": [
      "[main 13af3c8] regex\n",
      " 1 file changed, 3035 insertions(+), 3200 deletions(-)\n"
     ]
    },
    {
     "data": {
      "text/plain": [
       "CompletedProcess(args=['git', 'commit', '-m', 'regex'], returncode=0)"
      ]
     },
     "execution_count": 2,
     "metadata": {},
     "output_type": "execute_result"
    }
   ],
   "source": [
    "subprocess.run(['git', 'add', 'Haris_Saif.ipynb'])\n",
    "subprocess.run(['git', 'commit', '-m', 'regex'])"
   ]
  },
  {
   "cell_type": "markdown",
   "metadata": {},
   "source": [
    "## 1. Load Dataset\n"
   ]
  },
  {
   "cell_type": "code",
   "execution_count": 3,
   "metadata": {},
   "outputs": [],
   "source": [
    "from sklearn.feature_extraction.text import CountVectorizer\n",
    "import pandas as pd\n",
    "import time\n",
    "import sys\n",
    "import re"
   ]
  },
  {
   "cell_type": "code",
   "execution_count": 4,
   "metadata": {
    "scrolled": true
   },
   "outputs": [
    {
     "data": {
      "text/plain": [
       "528766"
      ]
     },
     "execution_count": 4,
     "metadata": {},
     "output_type": "execute_result"
    }
   ],
   "source": [
    "df_in = pd.read_csv(\"memos.csv\")\n",
    "df = df_in#.sample(100_000).copy()\n",
    "row_count = df.size\n",
    "row_count"
   ]
  },
  {
   "cell_type": "code",
   "execution_count": 5,
   "metadata": {},
   "outputs": [
    {
     "data": {
      "text/plain": [
       "0                              AMAZON COM 1A3A199U0 AMZ\n",
       "1           ANYTIME STORAGE ARIZO ARIZONA CITY AZ 08/01\n",
       "2     Afterpay XXX-XXXXXXX CA                      0...\n",
       "3               Amazon Prime*ZA4CL02T3 Amzn.com/bill WA\n",
       "4     Amazon.com*1OXXXXGC1 Amzn.com/bill WA        0...\n",
       "5              Debit Purchase -visa Card XXXXvons #XXXX\n",
       "6                               Jerrys Restaurant &Loun\n",
       "7     MCDONALD'S FXXXX COVINGTON LA                1...\n",
       "8                               Osaka Jr Japanese Expre\n",
       "9     POS PURCHASE / MERCHANT PURCHASE TERMINAL XXXX...\n",
       "10            POS XXXXXX MCDONALD'S F22 TEMPE AZ ##XXXX\n",
       "11    PURCHASE 06/15 CIRCLE K # XXXX CIRCLE K # XXXX...\n",
       "12    PURCHASE AUTHORIZED ON 02/25 TST* KUBA CABANA ...\n",
       "13    PURCHASE AUTHORIZED ON 05/05 VA ABC STORE 348 ...\n",
       "14    PURCHASE AUTHORIZED ON 05/13 PUBLIX #XXXX SARA...\n",
       "15    PURCHASE AUTHORIZED ON 05/18 BIG WAVE COFFEEHO...\n",
       "16    PURCHASE XXXX CITY PARKING INC XXX-XXX-XXXX FL...\n",
       "17                                      SUGARTOWN FARMS\n",
       "18             TERIYAKI MADNESS LANDSTOWVIRGINIA BEACVA\n",
       "19      WAL-MART #XXXX                   12/26 LXXXXX ?\n",
       "20                  WALNUT CREEK CH WALNUT CREEK OH USA\n",
       "21    WENDYS XXXX W BABYLON NY                     0...\n",
       "22    Withdrawal Debit Card / CHEWY.COM FL Date 06/0...\n",
       "23    Withdrawal Debit Card COLOME NAILS NEW YORK NY...\n",
       "24    XXXXXX CHK PURCHASE LIM*RIDE COST HTTPSWWW.LI....\n",
       "Name: memo, dtype: object"
      ]
     },
     "execution_count": 5,
     "metadata": {},
     "output_type": "execute_result"
    }
   ],
   "source": [
    "df['memo'].sample(25).sort_values().reset_index(drop=True)"
   ]
  },
  {
   "cell_type": "markdown",
   "metadata": {},
   "source": [
    "## 2. Define Regex Rules"
   ]
  },
  {
   "cell_type": "code",
   "execution_count": 6,
   "metadata": {},
   "outputs": [],
   "source": [
    "STATE_LIST = [\n",
    "    \"AL\", \"AK\", \"AZ\", \"AR\", \"CA\", \n",
    "    \"(?<!\\.)CO(?!['`])\", # Negative lookbehind/ahead for CO (e.g., not .CO or COSTCO)\n",
    "    \"CT\", \"DC\", \"DE\", \"FL\", \"GA\", \"HI\", \"IA\", \n",
    "    \"ID\", \"IL\", \n",
    "    \"IN(?!\\\\s+N\\\\s+OUT\\\\s+BURGER)\", # Negative lookahead for IN (not IN N OUT BURGER)\n",
    "    \"KS\", \"KY\",\n",
    "    \"(?<!['`])LA(?!\\\\s+HACIENDA|\\\\s+FITNESS|\\\\s+LA'S|['`])\", # Negative lookaheads for LA\n",
    "    \"MA\", \"MD\", \n",
    "    \"ME(?!\\\\s+DIA)\", # Negative lookahead for ME (not ME DIA)\n",
    "    \"MI\", \"MN\", \"MO(?!['`])\", \n",
    "    \"MS\", \"MT\", \"NC\", \"ND\", \"NE\", \"NH\", \"NJ\", \"NM\", \"NV\", \"NY\", \n",
    "    \"OH\", \"OK\", \"OR\", \n",
    "    \"PA(?!['`])\", \n",
    "    \"RI\", \"SC\", \"SD\", \"TN\", \"TX\", \"UT\", \"VA\", \"VT\", \"WA\", \n",
    "    \"WI\", \"WV\", \"WY\"\n",
    "]\n",
    "STATE_REGEX = r\"\\b(\" + \"|\".join(STATE_LIST) + r\")\\b\""
   ]
  },
  {
   "cell_type": "code",
   "execution_count": 7,
   "metadata": {},
   "outputs": [],
   "source": [
    "# From 1-gram\n",
    "NOISE_WORDS = [\n",
    "    \"DBT\", \"PURCH\", \"TRANSACTION\", \"PMT\", \"PMTS\", \"HTTPSWWW\", \"WWW\", \"CONSUMER\", \n",
    "    \"CKCD\"\n",
    "]\n",
    "NOISE_WORDS_REGEX = r\"\\b(\" + \"|\".join(NOISE_WORDS) + r\")\\b\""
   ]
  },
  {
   "cell_type": "code",
   "execution_count": 8,
   "metadata": {},
   "outputs": [],
   "source": [
    "REGEX_PRE = [\n",
    "    # === 0) Normalize spaces first ===\n",
    "    (r\"\\u00A0\", \" \"), # Replace non-breaking space with regular space\n",
    "    (r\"\\s{2,}\", \" \"), # Collapse multiple spaces into one\n",
    "\n",
    "    # === 1) “Authorized / Recurring” headers ===\n",
    "    (r\"\\b(?:RECURRING\\s+)?PAYMENT\\s+AUTHORIZED\\s+ON(?:\\s+\\d{2}[/-]\\d{2,4})?\\b\", \" \"),\n",
    "    (r\"\\b(?:P?URCHASE\\s+)?AUTHORIZED\\s+ON(?:\\s+\\d{2}[/-]\\d{2,4})?\\b\", \" \"),\n",
    "    (r\"\\bAUTHORIZED\\s+ON\\s+\\d{2}[/-]\\d{2,4}\\b\", \" \"),\n",
    "    (r\"\\bRECURRING\\s+PYMT\\b\", \" \"),\n",
    "\n",
    "    # === 2) Card & mask boilerplate ===\n",
    "    (r\"\\b(?:VISA|MASTERCARD|AMEX|DISCOVER)\\s+CHECK\\s+CARD\\b\", \" \"),\n",
    "    (r\"\\bCHECK\\s*CARD\\b(?:\\s*X+)?\", \" \"), \n",
    "    (r\"\\bCARD(?:\\s+ENDING\\s+IN)?\\s*X{4}\\b\", \" \"),\n",
    "    (r\"\\bDEBIT\\s+CARD\\s+DEBIT\\s*/\", \" \"),\n",
    "    (r\"\\b(?:DEBIT|CREDIT)\\s+CARD\\s+(?:PURCHASE|DEBIT|AUTH(?:ORIZATION)?)\\b\", \" \"),\n",
    "    (r\"\\b(?:WITHDRAWAL|POS)\\s*#\", \" \"), \n",
    "    (r\"\\bWITHDRAWAL\\s+DEBIT\\s+CHIP\\b\", \" \"),\n",
    "    (r\"\\bPOS\\s+PUR-\\s*(?:\\*+)?\", \" \"), \n",
    "    (r\"\\bAUTH\\s*#\\s*-?\", \" \"), \n",
    "    (r\"\\bCK\\s*X+\\b\", \" \"),\n",
    "    (r\"\\bPOS\\s+(?:PURCHASE|WITHDRAWAL|DEBIT)\\b\", \" \"), \n",
    "    (r\"\\b(?:DDA\\s+)?PIN\\s+POS\\s+PUR\\b\", \" \"), \n",
    "    (r\"\\bCDX{4,}\\b\", \" \"),\n",
    "    (r\"\\bX{4,}\\b\", \" \"), # PRECISE: Remove standalone masked numbers\n",
    "    (r\"\\b[SP]X{6,}\\b\", \" \"), \n",
    "    (r\"\\bDEBIT\\s+(?:CARD|CRD)\\b\", \" \"), \n",
    "    (r\"\\bDEBIT\\s+PURCHASE\\b\", \" \"), \n",
    "    (r\"\\bPOS\\s+SIGNATURE\\b\", \" \"),\n",
    "    (r\"\\b(?:VISA|MASTERCARD|AMEX|DISCOVER|CARD|DATE|MCC)\\b\", \" \"), # Remove common card-related keywords\n",
    "    (r\"^\\s*PURCHASE\\b\", \" \"), # Remove \"PURCHASE\" if at start\n",
    "    (r\"^\\s*REC\\s+POS\\b\", \" \"),\n",
    "    (r\"^\\s*RECURRING\\b\", \" \"),\n",
    "\n",
    "    # === 2.5) Prefix Normalization ===\n",
    "    (r\"\\b(DNH)(?=[A-Z]{2,})\", r\"\\1 \"), # Fix \"DNHGODADDYCOM\" -> \"DNH GODADDYCOM\"\n",
    "    (r\"\\bDD\\s*(?:[\\\\/]\\s*)?BR\\b\", \"DDBR\"), # Combine DD/BR or DD BR -> DDBR\n",
    "\n",
    "    # === 3) State + mask tails ===\n",
    "    (r\"\\b[A-Z]{2}\\s+[SP]?X{6,}\\s+CARD\\s+X{4}\\b\", \" \"),\n",
    "    (r\"\\b[A-Z]{2}\\s+[SP]?X{6,}\\b\", \" \"),\n",
    "\n",
    "    # === 4) Dates/times (INCLUSIVE) ===\n",
    "    (r\"\\b#?\\d{2}[/-]\\d{2}(?:[/-]\\d{2,4})?\\b\", \" \"), # Dates like 10/23, 10/23/2025\n",
    "    (r\"\\b\\d{4}-\\d{2}-\\d{2}\\b\", \" \"), # YYYY-MM-DD\n",
    "    (r\"\\b\\d{1,2}-(?:JAN|FEB|MAR|APR|MAY|JUN|JUL|AUG|SEP|OCT|NOV|DEC)-\\d{2,4}\\b\", \" \"), # DD-MMM-YYYY\n",
    "    (r\"\\b(?:19|20)\\d{2}(?:0[1-9]|1[0-2])(?:0[1-9]|[12]\\d|3[01])\\b\", \" \"), # YYYYMMDD\n",
    "    (r\"\\b(?:0[1-9]|1[0-2])(?:0[1-9]|[12]\\d|3[01])\\d{2}\\b\", \" \"), # MMDDYY\n",
    "    (r\"\\b\\d{1,2}\\s+\\d{2}\\s+\\d{2}\\s*(?:AM|PM)\\b\", \" \"), # 10 23 25 PM\n",
    "    (r\"\\b\\d{1,2}:\\d{2}(?::\\d{2})?\\s*(?:AM|PM)\\b\", \" \"), # Times like 10:23 AM\n",
    "\n",
    "    # === 5) Merchant-terminal boilerplate ===\n",
    "    (r\"\\bMERCHANT\\s+PURCHASE\\s+TERMINAL\\b\\s*-?\", \" \"),\n",
    "    (r\"\\bPOINT\\s+OF\\s+SALE\\s+(?:WITHDRAWAL|DEBIT)\\b\\s*-?\", \" \"),\n",
    "    (r\"\\b(?:CRD|ACH)\\s+TRAN(?:\\s+PPD(?:\\s+ID)?)?\\b\", \" \"),\n",
    "    (r\"\\bCO\\s+ID\\s+\\w+\\s+(?:WEB|PPD)\\b.*\", \" \"), # Remove CO ID...\n",
    "    \n",
    "    # === 6) Misc tails (INCLUSIVE) ===\n",
    "    (r\"\\b(?:INST|PAYPAL)\\s+XFER\\b\", \" \"), \n",
    "    (r\"\\b(?:XFER|WEB)\\s+ID\\b.*\", \" \"),\n",
    "    (r\"\\bID\\b\", \" \"), # Remove standalone 'ID' (from 'ID: DSW')\n",
    "    (r\"\\b(?:REF|TERM|TRN|INV|ACCT|TID|MID)\\s*#?[\\d\\w-]+\\b\", \" \"), # REF 123, TERM 001, etc.\n",
    "    (r\"\\bAUTH\\s+CODE\\s*[\\d\\w-]+\\b\", \" \"), # AUTH CODE 0123\n",
    "    (r\"\\b(?:ELECTRONIC|EXTERNAL)\\s+WITHDRAWAL\\b\", \" \"), \n",
    "    (r\"\\bWITHDRAWAL\\s+DEBIT\\s+CARD\\b(?:\\s+DEBIT)?\", \" \"),\n",
    "    (r\"\\bO(?:F)?\\s+SALE\\s+DEBIT\\s+L\\d{3}\\b.*\", \" \"),\n",
    "    (r\"\\b(?:ITEM|OVERDRAFT)\\s+FEE\\s+FOR\\s+ACTIVITY\\b.*\", \" \"),\n",
    "    (r\"\\b(?:GENESIS[-\\s]*FS\\s+CARD\\s+PAYMENT)\\b\", \" \"),\n",
    "    (r\"\\bBILL\\s+PAYMENT\\b\", \" \"),\n",
    "    (r\"\\b(?:US|WA)\\s+CARD\\s+PURCHASE\\b\", \" \"),\n",
    "    (r\"-\\s*MEMO=\", \" \"),\n",
    "    (r\"(?:USA|US)$\", \" \"), # Remove USA or US at the end\n",
    "    (r\"\\s+FSP$\", \" \"),\n",
    "\n",
    "    # === 7) Phone numbers (INCLUSIVE) ===\n",
    "    (r\"\\b1[\\s.-]\\(?\\d{3}\\)?[\\s.-]\\d{3}[\\s.-]\\d{4}\\b\", \" \"), # 1-800-555-1212\n",
    "    (r\"\\b\\(?\\d{3}\\)?[\\s.-]\\d{3}[\\s.-]\\d{4}\\b\", \" \"), # (800) 555-1212, 800.555.1212\n",
    "    (r\"\\b\\d{3}-\\d{4}\\b\", \" \"), # 555-1212\n",
    "    (r\"\\bXXX-XXX-XXXX\\b\", \" \"), # Masked phone\n",
    "\n",
    "    # === 8) URLs/domains (INCLUSIVE) ===\n",
    "    (r\"^\\.COM\\s+BILL\\b.*\", \" \"),\n",
    "    (r\"\\s+\\.(?:COM|NET|ORG|GOV|EDU|IO|CO)\\b\", \" \"), # Remove trailing .COM, .NET etc.\n",
    "\n",
    "    # === 9) State abbreviations ===\n",
    "    (STATE_REGEX, \" \"), # Remove standalone state codes\n",
    "\n",
    "    # === 10) Final Tidy (Punctuation) ===\n",
    "    (r\"[|%_=;\\\\/]+\", \" \"), # Remove misc separators\n",
    "    (r\"[-]{2,}\", \" \"), # Collapse multiple hyphens\n",
    "    (r\"^\\s*-\\s+\", \" \") # Remove leading hyphens\n",
    "]"
   ]
  },
  {
   "cell_type": "code",
   "execution_count": 10,
   "metadata": {},
   "outputs": [
    {
     "ename": "error",
     "evalue": "bad character range *-& at position 22",
     "output_type": "error",
     "traceback": [
      "\u001b[0;31m---------------------------------------------------------------------------\u001b[0m",
      "\u001b[0;31merror\u001b[0m                                     Traceback (most recent call last)",
      "Cell \u001b[0;32mIn[10], line 7\u001b[0m\n\u001b[1;32m      1\u001b[0m REGEX_POST \u001b[38;5;241m=\u001b[39m [\n\u001b[1;32m      2\u001b[0m     \u001b[38;5;66;03m# --- Specific/Tricky Rules ---\u001b[39;00m\n\u001b[1;32m      3\u001b[0m     \u001b[38;5;66;03m# This greedily finds the *last* instance of GODADDY.COM or GODADD\u001b[39;00m\n\u001b[1;32m      4\u001b[0m     re\u001b[38;5;241m.\u001b[39mcompile(\u001b[38;5;124mr\u001b[39m\u001b[38;5;124m\"\u001b[39m\u001b[38;5;124m.*(GODADDY\u001b[39m\u001b[38;5;124m\\\u001b[39m\u001b[38;5;124m.COM|GODADD)\u001b[39m\u001b[38;5;124m\\\u001b[39m\u001b[38;5;124mb.*\u001b[39m\u001b[38;5;124m\"\u001b[39m),\n\u001b[1;32m      5\u001b[0m     \n\u001b[1;32m      6\u001b[0m     \u001b[38;5;66;03m# Rules for 'PAYPAL [MERCHANT] INTERNET PAYMENT' format\u001b[39;00m\n\u001b[0;32m----> 7\u001b[0m     \u001b[43mre\u001b[49m\u001b[38;5;241;43m.\u001b[39;49m\u001b[43mcompile\u001b[49m\u001b[43m(\u001b[49m\u001b[38;5;124;43mr\u001b[39;49m\u001b[38;5;124;43m\"\u001b[39;49m\u001b[38;5;124;43m^PAYPAL\u001b[39;49m\u001b[38;5;124;43m\\\u001b[39;49m\u001b[38;5;124;43ms+([A-Z\u001b[39;49m\u001b[38;5;124;43m\\\u001b[39;49m\u001b[38;5;124;43ms0-9\u001b[39;49m\u001b[38;5;124;43m'\u001b[39;49m\u001b[38;5;124;43m.*-&]+?)\u001b[39;49m\u001b[38;5;124;43m\\\u001b[39;49m\u001b[38;5;124;43ms+(?:INTERNET\u001b[39;49m\u001b[38;5;124;43m\\\u001b[39;49m\u001b[38;5;124;43ms+PAYMENT|COID.*)?.*$\u001b[39;49m\u001b[38;5;124;43m\"\u001b[39;49m\u001b[43m)\u001b[49m,\n\u001b[1;32m      8\u001b[0m \n\u001b[1;32m      9\u001b[0m     \u001b[38;5;66;03m# Rules for '[MERCHANT] ... PAYPAL' format\u001b[39;00m\n\u001b[1;32m     10\u001b[0m     re\u001b[38;5;241m.\u001b[39mcompile(\u001b[38;5;124mr\u001b[39m\u001b[38;5;124m\"\u001b[39m\u001b[38;5;124m^([A-Z\u001b[39m\u001b[38;5;124m\\\u001b[39m\u001b[38;5;124ms0-9\u001b[39m\u001b[38;5;124m'\u001b[39m\u001b[38;5;124m.*-&]+?)\u001b[39m\u001b[38;5;124m\\\u001b[39m\u001b[38;5;124ms+PAYPAL.*$\u001b[39m\u001b[38;5;124m\"\u001b[39m),\n\u001b[1;32m     11\u001b[0m \n\u001b[1;32m     12\u001b[0m     \u001b[38;5;66;03m# Handle 'PAYPAL *... MERCHANT' (from INST XFER)\u001b[39;00m\n\u001b[1;32m     13\u001b[0m     re\u001b[38;5;241m.\u001b[39mcompile(\u001b[38;5;124mr\u001b[39m\u001b[38;5;124m\"\u001b[39m\u001b[38;5;124m^PAYPAL\u001b[39m\u001b[38;5;124m\\\u001b[39m\u001b[38;5;124ms*\u001b[39m\u001b[38;5;124m\\\u001b[39m\u001b[38;5;124m*+\u001b[39m\u001b[38;5;124m\\\u001b[39m\u001b[38;5;124ms*([A-Z\u001b[39m\u001b[38;5;124m\\\u001b[39m\u001b[38;5;124ms0-9\u001b[39m\u001b[38;5;124m'\u001b[39m\u001b[38;5;124m.-&]+).*\u001b[39m\u001b[38;5;124m\"\u001b[39m),\n\u001b[1;32m     14\u001b[0m     \u001b[38;5;66;03m# Handle 'PAYPAL : MERCHANT' (from INST XFER / ID:)\u001b[39;00m\n\u001b[1;32m     15\u001b[0m     re\u001b[38;5;241m.\u001b[39mcompile(\u001b[38;5;124mr\u001b[39m\u001b[38;5;124m\"\u001b[39m\u001b[38;5;124m^PAYPAL\u001b[39m\u001b[38;5;124m\\\u001b[39m\u001b[38;5;124ms*:\u001b[39m\u001b[38;5;124m\\\u001b[39m\u001b[38;5;124ms*([A-Z\u001b[39m\u001b[38;5;124m\\\u001b[39m\u001b[38;5;124ms0-9\u001b[39m\u001b[38;5;124m'\u001b[39m\u001b[38;5;124m.-&]+).*\u001b[39m\u001b[38;5;124m\"\u001b[39m),\n\u001b[1;32m     16\u001b[0m \n\u001b[1;32m     17\u001b[0m     \u001b[38;5;66;03m# --- NEW: High-Frequency Merchants (Capture prefix as merchant) ---\u001b[39;00m\n\u001b[1;32m     18\u001b[0m     re\u001b[38;5;241m.\u001b[39mcompile(\u001b[38;5;124mr\u001b[39m\u001b[38;5;124m\"\u001b[39m\u001b[38;5;124m^(7-ELEVEN|7\u001b[39m\u001b[38;5;124m\\\u001b[39m\u001b[38;5;124ms+11)\u001b[39m\u001b[38;5;124m\\\u001b[39m\u001b[38;5;124ms*\u001b[39m\u001b[38;5;124m\\\u001b[39m\u001b[38;5;124m*?#?.*\u001b[39m\u001b[38;5;124m\"\u001b[39m),\n\u001b[1;32m     19\u001b[0m     re\u001b[38;5;241m.\u001b[39mcompile(\u001b[38;5;124mr\u001b[39m\u001b[38;5;124m\"\u001b[39m\u001b[38;5;124m^(DDBR)\u001b[39m\u001b[38;5;124m\\\u001b[39m\u001b[38;5;124ms*\u001b[39m\u001b[38;5;124m\\\u001b[39m\u001b[38;5;124m*?#?.*\u001b[39m\u001b[38;5;124m\"\u001b[39m), \n\u001b[1;32m     20\u001b[0m     re\u001b[38;5;241m.\u001b[39mcompile(\u001b[38;5;124mr\u001b[39m\u001b[38;5;124m\"\u001b[39m\u001b[38;5;124m^(AMZN\u001b[39m\u001b[38;5;124m\\\u001b[39m\u001b[38;5;124ms*MKTP|AMAZON\u001b[39m\u001b[38;5;124m\\\u001b[39m\u001b[38;5;124ms*MKTPLACE|AMAZON\u001b[39m\u001b[38;5;124m\\\u001b[39m\u001b[38;5;124m.COM)\u001b[39m\u001b[38;5;124m\\\u001b[39m\u001b[38;5;124mb.*\u001b[39m\u001b[38;5;124m\"\u001b[39m),\n\u001b[1;32m     21\u001b[0m     re\u001b[38;5;241m.\u001b[39mcompile(\u001b[38;5;124mr\u001b[39m\u001b[38;5;124m\"\u001b[39m\u001b[38;5;124m^(WAL-MART|WM\u001b[39m\u001b[38;5;124m\\\u001b[39m\u001b[38;5;124ms+SUPER)\u001b[39m\u001b[38;5;124m\\\u001b[39m\u001b[38;5;124mb.*\u001b[39m\u001b[38;5;124m\"\u001b[39m),\n\u001b[1;32m     22\u001b[0m     re\u001b[38;5;241m.\u001b[39mcompile(\u001b[38;5;124mr\u001b[39m\u001b[38;5;124m\"\u001b[39m\u001b[38;5;124m^(UBER|LYFT)\u001b[39m\u001b[38;5;124m\\\u001b[39m\u001b[38;5;124mb.*\u001b[39m\u001b[38;5;124m\"\u001b[39m),\n\u001b[1;32m     23\u001b[0m     re\u001b[38;5;241m.\u001b[39mcompile(\u001b[38;5;124mr\u001b[39m\u001b[38;5;124m\"\u001b[39m\u001b[38;5;124m^(DOORDASH|GRUBHUB)\u001b[39m\u001b[38;5;124m\\\u001b[39m\u001b[38;5;124mb.*\u001b[39m\u001b[38;5;124m\"\u001b[39m),\n\u001b[1;32m     24\u001b[0m     re\u001b[38;5;241m.\u001b[39mcompile(\u001b[38;5;124mr\u001b[39m\u001b[38;5;124m\"\u001b[39m\u001b[38;5;124m^(STARBUCKS|SBUX)\u001b[39m\u001b[38;5;124m\\\u001b[39m\u001b[38;5;124mb.*\u001b[39m\u001b[38;5;124m\"\u001b[39m),\n\u001b[1;32m     25\u001b[0m     re\u001b[38;5;241m.\u001b[39mcompile(\u001b[38;5;124mr\u001b[39m\u001b[38;5;124m\"\u001b[39m\u001b[38;5;124m^(MCDONALD\u001b[39m\u001b[38;5;124m'\u001b[39m\u001b[38;5;124mS|MCDONALDS)\u001b[39m\u001b[38;5;124m\\\u001b[39m\u001b[38;5;124mb.*\u001b[39m\u001b[38;5;124m\"\u001b[39m),\n\u001b[1;32m     26\u001b[0m     re\u001b[38;5;241m.\u001b[39mcompile(\u001b[38;5;124mr\u001b[39m\u001b[38;5;124m\"\u001b[39m\u001b[38;5;124m^(TARGET)\u001b[39m\u001b[38;5;124m\\\u001b[39m\u001b[38;5;124mb.*\u001b[39m\u001b[38;5;124m\"\u001b[39m),\n\u001b[1;32m     27\u001b[0m     re\u001b[38;5;241m.\u001b[39mcompile(\u001b[38;5;124mr\u001b[39m\u001b[38;5;124m\"\u001b[39m\u001b[38;5;124m^(COSTCO)\u001b[39m\u001b[38;5;124m\\\u001b[39m\u001b[38;5;124mb.*\u001b[39m\u001b[38;5;124m\"\u001b[39m),\n\u001b[1;32m     28\u001b[0m \n\u001b[1;32m     29\u001b[0m     \u001b[38;5;66;03m# --- Standardized Prefix Rules (Capture *after* prefix) ---\u001b[39;00m\n\u001b[1;32m     30\u001b[0m     re\u001b[38;5;241m.\u001b[39mcompile(\u001b[38;5;124mr\u001b[39m\u001b[38;5;124m\"\u001b[39m\u001b[38;5;124m^ACI\u001b[39m\u001b[38;5;124m\\\u001b[39m\u001b[38;5;124ms*\u001b[39m\u001b[38;5;124m\\\u001b[39m\u001b[38;5;124m*?\u001b[39m\u001b[38;5;124m\\\u001b[39m\u001b[38;5;124ms*([A-Z\u001b[39m\u001b[38;5;124m\\\u001b[39m\u001b[38;5;124ms0-9\u001b[39m\u001b[38;5;124m'\u001b[39m\u001b[38;5;124m.-&]+).*\u001b[39m\u001b[38;5;124m\"\u001b[39m),\n\u001b[1;32m     31\u001b[0m     re\u001b[38;5;241m.\u001b[39mcompile(\u001b[38;5;124mr\u001b[39m\u001b[38;5;124m\"\u001b[39m\u001b[38;5;124m^KING\u001b[39m\u001b[38;5;124m\\\u001b[39m\u001b[38;5;124ms*#\u001b[39m\u001b[38;5;124m\\\u001b[39m\u001b[38;5;124ms*([A-Z\u001b[39m\u001b[38;5;124m\\\u001b[39m\u001b[38;5;124ms0-9\u001b[39m\u001b[38;5;124m'\u001b[39m\u001b[38;5;124m.-&]+).*\u001b[39m\u001b[38;5;124m\"\u001b[39m),\n\u001b[1;32m     32\u001b[0m     re\u001b[38;5;241m.\u001b[39mcompile(\u001b[38;5;124mr\u001b[39m\u001b[38;5;124m\"\u001b[39m\u001b[38;5;124m^ACE\u001b[39m\u001b[38;5;124m\\\u001b[39m\u001b[38;5;124ms*\u001b[39m\u001b[38;5;124m\\\u001b[39m\u001b[38;5;124m*?\u001b[39m\u001b[38;5;124m\\\u001b[39m\u001b[38;5;124ms*([A-Z\u001b[39m\u001b[38;5;124m\\\u001b[39m\u001b[38;5;124ms0-9\u001b[39m\u001b[38;5;124m'\u001b[39m\u001b[38;5;124m.-&]+).*\u001b[39m\u001b[38;5;124m\"\u001b[39m),\n\u001b[1;32m     33\u001b[0m     re\u001b[38;5;241m.\u001b[39mcompile(\u001b[38;5;124mr\u001b[39m\u001b[38;5;124m\"\u001b[39m\u001b[38;5;124m^ZG\u001b[39m\u001b[38;5;124m\\\u001b[39m\u001b[38;5;124ms*\u001b[39m\u001b[38;5;124m\\\u001b[39m\u001b[38;5;124m*?\u001b[39m\u001b[38;5;124m\\\u001b[39m\u001b[38;5;124ms*([A-Z\u001b[39m\u001b[38;5;124m\\\u001b[39m\u001b[38;5;124ms0-9\u001b[39m\u001b[38;5;124m'\u001b[39m\u001b[38;5;124m.-&]+).*\u001b[39m\u001b[38;5;124m\"\u001b[39m),\n\u001b[1;32m     34\u001b[0m     re\u001b[38;5;241m.\u001b[39mcompile(\u001b[38;5;124mr\u001b[39m\u001b[38;5;124m\"\u001b[39m\u001b[38;5;124m^YSI\u001b[39m\u001b[38;5;124m\\\u001b[39m\u001b[38;5;124ms*\u001b[39m\u001b[38;5;124m\\\u001b[39m\u001b[38;5;124m*?\u001b[39m\u001b[38;5;124m\\\u001b[39m\u001b[38;5;124ms*([A-Z\u001b[39m\u001b[38;5;124m\\\u001b[39m\u001b[38;5;124ms0-9\u001b[39m\u001b[38;5;124m'\u001b[39m\u001b[38;5;124m.-&]+).*\u001b[39m\u001b[38;5;124m\"\u001b[39m),\n\u001b[1;32m     35\u001b[0m     re\u001b[38;5;241m.\u001b[39mcompile(\u001b[38;5;124mr\u001b[39m\u001b[38;5;124m\"\u001b[39m\u001b[38;5;124m^DD\u001b[39m\u001b[38;5;124m\\\u001b[39m\u001b[38;5;124ms*\u001b[39m\u001b[38;5;124m\\\u001b[39m\u001b[38;5;124m*?\u001b[39m\u001b[38;5;124m\\\u001b[39m\u001b[38;5;124ms*([A-Z\u001b[39m\u001b[38;5;124m\\\u001b[39m\u001b[38;5;124ms0-9\u001b[39m\u001b[38;5;124m'\u001b[39m\u001b[38;5;124m.-&]+).*\u001b[39m\u001b[38;5;124m\"\u001b[39m),\n\u001b[1;32m     36\u001b[0m     re\u001b[38;5;241m.\u001b[39mcompile(\u001b[38;5;124mr\u001b[39m\u001b[38;5;124m\"\u001b[39m\u001b[38;5;124m^CCI\u001b[39m\u001b[38;5;124m\\\u001b[39m\u001b[38;5;124ms*\u001b[39m\u001b[38;5;124m\\\u001b[39m\u001b[38;5;124m*?\u001b[39m\u001b[38;5;124m\\\u001b[39m\u001b[38;5;124ms*([A-Z\u001b[39m\u001b[38;5;124m\\\u001b[39m\u001b[38;5;124ms0-9\u001b[39m\u001b[38;5;124m'\u001b[39m\u001b[38;5;124m.-&]+).*\u001b[39m\u001b[38;5;124m\"\u001b[39m),\n\u001b[1;32m     37\u001b[0m     re\u001b[38;5;241m.\u001b[39mcompile(\u001b[38;5;124mr\u001b[39m\u001b[38;5;124m\"\u001b[39m\u001b[38;5;124m^PY\u001b[39m\u001b[38;5;124m\\\u001b[39m\u001b[38;5;124ms*\u001b[39m\u001b[38;5;124m\\\u001b[39m\u001b[38;5;124m*?\u001b[39m\u001b[38;5;124m\\\u001b[39m\u001b[38;5;124ms*([A-Z\u001b[39m\u001b[38;5;124m\\\u001b[39m\u001b[38;5;124ms0-9\u001b[39m\u001b[38;5;124m'\u001b[39m\u001b[38;5;124m.-&]+).*\u001b[39m\u001b[38;5;124m\"\u001b[39m),\n\u001b[1;32m     38\u001b[0m     re\u001b[38;5;241m.\u001b[39mcompile(\u001b[38;5;124mr\u001b[39m\u001b[38;5;124m\"\u001b[39m\u001b[38;5;124m^ANC\u001b[39m\u001b[38;5;124m\\\u001b[39m\u001b[38;5;124ms*\u001b[39m\u001b[38;5;124m\\\u001b[39m\u001b[38;5;124m*?\u001b[39m\u001b[38;5;124m\\\u001b[39m\u001b[38;5;124ms*([A-Z\u001b[39m\u001b[38;5;124m\\\u001b[39m\u001b[38;5;124ms0-9\u001b[39m\u001b[38;5;124m'\u001b[39m\u001b[38;5;124m.-&]+).*\u001b[39m\u001b[38;5;124m\"\u001b[39m),\n\u001b[1;32m     39\u001b[0m     re\u001b[38;5;241m.\u001b[39mcompile(\u001b[38;5;124mr\u001b[39m\u001b[38;5;124m\"\u001b[39m\u001b[38;5;124m^J2\u001b[39m\u001b[38;5;124m\\\u001b[39m\u001b[38;5;124ms*\u001b[39m\u001b[38;5;124m\\\u001b[39m\u001b[38;5;124m*?\u001b[39m\u001b[38;5;124m\\\u001b[39m\u001b[38;5;124ms*([A-Z\u001b[39m\u001b[38;5;124m\\\u001b[39m\u001b[38;5;124ms0-9\u001b[39m\u001b[38;5;124m'\u001b[39m\u001b[38;5;124m.-&]+).*\u001b[39m\u001b[38;5;124m\"\u001b[39m),\n\u001b[1;32m     40\u001b[0m     re\u001b[38;5;241m.\u001b[39mcompile(\u001b[38;5;124mr\u001b[39m\u001b[38;5;124m\"\u001b[39m\u001b[38;5;124m^OSP\u001b[39m\u001b[38;5;124m\\\u001b[39m\u001b[38;5;124ms*\u001b[39m\u001b[38;5;124m\\\u001b[39m\u001b[38;5;124m*?\u001b[39m\u001b[38;5;124m\\\u001b[39m\u001b[38;5;124ms*([A-Z\u001b[39m\u001b[38;5;124m\\\u001b[39m\u001b[38;5;124ms0-9\u001b[39m\u001b[38;5;124m'\u001b[39m\u001b[38;5;124m.-&]+).*\u001b[39m\u001b[38;5;124m\"\u001b[39m),\n\u001b[1;32m     41\u001b[0m     re\u001b[38;5;241m.\u001b[39mcompile(\u001b[38;5;124mr\u001b[39m\u001b[38;5;124m\"\u001b[39m\u001b[38;5;124m^PL\u001b[39m\u001b[38;5;124m\\\u001b[39m\u001b[38;5;124ms*\u001b[39m\u001b[38;5;124m\\\u001b[39m\u001b[38;5;124m*?\u001b[39m\u001b[38;5;124m\\\u001b[39m\u001b[38;5;124ms*([A-Z\u001b[39m\u001b[38;5;124m\\\u001b[39m\u001b[38;5;124ms0-9\u001b[39m\u001b[38;5;124m'\u001b[39m\u001b[38;5;124m.-&]+).*\u001b[39m\u001b[38;5;124m\"\u001b[39m),\n\u001b[1;32m     42\u001b[0m     re\u001b[38;5;241m.\u001b[39mcompile(\u001b[38;5;124mr\u001b[39m\u001b[38;5;124m\"\u001b[39m\u001b[38;5;124m^RTI\u001b[39m\u001b[38;5;124m\\\u001b[39m\u001b[38;5;124ms*\u001b[39m\u001b[38;5;124m\\\u001b[39m\u001b[38;5;124m*?\u001b[39m\u001b[38;5;124m\\\u001b[39m\u001b[38;5;124ms*([A-Z\u001b[39m\u001b[38;5;124m\\\u001b[39m\u001b[38;5;124ms0-9\u001b[39m\u001b[38;5;124m'\u001b[39m\u001b[38;5;124m.-&]+).*\u001b[39m\u001b[38;5;124m\"\u001b[39m),\n\u001b[1;32m     43\u001b[0m     re\u001b[38;5;241m.\u001b[39mcompile(\u001b[38;5;124mr\u001b[39m\u001b[38;5;124m\"\u001b[39m\u001b[38;5;124m^FSP\u001b[39m\u001b[38;5;124m\\\u001b[39m\u001b[38;5;124ms*\u001b[39m\u001b[38;5;124m\\\u001b[39m\u001b[38;5;124m*?\u001b[39m\u001b[38;5;124m\\\u001b[39m\u001b[38;5;124ms*([A-Z\u001b[39m\u001b[38;5;124m\\\u001b[39m\u001b[38;5;124ms0-9\u001b[39m\u001b[38;5;124m'\u001b[39m\u001b[38;5;124m.-&]+).*\u001b[39m\u001b[38;5;124m\"\u001b[39m),\n\u001b[1;32m     44\u001b[0m     re\u001b[38;5;241m.\u001b[39mcompile(\u001b[38;5;124mr\u001b[39m\u001b[38;5;124m\"\u001b[39m\u001b[38;5;124m^PT\u001b[39m\u001b[38;5;124m\\\u001b[39m\u001b[38;5;124ms*\u001b[39m\u001b[38;5;124m\\\u001b[39m\u001b[38;5;124m*?\u001b[39m\u001b[38;5;124m\\\u001b[39m\u001b[38;5;124ms*([A-Z\u001b[39m\u001b[38;5;124m\\\u001b[39m\u001b[38;5;124ms0-9\u001b[39m\u001b[38;5;124m'\u001b[39m\u001b[38;5;124m.-&]+).*\u001b[39m\u001b[38;5;124m\"\u001b[39m),\n\u001b[1;32m     45\u001b[0m     re\u001b[38;5;241m.\u001b[39mcompile(\u001b[38;5;124mr\u001b[39m\u001b[38;5;124m\"\u001b[39m\u001b[38;5;124m^PP\u001b[39m\u001b[38;5;124m\\\u001b[39m\u001b[38;5;124ms*\u001b[39m\u001b[38;5;124m\\\u001b[39m\u001b[38;5;124m*?\u001b[39m\u001b[38;5;124m\\\u001b[39m\u001b[38;5;124ms*([A-Z\u001b[39m\u001b[38;5;124m\\\u001b[39m\u001b[38;5;124ms0-9\u001b[39m\u001b[38;5;124m'\u001b[39m\u001b[38;5;124m.-&]+).*\u001b[39m\u001b[38;5;124m\"\u001b[39m),\n\u001b[1;32m     46\u001b[0m     re\u001b[38;5;241m.\u001b[39mcompile(\u001b[38;5;124mr\u001b[39m\u001b[38;5;124m\"\u001b[39m\u001b[38;5;124m^CHR\u001b[39m\u001b[38;5;124m\\\u001b[39m\u001b[38;5;124ms*\u001b[39m\u001b[38;5;124m\\\u001b[39m\u001b[38;5;124m*?\u001b[39m\u001b[38;5;124m\\\u001b[39m\u001b[38;5;124ms*([A-Z\u001b[39m\u001b[38;5;124m\\\u001b[39m\u001b[38;5;124ms0-9\u001b[39m\u001b[38;5;124m'\u001b[39m\u001b[38;5;124m.-&]+).*\u001b[39m\u001b[38;5;124m\"\u001b[39m),\n\u001b[1;32m     47\u001b[0m     re\u001b[38;5;241m.\u001b[39mcompile(\u001b[38;5;124mr\u001b[39m\u001b[38;5;124m\"\u001b[39m\u001b[38;5;124m^USA\u001b[39m\u001b[38;5;124m\\\u001b[39m\u001b[38;5;124ms*\u001b[39m\u001b[38;5;124m\\\u001b[39m\u001b[38;5;124m*?\u001b[39m\u001b[38;5;124m\\\u001b[39m\u001b[38;5;124ms*([A-Z\u001b[39m\u001b[38;5;124m\\\u001b[39m\u001b[38;5;124ms0-9\u001b[39m\u001b[38;5;124m'\u001b[39m\u001b[38;5;124m.-&]+).*\u001b[39m\u001b[38;5;124m\"\u001b[39m),\n\u001b[1;32m     48\u001b[0m     re\u001b[38;5;241m.\u001b[39mcompile(\u001b[38;5;124mr\u001b[39m\u001b[38;5;124m\"\u001b[39m\u001b[38;5;124m^SP\u001b[39m\u001b[38;5;124m\\\u001b[39m\u001b[38;5;124ms*\u001b[39m\u001b[38;5;124m\\\u001b[39m\u001b[38;5;124m*?\u001b[39m\u001b[38;5;124m\\\u001b[39m\u001b[38;5;124ms*([A-Z\u001b[39m\u001b[38;5;124m\\\u001b[39m\u001b[38;5;124ms0-9\u001b[39m\u001b[38;5;124m'\u001b[39m\u001b[38;5;124m.-&]+).*\u001b[39m\u001b[38;5;124m\"\u001b[39m),\n\u001b[1;32m     49\u001b[0m     \n\u001b[1;32m     50\u001b[0m     \u001b[38;5;66;03m# === TST RULES (Precise, non-greedy) ===\u001b[39;00m\n\u001b[1;32m     51\u001b[0m     re\u001b[38;5;241m.\u001b[39mcompile(\u001b[38;5;124mr\u001b[39m\u001b[38;5;124m\"\u001b[39m\u001b[38;5;124m^(?:POS\u001b[39m\u001b[38;5;124m\\\u001b[39m\u001b[38;5;124ms+)?TST\u001b[39m\u001b[38;5;124m\\\u001b[39m\u001b[38;5;124ms*\u001b[39m\u001b[38;5;124m\\\u001b[39m\u001b[38;5;124m*?\u001b[39m\u001b[38;5;124m\\\u001b[39m\u001b[38;5;124ms*([A-Z\u001b[39m\u001b[38;5;124m\\\u001b[39m\u001b[38;5;124ms0-9\u001b[39m\u001b[38;5;124m'\u001b[39m\u001b[38;5;124m.-&]+?)\u001b[39m\u001b[38;5;124m\\\u001b[39m\u001b[38;5;124ms+[A-Z]\u001b[39m\u001b[38;5;124m{\u001b[39m\u001b[38;5;124m2,}\u001b[39m\u001b[38;5;124m\\\u001b[39m\u001b[38;5;124ms+[A-Z]\u001b[39m\u001b[38;5;124m{\u001b[39m\u001b[38;5;124m2,}\u001b[39m\u001b[38;5;124m\\\u001b[39m\u001b[38;5;124ms+ON\u001b[39m\u001b[38;5;124m\\\u001b[39m\u001b[38;5;124ms*##.*\u001b[39m\u001b[38;5;124m\"\u001b[39m),\n\u001b[1;32m     52\u001b[0m     re\u001b[38;5;241m.\u001b[39mcompile(\u001b[38;5;124mr\u001b[39m\u001b[38;5;124m\"\u001b[39m\u001b[38;5;124m^(?:POS\u001b[39m\u001b[38;5;124m\\\u001b[39m\u001b[38;5;124ms+)?TST\u001b[39m\u001b[38;5;124m\\\u001b[39m\u001b[38;5;124ms*\u001b[39m\u001b[38;5;124m\\\u001b[39m\u001b[38;5;124m*?\u001b[39m\u001b[38;5;124m\\\u001b[39m\u001b[38;5;124ms*([A-Z\u001b[39m\u001b[38;5;124m\\\u001b[39m\u001b[38;5;124ms0-9\u001b[39m\u001b[38;5;124m'\u001b[39m\u001b[38;5;124m.-&]+?)\u001b[39m\u001b[38;5;124m\\\u001b[39m\u001b[38;5;124ms+[A-Z]\u001b[39m\u001b[38;5;124m{\u001b[39m\u001b[38;5;124m2,}\u001b[39m\u001b[38;5;124m\\\u001b[39m\u001b[38;5;124ms+ON\u001b[39m\u001b[38;5;124m\\\u001b[39m\u001b[38;5;124ms*##.*\u001b[39m\u001b[38;5;124m\"\u001b[39m),\n\u001b[1;32m     53\u001b[0m     \u001b[38;5;66;03m# NEW: Stop at City, ST\u001b[39;00m\n\u001b[1;32m     54\u001b[0m     re\u001b[38;5;241m.\u001b[39mcompile(\u001b[38;5;124mr\u001b[39m\u001b[38;5;124m\"\u001b[39m\u001b[38;5;124m^(?:POS\u001b[39m\u001b[38;5;124m\\\u001b[39m\u001b[38;5;124ms+)?TST\u001b[39m\u001b[38;5;124m\\\u001b[39m\u001b[38;5;124ms*\u001b[39m\u001b[38;5;124m\\\u001b[39m\u001b[38;5;124m*?\u001b[39m\u001b[38;5;124m\\\u001b[39m\u001b[38;5;124ms*([A-Z\u001b[39m\u001b[38;5;124m\\\u001b[39m\u001b[38;5;124ms0-9\u001b[39m\u001b[38;5;124m'\u001b[39m\u001b[38;5;124m.-&]+?)\u001b[39m\u001b[38;5;124m\\\u001b[39m\u001b[38;5;124ms+[A-Z]\u001b[39m\u001b[38;5;124m{\u001b[39m\u001b[38;5;124m2,}\u001b[39m\u001b[38;5;124m\\\u001b[39m\u001b[38;5;124ms+[A-Z]\u001b[39m\u001b[38;5;124m{\u001b[39m\u001b[38;5;124m2,}\u001b[39m\u001b[38;5;124m\\\u001b[39m\u001b[38;5;124mb.*\u001b[39m\u001b[38;5;124m\"\u001b[39m),\n\u001b[1;32m     55\u001b[0m     \u001b[38;5;66;03m# NEW: Stop at City\u001b[39;00m\n\u001b[1;32m     56\u001b[0m     re\u001b[38;5;241m.\u001b[39mcompile(\u001b[38;5;124mr\u001b[39m\u001b[38;5;124m\"\u001b[39m\u001b[38;5;124m^(?:POS\u001b[39m\u001b[38;5;124m\\\u001b[39m\u001b[38;5;124ms+)?TST\u001b[39m\u001b[38;5;124m\\\u001b[39m\u001b[38;5;124ms*\u001b[39m\u001b[38;5;124m\\\u001b[39m\u001b[38;5;124m*?\u001b[39m\u001b[38;5;124m\\\u001b[39m\u001b[38;5;124ms*([A-Z\u001b[39m\u001b[38;5;124m\\\u001b[39m\u001b[38;5;124ms0-9\u001b[39m\u001b[38;5;124m'\u001b[39m\u001b[38;5;124m.-&]+?)\u001b[39m\u001b[38;5;124m\\\u001b[39m\u001b[38;5;124ms+[A-Z]\u001b[39m\u001b[38;5;124m{\u001b[39m\u001b[38;5;124m2,}\u001b[39m\u001b[38;5;124m\\\u001b[39m\u001b[38;5;124mb.*\u001b[39m\u001b[38;5;124m\"\u001b[39m),\n\u001b[1;32m     57\u001b[0m     \u001b[38;5;66;03m# Fallback: (POS) TST* MERCHANT... (Greedy)\u001b[39;00m\n\u001b[1;32m     58\u001b[0m     re\u001b[38;5;241m.\u001b[39mcompile(\u001b[38;5;124mr\u001b[39m\u001b[38;5;124m\"\u001b[39m\u001b[38;5;124m^(?:POS\u001b[39m\u001b[38;5;124m\\\u001b[39m\u001b[38;5;124ms+)?TST\u001b[39m\u001b[38;5;124m\\\u001b[39m\u001b[38;5;124ms*\u001b[39m\u001b[38;5;124m\\\u001b[39m\u001b[38;5;124m*?\u001b[39m\u001b[38;5;124m\\\u001b[39m\u001b[38;5;124ms*([A-Z\u001b[39m\u001b[38;5;124m\\\u001b[39m\u001b[38;5;124ms0-9\u001b[39m\u001b[38;5;124m'\u001b[39m\u001b[38;5;124m.-&]+).*\u001b[39m\u001b[38;5;124m\"\u001b[39m), \n\u001b[1;32m     59\u001b[0m     \n\u001b[1;32m     60\u001b[0m     \u001b[38;5;66;03m# === SQ RULES (Precise, non-greedy) ===\u001b[39;00m\n\u001b[1;32m     61\u001b[0m     \u001b[38;5;66;03m# NEW: Stop at City, ST\u001b[39;00m\n\u001b[1;32m     62\u001b[0m     re\u001b[38;5;241m.\u001b[39mcompile(\u001b[38;5;124mr\u001b[39m\u001b[38;5;124m\"\u001b[39m\u001b[38;5;124m^SQ\u001b[39m\u001b[38;5;124m\\\u001b[39m\u001b[38;5;124ms*\u001b[39m\u001b[38;5;124m\\\u001b[39m\u001b[38;5;124m*?\u001b[39m\u001b[38;5;124m\\\u001b[39m\u001b[38;5;124ms*([A-Z\u001b[39m\u001b[38;5;124m\\\u001b[39m\u001b[38;5;124ms0-9\u001b[39m\u001b[38;5;124m'\u001b[39m\u001b[38;5;124m.-&]+?)\u001b[39m\u001b[38;5;124m\\\u001b[39m\u001b[38;5;124ms+[A-Z]\u001b[39m\u001b[38;5;124m{\u001b[39m\u001b[38;5;124m2,}\u001b[39m\u001b[38;5;124m\\\u001b[39m\u001b[38;5;124ms+[A-Z]\u001b[39m\u001b[38;5;124m{\u001b[39m\u001b[38;5;124m2,}\u001b[39m\u001b[38;5;124m\\\u001b[39m\u001b[38;5;124mb.*\u001b[39m\u001b[38;5;124m\"\u001b[39m),\n\u001b[1;32m     63\u001b[0m     \u001b[38;5;66;03m# NEW: Stop at City\u001b[39;00m\n\u001b[1;32m     64\u001b[0m     re\u001b[38;5;241m.\u001b[39mcompile(\u001b[38;5;124mr\u001b[39m\u001b[38;5;124m\"\u001b[39m\u001b[38;5;124m^SQ\u001b[39m\u001b[38;5;124m\\\u001b[39m\u001b[38;5;124ms*\u001b[39m\u001b[38;5;124m\\\u001b[39m\u001b[38;5;124m*?\u001b[39m\u001b[38;5;124m\\\u001b[39m\u001b[38;5;124ms*([A-Z\u001b[39m\u001b[38;5;124m\\\u001b[39m\u001b[38;5;124ms0-9\u001b[39m\u001b[38;5;124m'\u001b[39m\u001b[38;5;124m.-&]+?)\u001b[39m\u001b[38;5;124m\\\u001b[39m\u001b[38;5;124ms+[A-Z]\u001b[39m\u001b[38;5;124m{\u001b[39m\u001b[38;5;124m2,}\u001b[39m\u001b[38;5;124m\\\u001b[39m\u001b[38;5;124mb.*\u001b[39m\u001b[38;5;124m\"\u001b[39m),\n\u001b[1;32m     65\u001b[0m     \u001b[38;5;66;03m# Fallback: SQ* MERCHANT... (Greedy)\u001b[39;00m\n\u001b[1;32m     66\u001b[0m     re\u001b[38;5;241m.\u001b[39mcompile(\u001b[38;5;124mr\u001b[39m\u001b[38;5;124m\"\u001b[39m\u001b[38;5;124m^SQ\u001b[39m\u001b[38;5;124m\\\u001b[39m\u001b[38;5;124ms*\u001b[39m\u001b[38;5;124m\\\u001b[39m\u001b[38;5;124m*?\u001b[39m\u001b[38;5;124m\\\u001b[39m\u001b[38;5;124ms*([A-Z\u001b[39m\u001b[38;5;124m\\\u001b[39m\u001b[38;5;124ms0-9\u001b[39m\u001b[38;5;124m'\u001b[39m\u001b[38;5;124m.-&]+).*\u001b[39m\u001b[38;5;124m\"\u001b[39m),\n\u001b[1;32m     67\u001b[0m     \n\u001b[1;32m     68\u001b[0m     re\u001b[38;5;241m.\u001b[39mcompile(\u001b[38;5;124mr\u001b[39m\u001b[38;5;124m\"\u001b[39m\u001b[38;5;124m^CKE\u001b[39m\u001b[38;5;124m\\\u001b[39m\u001b[38;5;124ms*\u001b[39m\u001b[38;5;124m\\\u001b[39m\u001b[38;5;124m*?\u001b[39m\u001b[38;5;124m\\\u001b[39m\u001b[38;5;124ms*([A-Z\u001b[39m\u001b[38;5;124m\\\u001b[39m\u001b[38;5;124ms0-9\u001b[39m\u001b[38;5;124m'\u001b[39m\u001b[38;5;124m.-&]+).*\u001b[39m\u001b[38;5;124m\"\u001b[39m),\n\u001b[1;32m     69\u001b[0m     re\u001b[38;5;241m.\u001b[39mcompile(\u001b[38;5;124mr\u001b[39m\u001b[38;5;124m\"\u001b[39m\u001b[38;5;124m^SP\u001b[39m\u001b[38;5;124m\\\u001b[39m\u001b[38;5;124m+AFF\u001b[39m\u001b[38;5;124m\\\u001b[39m\u001b[38;5;124ms*\u001b[39m\u001b[38;5;124m\\\u001b[39m\u001b[38;5;124m*?\u001b[39m\u001b[38;5;124m\\\u001b[39m\u001b[38;5;124ms*([A-Z\u001b[39m\u001b[38;5;124m\\\u001b[39m\u001b[38;5;124ms0-9\u001b[39m\u001b[38;5;124m'\u001b[39m\u001b[38;5;124m.-&]+).*\u001b[39m\u001b[38;5;124m\"\u001b[39m),\n\u001b[1;32m     70\u001b[0m     re\u001b[38;5;241m.\u001b[39mcompile(\u001b[38;5;124mr\u001b[39m\u001b[38;5;124m\"\u001b[39m\u001b[38;5;124m^IC\u001b[39m\u001b[38;5;124m\\\u001b[39m\u001b[38;5;124ms*\u001b[39m\u001b[38;5;124m\\\u001b[39m\u001b[38;5;124m*?\u001b[39m\u001b[38;5;124m\\\u001b[39m\u001b[38;5;124ms*([A-Z\u001b[39m\u001b[38;5;124m\\\u001b[39m\u001b[38;5;124ms0-9\u001b[39m\u001b[38;5;124m'\u001b[39m\u001b[38;5;124m.-&]+).*\u001b[39m\u001b[38;5;124m\"\u001b[39m), \n\u001b[1;32m     71\u001b[0m     re\u001b[38;5;241m.\u001b[39mcompile(\u001b[38;5;124mr\u001b[39m\u001b[38;5;124m\"\u001b[39m\u001b[38;5;124m^SIE\u001b[39m\u001b[38;5;124m\\\u001b[39m\u001b[38;5;124ms*\u001b[39m\u001b[38;5;124m\\\u001b[39m\u001b[38;5;124m*?\u001b[39m\u001b[38;5;124m\\\u001b[39m\u001b[38;5;124ms*([A-Z\u001b[39m\u001b[38;5;124m\\\u001b[39m\u001b[38;5;124ms0-9\u001b[39m\u001b[38;5;124m'\u001b[39m\u001b[38;5;124m.-&]+).*\u001b[39m\u001b[38;5;124m\"\u001b[39m),\n\u001b[1;32m     72\u001b[0m     \n\u001b[1;32m     73\u001b[0m     \u001b[38;5;66;03m# Generic PAYPAL rule, catches PAYPAL*MERCHANT\u001b[39;00m\n\u001b[1;32m     74\u001b[0m     re\u001b[38;5;241m.\u001b[39mcompile(\u001b[38;5;124mr\u001b[39m\u001b[38;5;124m\"\u001b[39m\u001b[38;5;124m^PAYPAL\u001b[39m\u001b[38;5;124m\\\u001b[39m\u001b[38;5;124ms*\u001b[39m\u001b[38;5;124m\\\u001b[39m\u001b[38;5;124m*?\u001b[39m\u001b[38;5;124m\\\u001b[39m\u001b[38;5;124ms*([A-Z\u001b[39m\u001b[38;5;124m\\\u001b[39m\u001b[38;5;124ms0-9\u001b[39m\u001b[38;5;124m'\u001b[39m\u001b[38;5;124m.-&]+).*\u001b[39m\u001b[38;5;124m\"\u001b[39m), \n\u001b[1;32m     75\u001b[0m \n\u001b[1;32m     76\u001b[0m     \u001b[38;5;66;03m# --- Specific '*' prefix rules (already correct) ---\u001b[39;00m\n\u001b[1;32m     77\u001b[0m     re\u001b[38;5;241m.\u001b[39mcompile(\u001b[38;5;124mr\u001b[39m\u001b[38;5;124m\"\u001b[39m\u001b[38;5;124m^AMS\u001b[39m\u001b[38;5;124m\\\u001b[39m\u001b[38;5;124ms*\u001b[39m\u001b[38;5;124m\\\u001b[39m\u001b[38;5;124m*+\u001b[39m\u001b[38;5;124m\\\u001b[39m\u001b[38;5;124ms*([A-Z\u001b[39m\u001b[38;5;124m\\\u001b[39m\u001b[38;5;124ms0-9\u001b[39m\u001b[38;5;124m'\u001b[39m\u001b[38;5;124m.-&]+).*\u001b[39m\u001b[38;5;124m\"\u001b[39m),\n\u001b[1;32m     78\u001b[0m     re\u001b[38;5;241m.\u001b[39mcompile(\u001b[38;5;124mr\u001b[39m\u001b[38;5;124m\"\u001b[39m\u001b[38;5;124m^ZSK\u001b[39m\u001b[38;5;124m\\\u001b[39m\u001b[38;5;124ms*\u001b[39m\u001b[38;5;124m\\\u001b[39m\u001b[38;5;124m*+ZSK\u001b[39m\u001b[38;5;124m\\\u001b[39m\u001b[38;5;124ms*\u001b[39m\u001b[38;5;124m\\\u001b[39m\u001b[38;5;124m*+([A-Z\u001b[39m\u001b[38;5;124m\\\u001b[39m\u001b[38;5;124ms0-9\u001b[39m\u001b[38;5;124m'\u001b[39m\u001b[38;5;124m.-&]+).*\u001b[39m\u001b[38;5;124m\"\u001b[39m),\n\u001b[1;32m     79\u001b[0m     re\u001b[38;5;241m.\u001b[39mcompile(\u001b[38;5;124mr\u001b[39m\u001b[38;5;124m\"\u001b[39m\u001b[38;5;124m^ZSK\u001b[39m\u001b[38;5;124m\\\u001b[39m\u001b[38;5;124ms*\u001b[39m\u001b[38;5;124m\\\u001b[39m\u001b[38;5;124m*+\u001b[39m\u001b[38;5;124m\\\u001b[39m\u001b[38;5;124ms*([A-Z\u001b[39m\u001b[38;5;124m\\\u001b[39m\u001b[38;5;124ms0-9\u001b[39m\u001b[38;5;124m'\u001b[39m\u001b[38;5;124m.-&]+).*\u001b[39m\u001b[38;5;124m\"\u001b[39m),\n\u001b[1;32m     80\u001b[0m     re\u001b[38;5;241m.\u001b[39mcompile(\u001b[38;5;124mr\u001b[39m\u001b[38;5;124m\"\u001b[39m\u001b[38;5;124m^CCM\u001b[39m\u001b[38;5;124m\\\u001b[39m\u001b[38;5;124ms*\u001b[39m\u001b[38;5;124m\\\u001b[39m\u001b[38;5;124m*+\u001b[39m\u001b[38;5;124m\\\u001b[39m\u001b[38;5;124ms*([A-Z\u001b[39m\u001b[38;5;124m\\\u001b[39m\u001b[38;5;124ms0-9\u001b[39m\u001b[38;5;124m'\u001b[39m\u001b[38;5;124m.-&]+).*\u001b[39m\u001b[38;5;124m\"\u001b[39m),\n\u001b[1;32m     81\u001b[0m     re\u001b[38;5;241m.\u001b[39mcompile(\u001b[38;5;124mr\u001b[39m\u001b[38;5;124m\"\u001b[39m\u001b[38;5;124m^ZIP\u001b[39m\u001b[38;5;124m\\\u001b[39m\u001b[38;5;124m.CO\u001b[39m\u001b[38;5;124m\\\u001b[39m\u001b[38;5;124ms*\u001b[39m\u001b[38;5;124m\\\u001b[39m\u001b[38;5;124m*+\u001b[39m\u001b[38;5;124m\\\u001b[39m\u001b[38;5;124ms*([A-Z\u001b[39m\u001b[38;5;124m\\\u001b[39m\u001b[38;5;124ms0-9\u001b[39m\u001b[38;5;124m'\u001b[39m\u001b[38;5;124m.-&]+).*\u001b[39m\u001b[38;5;124m\"\u001b[39m),\n\u001b[1;32m     82\u001b[0m     re\u001b[38;5;241m.\u001b[39mcompile(\u001b[38;5;124mr\u001b[39m\u001b[38;5;124m\"\u001b[39m\u001b[38;5;124m^XSOLLA\u001b[39m\u001b[38;5;124m\\\u001b[39m\u001b[38;5;124ms*\u001b[39m\u001b[38;5;124m\\\u001b[39m\u001b[38;5;124m*+\u001b[39m\u001b[38;5;124m\\\u001b[39m\u001b[38;5;124ms*([A-Z\u001b[39m\u001b[38;5;124m\\\u001b[39m\u001b[38;5;124ms0-9\u001b[39m\u001b[38;5;124m'\u001b[39m\u001b[38;5;124m.-&]+).*\u001b[39m\u001b[38;5;124m\"\u001b[39m),\n\u001b[1;32m     83\u001b[0m     re\u001b[38;5;241m.\u001b[39mcompile(\u001b[38;5;124mr\u001b[39m\u001b[38;5;124m\"\u001b[39m\u001b[38;5;124m^NOR\u001b[39m\u001b[38;5;124m\\\u001b[39m\u001b[38;5;124ms*\u001b[39m\u001b[38;5;124m\\\u001b[39m\u001b[38;5;124m*+\u001b[39m\u001b[38;5;124m\\\u001b[39m\u001b[38;5;124ms*([A-Z\u001b[39m\u001b[38;5;124m\\\u001b[39m\u001b[38;5;124ms0-9\u001b[39m\u001b[38;5;124m'\u001b[39m\u001b[38;5;124m.-&]+).*\u001b[39m\u001b[38;5;124m\"\u001b[39m),\n\u001b[1;32m     84\u001b[0m \n\u001b[1;32m     85\u001b[0m     \n\u001b[1;32m     86\u001b[0m     \u001b[38;5;66;03m# --- Generic Fallback Rules ---\u001b[39;00m\n\u001b[1;32m     87\u001b[0m     \u001b[38;5;66;03m# These rules try to find the merchant *before* a common delimiter.\u001b[39;00m\n\u001b[1;32m     88\u001b[0m     \n\u001b[1;32m     89\u001b[0m     \u001b[38;5;66;03m# Pattern for \"MERCHANT NAME * JUNK\"\u001b[39;00m\n\u001b[1;32m     90\u001b[0m     re\u001b[38;5;241m.\u001b[39mcompile(\u001b[38;5;124mr\u001b[39m\u001b[38;5;124m\"\u001b[39m\u001b[38;5;124m^([A-Z\u001b[39m\u001b[38;5;124m\\\u001b[39m\u001b[38;5;124ms\u001b[39m\u001b[38;5;124m'\u001b[39m\u001b[38;5;124m.-&][A-Z\u001b[39m\u001b[38;5;124m\\\u001b[39m\u001b[38;5;124ms0-9\u001b[39m\u001b[38;5;124m'\u001b[39m\u001b[38;5;124m.-&]*?)\u001b[39m\u001b[38;5;124m\\\u001b[39m\u001b[38;5;124ms*\u001b[39m\u001b[38;5;124m\\\u001b[39m\u001b[38;5;124m*.*\u001b[39m\u001b[38;5;124m\"\u001b[39m),\n\u001b[1;32m     91\u001b[0m     \n\u001b[1;32m     92\u001b[0m     \u001b[38;5;66;03m# Pattern for \"MERCHANT NAME # JUNK\"\u001b[39;00m\n\u001b[1;32m     93\u001b[0m     re\u001b[38;5;241m.\u001b[39mcompile(\u001b[38;5;124mr\u001b[39m\u001b[38;5;124m\"\u001b[39m\u001b[38;5;124m^([A-Z\u001b[39m\u001b[38;5;124m\\\u001b[39m\u001b[38;5;124ms\u001b[39m\u001b[38;5;124m'\u001b[39m\u001b[38;5;124m.-&][A-Z\u001b[39m\u001b[38;5;124m\\\u001b[39m\u001b[38;5;124ms0-9\u001b[39m\u001b[38;5;124m'\u001b[39m\u001b[38;5;124m.-&]*?)\u001b[39m\u001b[38;5;124m\\\u001b[39m\u001b[38;5;124ms*#.*\u001b[39m\u001b[38;5;124m\"\u001b[39m),\n\u001b[1;32m     94\u001b[0m     \n\u001b[1;32m     95\u001b[0m     \u001b[38;5;66;03m# Pattern for \"MERCHANT NAME - Exp\"\u001b[39;00m\n\u001b[1;32m     96\u001b[0m     re\u001b[38;5;241m.\u001b[39mcompile(\u001b[38;5;124mr\u001b[39m\u001b[38;5;124m\"\u001b[39m\u001b[38;5;124m^([A-Z\u001b[39m\u001b[38;5;124m\\\u001b[39m\u001b[38;5;124ms\u001b[39m\u001b[38;5;124m'\u001b[39m\u001b[38;5;124m.-&][A-Z\u001b[39m\u001b[38;5;124m\\\u001b[39m\u001b[38;5;124ms0-9\u001b[39m\u001b[38;5;124m'\u001b[39m\u001b[38;5;124m.-&]*?)\u001b[39m\u001b[38;5;124m\\\u001b[39m\u001b[38;5;124ms+-\u001b[39m\u001b[38;5;124m\\\u001b[39m\u001b[38;5;124ms+EXP.*\u001b[39m\u001b[38;5;124m\"\u001b[39m),\n\u001b[1;32m     97\u001b[0m ]\n",
      "File \u001b[0;32m/opt/conda/lib/python3.11/re/__init__.py:227\u001b[0m, in \u001b[0;36mcompile\u001b[0;34m(pattern, flags)\u001b[0m\n\u001b[1;32m    225\u001b[0m \u001b[38;5;28;01mdef\u001b[39;00m \u001b[38;5;21mcompile\u001b[39m(pattern, flags\u001b[38;5;241m=\u001b[39m\u001b[38;5;241m0\u001b[39m):\n\u001b[1;32m    226\u001b[0m     \u001b[38;5;124m\"\u001b[39m\u001b[38;5;124mCompile a regular expression pattern, returning a Pattern object.\u001b[39m\u001b[38;5;124m\"\u001b[39m\n\u001b[0;32m--> 227\u001b[0m     \u001b[38;5;28;01mreturn\u001b[39;00m \u001b[43m_compile\u001b[49m\u001b[43m(\u001b[49m\u001b[43mpattern\u001b[49m\u001b[43m,\u001b[49m\u001b[43m \u001b[49m\u001b[43mflags\u001b[49m\u001b[43m)\u001b[49m\n",
      "File \u001b[0;32m/opt/conda/lib/python3.11/re/__init__.py:294\u001b[0m, in \u001b[0;36m_compile\u001b[0;34m(pattern, flags)\u001b[0m\n\u001b[1;32m    288\u001b[0m     \u001b[38;5;28;01mimport\u001b[39;00m \u001b[38;5;21;01mwarnings\u001b[39;00m\n\u001b[1;32m    289\u001b[0m     warnings\u001b[38;5;241m.\u001b[39mwarn(\u001b[38;5;124m\"\u001b[39m\u001b[38;5;124mThe re.TEMPLATE/re.T flag is deprecated \u001b[39m\u001b[38;5;124m\"\u001b[39m\n\u001b[1;32m    290\u001b[0m               \u001b[38;5;124m\"\u001b[39m\u001b[38;5;124mas it is an undocumented flag \u001b[39m\u001b[38;5;124m\"\u001b[39m\n\u001b[1;32m    291\u001b[0m               \u001b[38;5;124m\"\u001b[39m\u001b[38;5;124mwithout an obvious purpose. \u001b[39m\u001b[38;5;124m\"\u001b[39m\n\u001b[1;32m    292\u001b[0m               \u001b[38;5;124m\"\u001b[39m\u001b[38;5;124mDon\u001b[39m\u001b[38;5;124m'\u001b[39m\u001b[38;5;124mt use it.\u001b[39m\u001b[38;5;124m\"\u001b[39m,\n\u001b[1;32m    293\u001b[0m               \u001b[38;5;167;01mDeprecationWarning\u001b[39;00m)\n\u001b[0;32m--> 294\u001b[0m p \u001b[38;5;241m=\u001b[39m \u001b[43m_compiler\u001b[49m\u001b[38;5;241;43m.\u001b[39;49m\u001b[43mcompile\u001b[49m\u001b[43m(\u001b[49m\u001b[43mpattern\u001b[49m\u001b[43m,\u001b[49m\u001b[43m \u001b[49m\u001b[43mflags\u001b[49m\u001b[43m)\u001b[49m\n\u001b[1;32m    295\u001b[0m \u001b[38;5;28;01mif\u001b[39;00m \u001b[38;5;129;01mnot\u001b[39;00m (flags \u001b[38;5;241m&\u001b[39m DEBUG):\n\u001b[1;32m    296\u001b[0m     \u001b[38;5;28;01mif\u001b[39;00m \u001b[38;5;28mlen\u001b[39m(_cache) \u001b[38;5;241m>\u001b[39m\u001b[38;5;241m=\u001b[39m _MAXCACHE:\n\u001b[1;32m    297\u001b[0m         \u001b[38;5;66;03m# Drop the oldest item\u001b[39;00m\n",
      "File \u001b[0;32m/opt/conda/lib/python3.11/re/_compiler.py:745\u001b[0m, in \u001b[0;36mcompile\u001b[0;34m(p, flags)\u001b[0m\n\u001b[1;32m    743\u001b[0m \u001b[38;5;28;01mif\u001b[39;00m isstring(p):\n\u001b[1;32m    744\u001b[0m     pattern \u001b[38;5;241m=\u001b[39m p\n\u001b[0;32m--> 745\u001b[0m     p \u001b[38;5;241m=\u001b[39m \u001b[43m_parser\u001b[49m\u001b[38;5;241;43m.\u001b[39;49m\u001b[43mparse\u001b[49m\u001b[43m(\u001b[49m\u001b[43mp\u001b[49m\u001b[43m,\u001b[49m\u001b[43m \u001b[49m\u001b[43mflags\u001b[49m\u001b[43m)\u001b[49m\n\u001b[1;32m    746\u001b[0m \u001b[38;5;28;01melse\u001b[39;00m:\n\u001b[1;32m    747\u001b[0m     pattern \u001b[38;5;241m=\u001b[39m \u001b[38;5;28;01mNone\u001b[39;00m\n",
      "File \u001b[0;32m/opt/conda/lib/python3.11/re/_parser.py:989\u001b[0m, in \u001b[0;36mparse\u001b[0;34m(str, flags, state)\u001b[0m\n\u001b[1;32m    986\u001b[0m state\u001b[38;5;241m.\u001b[39mflags \u001b[38;5;241m=\u001b[39m flags\n\u001b[1;32m    987\u001b[0m state\u001b[38;5;241m.\u001b[39mstr \u001b[38;5;241m=\u001b[39m \u001b[38;5;28mstr\u001b[39m\n\u001b[0;32m--> 989\u001b[0m p \u001b[38;5;241m=\u001b[39m \u001b[43m_parse_sub\u001b[49m\u001b[43m(\u001b[49m\u001b[43msource\u001b[49m\u001b[43m,\u001b[49m\u001b[43m \u001b[49m\u001b[43mstate\u001b[49m\u001b[43m,\u001b[49m\u001b[43m \u001b[49m\u001b[43mflags\u001b[49m\u001b[43m \u001b[49m\u001b[38;5;241;43m&\u001b[39;49m\u001b[43m \u001b[49m\u001b[43mSRE_FLAG_VERBOSE\u001b[49m\u001b[43m,\u001b[49m\u001b[43m \u001b[49m\u001b[38;5;241;43m0\u001b[39;49m\u001b[43m)\u001b[49m\n\u001b[1;32m    990\u001b[0m p\u001b[38;5;241m.\u001b[39mstate\u001b[38;5;241m.\u001b[39mflags \u001b[38;5;241m=\u001b[39m fix_flags(\u001b[38;5;28mstr\u001b[39m, p\u001b[38;5;241m.\u001b[39mstate\u001b[38;5;241m.\u001b[39mflags)\n\u001b[1;32m    992\u001b[0m \u001b[38;5;28;01mif\u001b[39;00m source\u001b[38;5;241m.\u001b[39mnext \u001b[38;5;129;01mis\u001b[39;00m \u001b[38;5;129;01mnot\u001b[39;00m \u001b[38;5;28;01mNone\u001b[39;00m:\n",
      "File \u001b[0;32m/opt/conda/lib/python3.11/re/_parser.py:464\u001b[0m, in \u001b[0;36m_parse_sub\u001b[0;34m(source, state, verbose, nested)\u001b[0m\n\u001b[1;32m    462\u001b[0m start \u001b[38;5;241m=\u001b[39m source\u001b[38;5;241m.\u001b[39mtell()\n\u001b[1;32m    463\u001b[0m \u001b[38;5;28;01mwhile\u001b[39;00m \u001b[38;5;28;01mTrue\u001b[39;00m:\n\u001b[0;32m--> 464\u001b[0m     itemsappend(\u001b[43m_parse\u001b[49m\u001b[43m(\u001b[49m\u001b[43msource\u001b[49m\u001b[43m,\u001b[49m\u001b[43m \u001b[49m\u001b[43mstate\u001b[49m\u001b[43m,\u001b[49m\u001b[43m \u001b[49m\u001b[43mverbose\u001b[49m\u001b[43m,\u001b[49m\u001b[43m \u001b[49m\u001b[43mnested\u001b[49m\u001b[43m \u001b[49m\u001b[38;5;241;43m+\u001b[39;49m\u001b[43m \u001b[49m\u001b[38;5;241;43m1\u001b[39;49m\u001b[43m,\u001b[49m\n\u001b[1;32m    465\u001b[0m \u001b[43m                       \u001b[49m\u001b[38;5;129;43;01mnot\u001b[39;49;00m\u001b[43m \u001b[49m\u001b[43mnested\u001b[49m\u001b[43m \u001b[49m\u001b[38;5;129;43;01mand\u001b[39;49;00m\u001b[43m \u001b[49m\u001b[38;5;129;43;01mnot\u001b[39;49;00m\u001b[43m \u001b[49m\u001b[43mitems\u001b[49m\u001b[43m)\u001b[49m)\n\u001b[1;32m    466\u001b[0m     \u001b[38;5;28;01mif\u001b[39;00m \u001b[38;5;129;01mnot\u001b[39;00m sourcematch(\u001b[38;5;124m\"\u001b[39m\u001b[38;5;124m|\u001b[39m\u001b[38;5;124m\"\u001b[39m):\n\u001b[1;32m    467\u001b[0m         \u001b[38;5;28;01mbreak\u001b[39;00m\n",
      "File \u001b[0;32m/opt/conda/lib/python3.11/re/_parser.py:872\u001b[0m, in \u001b[0;36m_parse\u001b[0;34m(source, state, verbose, nested, first)\u001b[0m\n\u001b[1;32m    869\u001b[0m     group \u001b[38;5;241m=\u001b[39m \u001b[38;5;28;01mNone\u001b[39;00m\n\u001b[1;32m    870\u001b[0m sub_verbose \u001b[38;5;241m=\u001b[39m ((verbose \u001b[38;5;129;01mor\u001b[39;00m (add_flags \u001b[38;5;241m&\u001b[39m SRE_FLAG_VERBOSE)) \u001b[38;5;129;01mand\u001b[39;00m\n\u001b[1;32m    871\u001b[0m                \u001b[38;5;129;01mnot\u001b[39;00m (del_flags \u001b[38;5;241m&\u001b[39m SRE_FLAG_VERBOSE))\n\u001b[0;32m--> 872\u001b[0m p \u001b[38;5;241m=\u001b[39m \u001b[43m_parse_sub\u001b[49m\u001b[43m(\u001b[49m\u001b[43msource\u001b[49m\u001b[43m,\u001b[49m\u001b[43m \u001b[49m\u001b[43mstate\u001b[49m\u001b[43m,\u001b[49m\u001b[43m \u001b[49m\u001b[43msub_verbose\u001b[49m\u001b[43m,\u001b[49m\u001b[43m \u001b[49m\u001b[43mnested\u001b[49m\u001b[43m \u001b[49m\u001b[38;5;241;43m+\u001b[39;49m\u001b[43m \u001b[49m\u001b[38;5;241;43m1\u001b[39;49m\u001b[43m)\u001b[49m\n\u001b[1;32m    873\u001b[0m \u001b[38;5;28;01mif\u001b[39;00m \u001b[38;5;129;01mnot\u001b[39;00m source\u001b[38;5;241m.\u001b[39mmatch(\u001b[38;5;124m\"\u001b[39m\u001b[38;5;124m)\u001b[39m\u001b[38;5;124m\"\u001b[39m):\n\u001b[1;32m    874\u001b[0m     \u001b[38;5;28;01mraise\u001b[39;00m source\u001b[38;5;241m.\u001b[39merror(\u001b[38;5;124m\"\u001b[39m\u001b[38;5;124mmissing ), unterminated subpattern\u001b[39m\u001b[38;5;124m\"\u001b[39m,\n\u001b[1;32m    875\u001b[0m                        source\u001b[38;5;241m.\u001b[39mtell() \u001b[38;5;241m-\u001b[39m start)\n",
      "File \u001b[0;32m/opt/conda/lib/python3.11/re/_parser.py:464\u001b[0m, in \u001b[0;36m_parse_sub\u001b[0;34m(source, state, verbose, nested)\u001b[0m\n\u001b[1;32m    462\u001b[0m start \u001b[38;5;241m=\u001b[39m source\u001b[38;5;241m.\u001b[39mtell()\n\u001b[1;32m    463\u001b[0m \u001b[38;5;28;01mwhile\u001b[39;00m \u001b[38;5;28;01mTrue\u001b[39;00m:\n\u001b[0;32m--> 464\u001b[0m     itemsappend(\u001b[43m_parse\u001b[49m\u001b[43m(\u001b[49m\u001b[43msource\u001b[49m\u001b[43m,\u001b[49m\u001b[43m \u001b[49m\u001b[43mstate\u001b[49m\u001b[43m,\u001b[49m\u001b[43m \u001b[49m\u001b[43mverbose\u001b[49m\u001b[43m,\u001b[49m\u001b[43m \u001b[49m\u001b[43mnested\u001b[49m\u001b[43m \u001b[49m\u001b[38;5;241;43m+\u001b[39;49m\u001b[43m \u001b[49m\u001b[38;5;241;43m1\u001b[39;49m\u001b[43m,\u001b[49m\n\u001b[1;32m    465\u001b[0m \u001b[43m                       \u001b[49m\u001b[38;5;129;43;01mnot\u001b[39;49;00m\u001b[43m \u001b[49m\u001b[43mnested\u001b[49m\u001b[43m \u001b[49m\u001b[38;5;129;43;01mand\u001b[39;49;00m\u001b[43m \u001b[49m\u001b[38;5;129;43;01mnot\u001b[39;49;00m\u001b[43m \u001b[49m\u001b[43mitems\u001b[49m\u001b[43m)\u001b[49m)\n\u001b[1;32m    466\u001b[0m     \u001b[38;5;28;01mif\u001b[39;00m \u001b[38;5;129;01mnot\u001b[39;00m sourcematch(\u001b[38;5;124m\"\u001b[39m\u001b[38;5;124m|\u001b[39m\u001b[38;5;124m\"\u001b[39m):\n\u001b[1;32m    467\u001b[0m         \u001b[38;5;28;01mbreak\u001b[39;00m\n",
      "File \u001b[0;32m/opt/conda/lib/python3.11/re/_parser.py:621\u001b[0m, in \u001b[0;36m_parse\u001b[0;34m(source, state, verbose, nested, first)\u001b[0m\n\u001b[1;32m    619\u001b[0m     \u001b[38;5;28;01mif\u001b[39;00m hi \u001b[38;5;241m<\u001b[39m lo:\n\u001b[1;32m    620\u001b[0m         msg \u001b[38;5;241m=\u001b[39m \u001b[38;5;124m\"\u001b[39m\u001b[38;5;124mbad character range \u001b[39m\u001b[38;5;132;01m%s\u001b[39;00m\u001b[38;5;124m-\u001b[39m\u001b[38;5;132;01m%s\u001b[39;00m\u001b[38;5;124m\"\u001b[39m \u001b[38;5;241m%\u001b[39m (this, that)\n\u001b[0;32m--> 621\u001b[0m         \u001b[38;5;28;01mraise\u001b[39;00m source\u001b[38;5;241m.\u001b[39merror(msg, \u001b[38;5;28mlen\u001b[39m(this) \u001b[38;5;241m+\u001b[39m \u001b[38;5;241m1\u001b[39m \u001b[38;5;241m+\u001b[39m \u001b[38;5;28mlen\u001b[39m(that))\n\u001b[1;32m    622\u001b[0m     setappend((RANGE, (lo, hi)))\n\u001b[1;32m    623\u001b[0m \u001b[38;5;28;01melse\u001b[39;00m:\n",
      "\u001b[0;31merror\u001b[0m: bad character range *-& at position 22"
     ]
    }
   ],
   "source": [
    "REGEX_POST = [\n",
    "    # --- Specific/Tricky Rules ---\n",
    "    # This greedily finds the *last* instance of GODADDY.COM or GODADD\n",
    "    re.compile(r\".*(GODADDY\\.COM|GODADD)\\b.*\"),\n",
    "    \n",
    "    # Rules for 'PAYPAL [MERCHANT] INTERNET PAYMENT' format\n",
    "    re.compile(r\"^PAYPAL\\s+([A-Z\\s0-9'.*-&]+?)\\s+(?:INTERNET\\s+PAYMENT|COID.*)?.*$\"),\n",
    "\n",
    "    # Rules for '[MERCHANT] ... PAYPAL' format\n",
    "    re.compile(r\"^([A-Z\\s0-9'.*-&]+?)\\s+PAYPAL.*$\"),\n",
    "\n",
    "    # Handle 'PAYPAL *... MERCHANT' (from INST XFER)\n",
    "    re.compile(r\"^PAYPAL\\s*\\*+\\s*([A-Z\\s0-9'.-&]+).*\"),\n",
    "    # Handle 'PAYPAL : MERCHANT' (from INST XFER / ID:)\n",
    "    re.compile(r\"^PAYPAL\\s*:\\s*([A-Z\\s0-9'.-&]+).*\"),\n",
    "\n",
    "    # --- NEW: High-Frequency Merchants (Capture prefix as merchant) ---\n",
    "    re.compile(r\"^(7-ELEVEN|7\\s+11)\\s*\\*?#?.*\"),\n",
    "    re.compile(r\"^(DDBR)\\s*\\*?#?.*\"), \n",
    "    re.compile(r\"^(AMZN\\s*MKTP|AMAZON\\s*MKTPLACE|AMAZON\\.COM)\\b.*\"),\n",
    "    re.compile(r\"^(WAL-MART|WM\\s+SUPER)\\b.*\"),\n",
    "    re.compile(r\"^(UBER|LYFT)\\b.*\"),\n",
    "    re.compile(r\"^(DOORDASH|GRUBHUB)\\b.*\"),\n",
    "    re.compile(r\"^(STARBUCKS|SBUX)\\b.*\"),\n",
    "    re.compile(r\"^(MCDONALD'S|MCDONALDS)\\b.*\"),\n",
    "    re.compile(r\"^(TARGET)\\b.*\"),\n",
    "    re.compile(r\"^(COSTCO)\\b.*\"),\n",
    "\n",
    "    # --- Standardized Prefix Rules (Capture *after* prefix) ---\n",
    "    re.compile(r\"^ACI\\s*\\*?\\s*([A-Z\\s0-9'.-&]+).*\"),\n",
    "    re.compile(r\"^KING\\s*#\\s*([A-Z\\s0-9'.-&]+).*\"),\n",
    "    re.compile(r\"^ACE\\s*\\*?\\s*([A-Z\\s0-9'.-&]+).*\"),\n",
    "    re.compile(r\"^ZG\\s*\\*?\\s*([A-Z\\s0-9'.-&]+).*\"),\n",
    "    re.compile(r\"^YSI\\s*\\*?\\s*([A-Z\\s0-9'.-&]+).*\"),\n",
    "    re.compile(r\"^DD\\s*\\*?\\s*([A-Z\\s0-9'.-&]+).*\"),\n",
    "    re.compile(r\"^CCI\\s*\\*?\\s*([A-Z\\s0-9'.-&]+).*\"),\n",
    "    re.compile(r\"^PY\\s*\\*?\\s*([A-Z\\s0-9'.-&]+).*\"),\n",
    "    re.compile(r\"^ANC\\s*\\*?\\s*([A-Z\\s0-9'.-&]+).*\"),\n",
    "    re.compile(r\"^J2\\s*\\*?\\s*([A-Z\\s0-9'.-&]+).*\"),\n",
    "    re.compile(r\"^OSP\\s*\\*?\\s*([A-Z\\s0-9'.-&]+).*\"),\n",
    "    re.compile(r\"^PL\\s*\\*?\\s*([A-Z\\s0-9'.-&]+).*\"),\n",
    "    re.compile(r\"^RTI\\s*\\*?\\s*([A-Z\\s0-9'.-&]+).*\"),\n",
    "    re.compile(r\"^FSP\\s*\\*?\\s*([A-Z\\s0-9'.-&]+).*\"),\n",
    "    re.compile(r\"^PT\\s*\\*?\\s*([A-Z\\s0-9'.-&]+).*\"),\n",
    "    re.compile(r\"^PP\\s*\\*?\\s*([A-Z\\s0-9'.-&]+).*\"),\n",
    "    re.compile(r\"^CHR\\s*\\*?\\s*([A-Z\\s0-9'.-&]+).*\"),\n",
    "    re.compile(r\"^USA\\s*\\*?\\s*([A-Z\\s0-9'.-&]+).*\"),\n",
    "    re.compile(r\"^SP\\s*\\*?\\s*([A-Z\\s0-9'.-&]+).*\"),\n",
    "    \n",
    "    # === TST RULES (Precise, non-greedy) ===\n",
    "    re.compile(r\"^(?:POS\\s+)?TST\\s*\\*?\\s*([A-Z\\s0-9'.-&]+?)\\s+[A-Z]{2,}\\s+[A-Z]{2,}\\s+ON\\s*##.*\"),\n",
    "    re.compile(r\"^(?:POS\\s+)?TST\\s*\\*?\\s*([A-Z\\s0-9'.-&]+?)\\s+[A-Z]{2,}\\s+ON\\s*##.*\"),\n",
    "    # NEW: Stop at City, ST\n",
    "    re.compile(r\"^(?:POS\\s+)?TST\\s*\\*?\\s*([A-Z\\s0-9'.-&]+?)\\s+[A-Z]{2,}\\s+[A-Z]{2,}\\b.*\"),\n",
    "    # NEW: Stop at City\n",
    "    re.compile(r\"^(?:POS\\s+)?TST\\s*\\*?\\s*([A-Z\\s0-9'.-&]+?)\\s+[A-Z]{2,}\\b.*\"),\n",
    "    # Fallback: (POS) TST* MERCHANT... (Greedy)\n",
    "    re.compile(r\"^(?:POS\\s+)?TST\\s*\\*?\\s*([A-Z\\s0-9'.-&]+).*\"), \n",
    "    \n",
    "    # === SQ RULES (Precise, non-greedy) ===\n",
    "    # NEW: Stop at City, ST\n",
    "    re.compile(r\"^SQ\\s*\\*?\\s*([A-Z\\s0-9'.-&]+?)\\s+[A-Z]{2,}\\s+[A-Z]{2,}\\b.*\"),\n",
    "    # NEW: Stop at City\n",
    "    re.compile(r\"^SQ\\s*\\*?\\s*([A-Z\\s0-9'.-&]+?)\\s+[A-Z]{2,}\\b.*\"),\n",
    "    # Fallback: SQ* MERCHANT... (Greedy)\n",
    "    re.compile(r\"^SQ\\s*\\*?\\s*([A-Z\\s0-9'.-&]+).*\"),\n",
    "    \n",
    "    re.compile(r\"^CKE\\s*\\*?\\s*([A-Z\\s0-9'.-&]+).*\"),\n",
    "    re.compile(r\"^SP\\+AFF\\s*\\*?\\s*([A-Z\\s0-9'.-&]+).*\"),\n",
    "    re.compile(r\"^IC\\s*\\*?\\s*([A-Z\\s0-9'.-&]+).*\"), \n",
    "    re.compile(r\"^SIE\\s*\\*?\\s*([A-Z\\s0-9'.-&]+).*\"),\n",
    "    \n",
    "    # Generic PAYPAL rule, catches PAYPAL*MERCHANT\n",
    "    re.compile(r\"^PAYPAL\\s*\\*?\\s*([A-Z\\s0-9'.-&]+).*\"), \n",
    "\n",
    "    # --- Specific '*' prefix rules (already correct) ---\n",
    "    re.compile(r\"^AMS\\s*\\*+\\s*([A-Z\\s0-9'.-&]+).*\"),\n",
    "    re.compile(r\"^ZSK\\s*\\*+ZSK\\s*\\*+([A-Z\\s0-9'.-&]+).*\"),\n",
    "    re.compile(r\"^ZSK\\s*\\*+\\s*([A-Z\\s0-9'.-&]+).*\"),\n",
    "    re.compile(r\"^CCM\\s*\\*+\\s*([A-Z\\s0-9'.-&]+).*\"),\n",
    "    re.compile(r\"^ZIP\\.CO\\s*\\*+\\s*([A-Z\\s0-9'.-&]+).*\"),\n",
    "    re.compile(r\"^XSOLLA\\s*\\*+\\s*([A-Z\\s0-9'.-&]+).*\"),\n",
    "    re.compile(r\"^NOR\\s*\\*+\\s*([A-Z\\s0-9'.-&]+).*\"),\n",
    "\n",
    "    \n",
    "    # --- Generic Fallback Rules ---\n",
    "    # These rules try to find the merchant *before* a common delimiter.\n",
    "    \n",
    "    # Pattern for \"MERCHANT NAME * JUNK\"\n",
    "    re.compile(r\"^([A-Z\\s'.-&][A-Z\\s0-9'.-&]*?)\\s*\\*.*\"),\n",
    "    \n",
    "    # Pattern for \"MERCHANT NAME # JUNK\"\n",
    "    re.compile(r\"^([A-Z\\s'.-&][A-Z\\s0-9'.-&]*?)\\s*#.*\"),\n",
    "    \n",
    "    # Pattern for \"MERCHANT NAME - Exp\"\n",
    "    re.compile(r\"^([A-Z\\s'.-&][A-Z\\s0-9'.-&]*?)\\s+-\\s+EXP.*\"),\n",
    "]"
   ]
  },
  {
   "cell_type": "markdown",
   "metadata": {},
   "source": [
    "## 3. Apply Regex"
   ]
  },
  {
   "cell_type": "code",
   "execution_count": null,
   "metadata": {},
   "outputs": [],
   "source": [
    "%%time\n",
    "# First pass\n",
    "memos = df['memo'].astype(str).fillna('').str.upper()\n",
    "memos = memos.str.replace(r\"\\u00A0\", \" \", regex=True)\n",
    "memos = memos.str.replace(r\"\\s{2,}\", \" \", regex=True)\n",
    "memos = memos.str.strip()\n",
    "\n",
    "for pattern, repl in REGEX_PRE:\n",
    "    memos = memos.str.replace(pattern, repl, regex=True)\n",
    "\n",
    "memos = memos.str.replace(NOISE_WORDS_REGEX, \" \", regex=True)\n",
    "memos = memos.str.replace(r\"\\s{2,}\", \" \", regex=True)\n",
    "memos = memos.str.replace(r\"^[\\s-]+|[\\s-]+$\", \"\", regex=True)\n",
    "df['memo_pre'] = memos"
   ]
  },
  {
   "cell_type": "code",
   "execution_count": null,
   "metadata": {},
   "outputs": [],
   "source": [
    "%%time\n",
    "# Second pass\n",
    "def apply_regex(memo):\n",
    "    for pattern in REGEX_POST:\n",
    "        match = pattern.match(memo)\n",
    "        if match:\n",
    "            return match.group(1).strip()\n",
    "    return memo\n",
    "df['memo_post'] = df['memo_pre'].apply(apply_regex)"
   ]
  },
  {
   "cell_type": "code",
   "execution_count": null,
   "metadata": {},
   "outputs": [],
   "source": [
    "# df.to_csv('memos_P1.csv', index=False) # Save to CSV"
   ]
  },
  {
   "cell_type": "code",
   "execution_count": null,
   "metadata": {
    "scrolled": true
   },
   "outputs": [],
   "source": [
    "# Manually check\n",
    "# unique_df = df.drop_duplicates(subset='memo_post')\n",
    "# result = (\n",
    "#     unique_df[unique_df['memo_pre'].str.split().str.len() == 1]\n",
    "#     .sort_values(by='memo_pre')[100:200].to_string()\n",
    "# )\n",
    "# print(result)"
   ]
  },
  {
   "cell_type": "code",
   "execution_count": null,
   "metadata": {},
   "outputs": [],
   "source": [
    "df.sample(10).sort_values(by='memo_post')"
   ]
  },
  {
   "cell_type": "code",
   "execution_count": null,
   "metadata": {},
   "outputs": [],
   "source": [
    "merchants_clean = ['AMAZON', 'ALBERTSONS', 'ADOBE', 'SONIC', 'LIDL', 'AFTERPAY', 'ARBYS', 'ALDI', 'AUDIBLE', 'DOLLARTREE', 'LOWES', 'KROGER', 'DUNKIN', 'HP', 'PUBLIX', 'FRYS', 'SAFEWAY', 'DOORDASH', 'GOOGLE', 'WALMART', 'CHICK-FIL-A', 'SAMSCLUB', 'MICROSOFT',\n",
    "             'UBER', 'ULTA', 'H-E-B', 'VONS', 'CMSVEND', 'INSTACART', 'LYFT', 'TJMAXX', 'PETSMART', 'THORNTONS', 'PAYPAL', 'MAVERIK', 'WENDYS', 'MARSHALLS', 'ALLSUPS', 'SUNPASS', 'QVC', 'PRIZEPICKS', 'DDBR']\n",
    "\n",
    "merchants_punc = [\"DENNY'S\", 'WAL-MART', \"LOWE'S\", 'DOLLAR-GENERAL', '7-ELEVEN', \"WENDY'S\", \"ZAXBY'S\", 'FRYS-FOOD-DRG', \"BUC-EE'S\",\n",
    "                 \"BASHAS'\"]\n",
    "\n",
    "merchants_sites = ['AMAZON.COM', 'GODADDY.COM', 'CCBILL.COM']\n",
    "\n",
    "merchant_cats = ['', 'OVERDRAFT', 'WITHDRAWAL']\n",
    "\n",
    "multiples = [['AMAZON', 'AMAZON.COM', 'AMAZON PRIME'], ['LOWES', \"LOWE'S\"], ['BASKIN', 'DDBR']]\n",
    "\n",
    "merchants = merchants_clean + merchants_punc + merchants_sites + merchant_cats"
   ]
  },
  {
   "cell_type": "code",
   "execution_count": null,
   "metadata": {
    "scrolled": true
   },
   "outputs": [],
   "source": [
    "for memo in df[df['memo_post'].str.split().str.len() == 1]['memo_post'].value_counts().sort_values(ascending=False).index:\n",
    "    if memo not in merchants:\n",
    "        print(memo)"
   ]
  },
  {
   "cell_type": "code",
   "execution_count": null,
   "metadata": {},
   "outputs": [],
   "source": [
    "df[df['memo_post'] == '']#.iloc[0]['memo']"
   ]
  },
  {
   "cell_type": "code",
   "execution_count": null,
   "metadata": {},
   "outputs": [],
   "source": [
    "df[df['memo_pre'].str.contains('ELEVEN')].sample(10)"
   ]
  },
  {
   "cell_type": "code",
   "execution_count": null,
   "metadata": {},
   "outputs": [],
   "source": []
  },
  {
   "cell_type": "code",
   "execution_count": null,
   "metadata": {
    "scrolled": true
   },
   "outputs": [],
   "source": [
    "df[(df['memo_post'].str.contains('COM')) | (df['memo_post'].str.contains('WWW')) | (df['memo_post'].str.contains('HTTP'))].sample(30)['memo_post']#.iloc[0]['memo']"
   ]
  },
  {
   "cell_type": "code",
   "execution_count": null,
   "metadata": {},
   "outputs": [],
   "source": [
    "df[(df['memo_post'].str.contains('APPLE')) & (df['memo_post'].str.contains('COM'))]"
   ]
  },
  {
   "cell_type": "code",
   "execution_count": null,
   "metadata": {},
   "outputs": [],
   "source": [
    "regex_pattern = r\"^[A-Z0-9\\.]+\\s*\\*\\s*[A-Z\\s0-9'.-]+\"\n",
    "\n",
    "prefix_star_merchants = df[df['memo_pre'].str.contains(regex_pattern, na=False)]\n",
    "prefix_star_merchants"
   ]
  },
  {
   "cell_type": "code",
   "execution_count": null,
   "metadata": {},
   "outputs": [],
   "source": [
    "df[df['memo_post'] == '']"
   ]
  },
  {
   "cell_type": "code",
   "execution_count": null,
   "metadata": {
    "scrolled": true
   },
   "outputs": [],
   "source": [
    "print(prefix_star_merchants['memo_pre'].str.split('*').sample(100).sort_values().to_string())"
   ]
  },
  {
   "cell_type": "markdown",
   "metadata": {},
   "source": [
    "# Phase 2: Extract & Analyze N-Grams"
   ]
  },
  {
   "cell_type": "code",
   "execution_count": null,
   "metadata": {},
   "outputs": [],
   "source": [
    "df_p2 = pd.read_csv(\"memos_P1.csv\")"
   ]
  },
  {
   "cell_type": "code",
   "execution_count": null,
   "metadata": {},
   "outputs": [],
   "source": [
    "# print(df[df['memo_post'].str.len() < 4]['memo_post'].to_string())"
   ]
  },
  {
   "cell_type": "code",
   "execution_count": null,
   "metadata": {},
   "outputs": [],
   "source": [
    "def top_ngrams(corpus: pd.Series, n_gram_range: tuple, top_n: int = 200):\n",
    "    print(f\"Analyzing {n_gram_range} n-grams...\")\n",
    "    vec = CountVectorizer(\n",
    "        ngram_range=n_gram_range,\n",
    "        stop_words='english',\n",
    "        max_features=None  # We want to count all n-grams first\n",
    "    ).fit(corpus)\n",
    "    \n",
    "    # Get the counts\n",
    "    bag_of_words = vec.transform(corpus)\n",
    "    \n",
    "    # Sum the counts for each n-gram\n",
    "    sum_words = bag_of_words.sum(axis=0)\n",
    "    \n",
    "    # Map n-grams to their frequencies\n",
    "    words_freq = [\n",
    "        (word, sum_words[0, idx]) \n",
    "        for word, idx in vec.vocabulary_.items()\n",
    "    ]\n",
    "    \n",
    "    # Sort by frequency (descending)\n",
    "    words_freq = sorted(words_freq, key=lambda x: x[1], reverse=True)\n",
    "    return words_freq[:top_n]"
   ]
  },
  {
   "cell_type": "code",
   "execution_count": null,
   "metadata": {},
   "outputs": [],
   "source": [
    "%%time\n",
    "corpus = df_p2['memo_post'].fillna('')\n",
    "print(f\"Analyzing {len(corpus)} cleaned memos...\")\n",
    "# Get the top 200 of each n-gram type\n",
    "top_1grams = top_ngrams(corpus, n_gram_range=(1, 1), top_n=200)\n",
    "top_2grams = top_ngrams(corpus, n_gram_range=(2, 2), top_n=200)\n",
    "top_3grams = top_ngrams(corpus, n_gram_range=(3, 3), top_n=200)\n",
    "print(f\"--- N-gram Analysis Complete ---\")"
   ]
  },
  {
   "cell_type": "code",
   "execution_count": null,
   "metadata": {
    "scrolled": true
   },
   "outputs": [],
   "source": [
    "top_1grams.sort(key=lambda x: x[0])\n",
    "top_1 = [ngram for ngram, count if ngram not in NOISE_WORDS]"
   ]
  },
  {
   "cell_type": "code",
   "execution_count": null,
   "metadata": {
    "scrolled": true
   },
   "outputs": [],
   "source": [
    "top_2grams"
   ]
  },
  {
   "cell_type": "code",
   "execution_count": null,
   "metadata": {
    "scrolled": true
   },
   "outputs": [],
   "source": [
    "top_3grams"
   ]
  },
  {
   "cell_type": "code",
   "execution_count": null,
   "metadata": {},
   "outputs": [],
   "source": [
    "# Use 1 grams to find prefixes"
   ]
  }
 ],
 "metadata": {
  "kernelspec": {
   "display_name": "Python 3 (ipykernel)",
   "language": "python",
   "name": "python3"
  },
  "language_info": {
   "codemirror_mode": {
    "name": "ipython",
    "version": 3
   },
   "file_extension": ".py",
   "mimetype": "text/x-python",
   "name": "python",
   "nbconvert_exporter": "python",
   "pygments_lexer": "ipython3",
   "version": "3.11.9"
  }
 },
 "nbformat": 4,
 "nbformat_minor": 4
}
