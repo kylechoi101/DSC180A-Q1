{
 "cells": [
  {
   "cell_type": "markdown",
   "metadata": {},
   "source": [
    "# Phase 1: Preprocess with Regular Expressions"
   ]
  },
  {
   "cell_type": "markdown",
   "metadata": {},
   "source": [
    "## 1. Load Dataset\n"
   ]
  },
  {
   "cell_type": "code",
   "execution_count": 142,
   "metadata": {},
   "outputs": [],
   "source": [
    "from sklearn.feature_extraction.text import CountVectorizer\n",
    "import pandas as pd\n",
    "import time\n",
    "import sys\n",
    "import re"
   ]
  },
  {
   "cell_type": "code",
   "execution_count": 20,
   "metadata": {
    "scrolled": true
   },
   "outputs": [
    {
     "data": {
      "text/plain": [
       "528766"
      ]
     },
     "execution_count": 20,
     "metadata": {},
     "output_type": "execute_result"
    }
   ],
   "source": [
    "df = pd.read_csv(\"memos.csv\")\n",
    "row_count = df.size\n",
    "row_count"
   ]
  },
  {
   "cell_type": "code",
   "execution_count": 97,
   "metadata": {},
   "outputs": [
    {
     "data": {
      "text/plain": [
       "0                 AMZN DIGITAL*MVXXXXI11 07/24 PURCHASE\n",
       "1                           CASH APP*CAMERON XXXXXXXXXX\n",
       "2     CHECKCARD XXXX BTA IST YENI HAVA ISTANBUL XXXX...\n",
       "3     CHECKCARD XXXX TY TA UG HAMBURG XXXXXXXXXXXXXX...\n",
       "4                  CLASSY NAILS SPA SCOTTSDALE AZ 12/05\n",
       "5     DBT CRD XXXX 11/25/22 DJPIBX5W 365 MARKET 888 ...\n",
       "6     DDA PUR 4EF2IJR654V7 AMAZON.COM SEATTLE WA AMA...\n",
       "7     DEBIT CARD PURCHASE AT BULLDOGS - AURORA, AURO...\n",
       "8     Debit: Signature purchase from XXXXXXXXXXXXXXX...\n",
       "9                    PANERA BREAD #XXXXXX P COLUMBUS GA\n",
       "10    PET SUPERMARKE 01/22 #XXXXXXXXX PURCHASE PET S...\n",
       "11    POS Debit - Visa Check Card XXXX - BBAIKDABANG...\n",
       "12    POS Debit DICKSSPORTINGGOODS.COM DBT CRD XXXX ...\n",
       "13    POS PURCHASE TERMINAL XXXXXXXX KROGER #5 XXXXX...\n",
       "14      PROTECTION Brigit-com 59AF97A436FXXXX ACH DEBIT\n",
       "15    PURCHASE AUTHORIZED ON 02/02 99 RANCH #XXXX UN...\n",
       "16    PURCHASE AUTHORIZED ON 04/28 SAMS CLUB #XXXX X...\n",
       "17    PURCHASE AUTHORIZED ON 08/25 CIRCLE K XXXXX XX...\n",
       "18    PURCHASE AUTHORIZED ON 09/17 BODY ART FUSIO Cl...\n",
       "19    PURCHASE AUTHORIZED ON 11/11 ROSES EXPRESS STO...\n",
       "20    PURCHASE AUTHORIZED ON 11/11 SAN DIEGO MARKET ...\n",
       "21    THE BREW HA HA! TARPON SPRING FL             1...\n",
       "22    USA*INTEGRITY VEND 05-12 CONYERSGA XXXX DEBIT ...\n",
       "23    WALGREENS STORE 47 HOP HOPATCONG NJ  XXXXXX  1...\n",
       "24                     XXXXSubway XXXXX Old Hickory TN*\n",
       "Name: memo, dtype: object"
      ]
     },
     "execution_count": 97,
     "metadata": {},
     "output_type": "execute_result"
    }
   ],
   "source": [
    "df['memo'].sample(25).sort_values().reset_index(drop=True)"
   ]
  },
  {
   "cell_type": "markdown",
   "metadata": {},
   "source": [
    "## 2. Define Regex Rules"
   ]
  },
  {
   "cell_type": "code",
   "execution_count": 110,
   "metadata": {},
   "outputs": [],
   "source": [
    "# State abbreviations\n",
    "STATE_LIST = [\n",
    "    \"AL\", \"AK\", \"AZ\", \"AR\", \"CA\", \"CO\", \"CT\", \"DC\", \"DE\", \"FL\", \"GA\", \"HI\", \"IA\", \n",
    "    \"ID\", \"IL\", \"IN(?!\\\\s+N\\\\s+OUT\\\\s+BURGER)\", \"KS\", \"KY\", \"LA\", \"MA\", \"MD\", \"ME\", \"MI\", \"MN\", \"MO\", # Special expression for \"In N Out\"\n",
    "    \"MS\", \"MT\", \"NC\", \"ND\", \"NE\", \"NH\", \"NJ\", \"NM\", \"NV\", \"NY\", \"OH\", \"OK\", \n",
    "    \"OR\", \"PA\", \"RI\", \"SC\", \"SD\", \"TN\", \"TX\", \"UT\", \"VA\", \"VT\", \"WA\", \"WI\", \n",
    "    \"WV\", \"WY\"\n",
    "]\n",
    "STATE_REGEX = r\"\\b(\" + \"|\".join(STATE_LIST) + r\")\\b\"\n",
    "\n",
    "# Order of execution\n",
    "REGEX = [\n",
    "    # === 0) Normalize spaces first ===\n",
    "    (r\"\\u00A0\", \" \"),  # Non-breaking space\n",
    "    (r\"\\s{2,}\", \" \"),  # Multiple spaces\n",
    "\n",
    "    # === 0.5) Remove leading dates left over from boilerplate ===\n",
    "    (r\"^\\d{1,2}\\s+\", \" \"),\n",
    "\n",
    "    # === 1) “Authorized / Recurring” headers ===\n",
    "    (r\"\\b(?:RECURRING\\s+)?PAYMENT\\s+AUTHORIZED\\s+ON(?:\\s+\\d{2})?\\b\", \" \"),\n",
    "    (r\"\\bPURCHASE\\s+AUTHORIZED\\s+ON(?:\\s+\\d{2})?\\b\", \" \"),\n",
    "    (r\"\\bAUTHORIZED\\s+ON\\s+\\d{2}(?:\\s+\\d{2})?\\b\", \" \"),\n",
    "\n",
    "    # === 2) Card & mask boilerplate ===\n",
    "    (r\"\\b(?:VISA|MASTERCARD|AMEX|DISCOVER)\\s+CHECK\\s+CARD\\b\", \" \"),\n",
    "    (r\"\\bCHECK\\s*CARD\\b(?:\\s*X+)?\", \" \"),\n",
    "    (r\"\\bCARD(?:\\s+ENDING\\s+IN)?\\s*X{4}\\b\", \" \"),\n",
    "    (r\"\\b(?:DEBIT|CREDIT)\\s+CARD\\s+(?:PURCHASE|DEBIT|AUTH(?:ORIZATION)?)\\b\", \" \"),\n",
    "    (r\"\\bPOS\\s+(?:PURCHASE|WITHDRAWAL|DEBIT)\\b\", \" \"),\n",
    "    (r\"\\b(?:DDA\\s+)?PIN\\s+POS\\s+PUR\\b\", \" \"),\n",
    "    (r\"\\bCDX{4,}\\b\", \" \"),\n",
    "    (r\"\\b(?:X{2,}|X{2,}\\b)\", \" \"),\n",
    "    (r\"\\b[SP]X{6,}\\b\", \" \"),\n",
    "    (r\"\\bDEBIT\\s+CARD\\b\", \" \"),\n",
    "    (r\"\\bDEBIT\\s+PURCHASE\\b\", \" \"),\n",
    "    (r\"\\bPOS\\s+SIGNATURE\\b\", \" \"),\n",
    "    (r\"\\b(?:VISA|MASTERCARD|AMEX|DISCOVER|CARD|DATE|MCC)\\b\", \" \"),\n",
    "\n",
    "    # === 3) State + mask tails ===\n",
    "    (r\"\\b[A-Z]{2}\\s+[SP]?X{6,}\\s+CARD\\s+X{4}\\b\", \" \"),\n",
    "    (r\"\\b[A-Z]{2}\\s+[SP]?X{6,}\\b\", \" \"),\n",
    "\n",
    "    # === 4) Dates/times ===\n",
    "    (r\"\\b#?\\d{2}[/-]\\d{2}(?:[/-]\\d{2,4})?\\b\", \" \"),\n",
    "    (r\"\\b\\d{1,2}\\s+\\d{2}\\s+\\d{2}\\s*(?:AM|PM)\\b\", \" \"),\n",
    "    (r\"\\b\\d{1,2}:\\d{2}(?::\\d{2})?\\s*[AP]?\\b\", \" \"),\n",
    "\n",
    "    # === 5) Merchant-terminal boilerplate ===\n",
    "    (r\"\\bMERCHANT\\s+PURCHASE\\s+TERMINAL\\b(?:\\s+\\w+)?\", \" \"),\n",
    "    (r\"\\bPOINT\\s+OF\\s+SALE\\s+(?:WITHDRAWAL|DEBIT)\\b\", \" \"),\n",
    "    (r\"\\bPAYMENT\\s+CARD\\s+TARGET\\s+DEBIT\\s+CRD(?:\\s+ACH(?:\\s+TRAN)?)?\\b\", \" \"),\n",
    "    (r\"\\b(?:CRD|ACH)\\s+TRAN(?:\\s+PPD(?:\\s+ID)?)?\\b.*\", \" \"),\n",
    "    (r\"\\bCO\\s+ID\\s+\\w+\\s+(?:WEB|PPD)\\b.*\", \" \"),\n",
    "\n",
    "    # === 6) Misc tails ===\n",
    "    (r\"\\b(?:INST|PAYPAL)\\s+XFER\\b.*\", \" \"),\n",
    "    (r\"\\b(?:XFER|WEB)\\s+ID\\b.*\", \" \"),\n",
    "    (r\"\\b(?:ELECTRONIC|EXTERNAL)\\s+WITHDRAWAL\\b.*\", \" \"),\n",
    "    (r\"\\bWITHDRAWAL\\s+DEBIT\\s+CARD\\b(?:\\s+DEBIT)?\", \" \"),\n",
    "    (r\"\\bO(?:F)?\\s+SALE\\s+DEBIT\\s+L\\d{3}\\b.*\", \" \"),\n",
    "    (r\"\\b(?:ITEM|OVERDRAFT)\\s+FEE\\s+FOR\\s+ACTIVITY\\b.*\", \" \"),\n",
    "    (r\"\\b(?:GENESIS[-\\s]*FS\\s+CARD\\s+PAYMENT|SEARS\\s+BILL\\s+PAYMENT)\\b\", \" \"),\n",
    "    (r\"\\b(?:US|WA)\\s+CARD\\s+PURCHASE\\b\", \" \"),\n",
    "    (r\"\\b(?:USA|US)\\b$\", \" \"),\n",
    "\n",
    "    # === 7) Phone numbers ===\n",
    "    (r\"\\b(?:\\d{3}-\\d{3}-\\d{4}|XXX-XXX-XXXX)\\b\", \" \"),\n",
    "    (r\"\\b\\d{3}-\\d{4}\\b\", \" \"),\n",
    "    (r\"\\b(?:\\d{3}\\s*){1,2}\\d{3}\\s*\\d{3,4}\\b\", \" \"), # 800 123 4567\n",
    "\n",
    "    # === 8) URLs/domains ===\n",
    "    # Specific junk billing info is still good to remove\n",
    "    (r\"\\b(?:AMZN\\.COM\\/BILL|AMZNAMZN\\.COM\\s*BILL|AMAZON\\.COM\\/BILL|APPLE\\.COM\\/BILL|G\\.CO\\/HELPPAY#|SUPPORT\\.GOOGLE?)\\b\", \" \"),\n",
    "\n",
    "    # === 9) State abbreviations ===\n",
    "    (STATE_REGEX, \" \"),\n",
    "\n",
    "    # === 10) Final Tidy (Punctuation) ===\n",
    "    # Preserving * and # for Phase 2\n",
    "    (r\"[|%_=;\\\\/]+\", \" \"),\n",
    "    (r\"[-]{2,}\", \" \"),\n",
    "]"
   ]
  },
  {
   "cell_type": "markdown",
   "metadata": {},
   "source": [
    "## 3. Apply Regex"
   ]
  },
  {
   "cell_type": "code",
   "execution_count": 99,
   "metadata": {},
   "outputs": [
    {
     "name": "stdout",
     "output_type": "stream",
     "text": [
      "CPU times: user 16.6 s, sys: 42.7 ms, total: 16.7 s\n",
      "Wall time: 16.7 s\n"
     ]
    }
   ],
   "source": [
    "%%time\n",
    "memos = df['memo'].astype(str).fillna('').str.upper()\n",
    "memos = memos.str.replace(r\"\\u00A0\", \" \", regex=True)\n",
    "memos = memos.str.replace(r\"\\s{2,}\", \" \", regex=True)\n",
    "memos = memos.str.strip()\n",
    "\n",
    "for pattern, repl in REGEX:\n",
    "    memos = memos.str.replace(pattern, repl, regex=True)\n",
    "        \n",
    "memos = memos.str.replace(r\"\\s{2,}\", \" \", regex=True)\n",
    "memos = memos.str.replace(r\"^[\\s-]+|[\\s-]+$\", \"\", regex=True)\n",
    "df['memo_cleaned'] = memos"
   ]
  },
  {
   "cell_type": "code",
   "execution_count": 105,
   "metadata": {},
   "outputs": [],
   "source": [
    "# Add column for removed characters\n",
    "memo_size = df['memo'].str.len()\n",
    "cleaned_memo_size = df['memo_cleaned'].str.len()\n",
    "df['removed_chars'] = memo_size - cleaned_memo_size "
   ]
  },
  {
   "cell_type": "code",
   "execution_count": 112,
   "metadata": {},
   "outputs": [],
   "source": [
    "# Save to \"memos_P1.csv\"\n",
    "df.to_csv('memos_P1.csv', index=False) "
   ]
  },
  {
   "cell_type": "code",
   "execution_count": 137,
   "metadata": {},
   "outputs": [
    {
     "data": {
      "text/html": [
       "<div>\n",
       "<style scoped>\n",
       "    .dataframe tbody tr th:only-of-type {\n",
       "        vertical-align: middle;\n",
       "    }\n",
       "\n",
       "    .dataframe tbody tr th {\n",
       "        vertical-align: top;\n",
       "    }\n",
       "\n",
       "    .dataframe thead th {\n",
       "        text-align: right;\n",
       "    }\n",
       "</style>\n",
       "<table border=\"1\" class=\"dataframe\">\n",
       "  <thead>\n",
       "    <tr style=\"text-align: right;\">\n",
       "      <th></th>\n",
       "      <th>memo</th>\n",
       "      <th>memo_cleaned</th>\n",
       "      <th>removed_chars</th>\n",
       "    </tr>\n",
       "  </thead>\n",
       "  <tbody>\n",
       "    <tr>\n",
       "      <th>0</th>\n",
       "      <td>Amazon Prime*GY69S06 Amzn.com/bill WA        0...</td>\n",
       "      <td>AMAZON PRIME*GY69S06</td>\n",
       "      <td>30</td>\n",
       "    </tr>\n",
       "    <tr>\n",
       "      <th>1</th>\n",
       "      <td>Amazon.com*2P6G81WT0 Amzn.com/bill WA 08/10</td>\n",
       "      <td>AMAZON.COM*2P6G81WT0</td>\n",
       "      <td>23</td>\n",
       "    </tr>\n",
       "    <tr>\n",
       "      <th>2</th>\n",
       "      <td>BACKYARD BIRD SHOP #11 LAKE OSWEGO ORXXXXXX 08/15</td>\n",
       "      <td>BACKYARD BIRD SHOP #11 LAKE OSWEGO ORXXXXXX</td>\n",
       "      <td>6</td>\n",
       "    </tr>\n",
       "    <tr>\n",
       "      <th>3</th>\n",
       "      <td>GLAM-O-RAMA CLEANERS 10/02 PURCHASE</td>\n",
       "      <td>GLAM-O-RAMA CLEANERS PURCHASE</td>\n",
       "      <td>6</td>\n",
       "    </tr>\n",
       "    <tr>\n",
       "      <th>4</th>\n",
       "      <td>Jules Kae pay.amazon.co FL 08/19</td>\n",
       "      <td>JULES KAE PAY.AMAZON.</td>\n",
       "      <td>11</td>\n",
       "    </tr>\n",
       "    <tr>\n",
       "      <th>5</th>\n",
       "      <td>PURCHASE AUTHORIZED ON 03/26 AMZN Mktp US*164X...</td>\n",
       "      <td>26 AMZN MKTP US*164X7</td>\n",
       "      <td>70</td>\n",
       "    </tr>\n",
       "    <tr>\n",
       "      <th>6</th>\n",
       "      <td>PURCHASE AUTHORIZED ON 04/16 SQ *PUFF N PASS F...</td>\n",
       "      <td>16 SQ *PUFF N PASS FORT LAUDERDA</td>\n",
       "      <td>56</td>\n",
       "    </tr>\n",
       "    <tr>\n",
       "      <th>7</th>\n",
       "      <td>PURCHASE AUTHORIZED ON 10/03 Subway XXXXX Idah...</td>\n",
       "      <td>03 SUBWAY IDAHO FALLS</td>\n",
       "      <td>62</td>\n",
       "    </tr>\n",
       "    <tr>\n",
       "      <th>8</th>\n",
       "      <td>PURCHASE AUTHORIZED ON 10/11 ROSS STORES #XXXX...</td>\n",
       "      <td>11 ROSS STORES # SCHAUMBURG</td>\n",
       "      <td>60</td>\n",
       "    </tr>\n",
       "    <tr>\n",
       "      <th>9</th>\n",
       "      <td>RECURRING PAYMENT AUTHORIZED ON 10/17 APPLE.CO...</td>\n",
       "      <td>17</td>\n",
       "      <td>93</td>\n",
       "    </tr>\n",
       "  </tbody>\n",
       "</table>\n",
       "</div>"
      ],
      "text/plain": [
       "                                                memo  \\\n",
       "0  Amazon Prime*GY69S06 Amzn.com/bill WA        0...   \n",
       "1        Amazon.com*2P6G81WT0 Amzn.com/bill WA 08/10   \n",
       "2  BACKYARD BIRD SHOP #11 LAKE OSWEGO ORXXXXXX 08/15   \n",
       "3                GLAM-O-RAMA CLEANERS 10/02 PURCHASE   \n",
       "4                   Jules Kae pay.amazon.co FL 08/19   \n",
       "5  PURCHASE AUTHORIZED ON 03/26 AMZN Mktp US*164X...   \n",
       "6  PURCHASE AUTHORIZED ON 04/16 SQ *PUFF N PASS F...   \n",
       "7  PURCHASE AUTHORIZED ON 10/03 Subway XXXXX Idah...   \n",
       "8  PURCHASE AUTHORIZED ON 10/11 ROSS STORES #XXXX...   \n",
       "9  RECURRING PAYMENT AUTHORIZED ON 10/17 APPLE.CO...   \n",
       "\n",
       "                                  memo_cleaned  removed_chars  \n",
       "0                         AMAZON PRIME*GY69S06             30  \n",
       "1                         AMAZON.COM*2P6G81WT0             23  \n",
       "2  BACKYARD BIRD SHOP #11 LAKE OSWEGO ORXXXXXX              6  \n",
       "3                GLAM-O-RAMA CLEANERS PURCHASE              6  \n",
       "4                        JULES KAE PAY.AMAZON.             11  \n",
       "5                        26 AMZN MKTP US*164X7             70  \n",
       "6             16 SQ *PUFF N PASS FORT LAUDERDA             56  \n",
       "7                        03 SUBWAY IDAHO FALLS             62  \n",
       "8                  11 ROSS STORES # SCHAUMBURG             60  \n",
       "9                                           17             93  "
      ]
     },
     "execution_count": 137,
     "metadata": {},
     "output_type": "execute_result"
    }
   ],
   "source": [
    "df.sample(10).sort_values(by='memo').reset_index(drop=True)"
   ]
  },
  {
   "cell_type": "markdown",
   "metadata": {},
   "source": [
    "# Phase 2: Extract & Analyze N-Grams"
   ]
  },
  {
   "cell_type": "markdown",
   "metadata": {},
   "source": [
    "## 1. Load Updated Dataset"
   ]
  },
  {
   "cell_type": "code",
   "execution_count": 626,
   "metadata": {},
   "outputs": [],
   "source": [
    "df_p2 = pd.read_csv(\"memos_P1.csv\")"
   ]
  },
  {
   "cell_type": "markdown",
   "metadata": {},
   "source": [
    "## 2. Extract N-Grams"
   ]
  },
  {
   "cell_type": "code",
   "execution_count": 54,
   "metadata": {},
   "outputs": [],
   "source": []
  },
  {
   "cell_type": "markdown",
   "metadata": {},
   "source": [
    "## 3. Extract N-Grams"
   ]
  },
  {
   "cell_type": "code",
   "execution_count": null,
   "metadata": {},
   "outputs": [],
   "source": []
  }
 ],
 "metadata": {
  "kernelspec": {
   "display_name": "Python 3 (ipykernel)",
   "language": "python",
   "name": "python3"
  },
  "language_info": {
   "codemirror_mode": {
    "name": "ipython",
    "version": 3
   },
   "file_extension": ".py",
   "mimetype": "text/x-python",
   "name": "python",
   "nbconvert_exporter": "python",
   "pygments_lexer": "ipython3",
   "version": "3.11.9"
  }
 },
 "nbformat": 4,
 "nbformat_minor": 4
}
